{
 "cells": [
  {
   "cell_type": "code",
   "execution_count": 2,
   "id": "ea3a580b",
   "metadata": {},
   "outputs": [],
   "source": [
    "import pyspark\n",
    "from pyspark.sql import SparkSession\n",
    "from itertools import islice\n",
    "from pyspark.sql import Row\n",
    "import pyspark.sql.functions as f"
   ]
  },
  {
   "cell_type": "code",
   "execution_count": 3,
   "id": "bbd3e07d",
   "metadata": {},
   "outputs": [
    {
     "name": "stderr",
     "output_type": "stream",
     "text": [
      "23/03/13 17:30:04 WARN Utils: Your hostname, Prasanns-MacBook-Pro.local resolves to a loopback address: 127.0.0.1; using 192.168.1.23 instead (on interface en0)\n",
      "23/03/13 17:30:04 WARN Utils: Set SPARK_LOCAL_IP if you need to bind to another address\n",
      "Using Spark's default log4j profile: org/apache/spark/log4j-defaults.properties\n",
      "Setting default log level to \"WARN\".\n",
      "To adjust logging level use sc.setLogLevel(newLevel). For SparkR, use setLogLevel(newLevel).\n",
      "23/03/13 17:30:05 WARN NativeCodeLoader: Unable to load native-hadoop library for your platform... using builtin-java classes where applicable\n"
     ]
    }
   ],
   "source": [
    "spark = SparkSession.builder.appName('pyspark-training').master('local[2]').getOrCreate()"
   ]
  },
  {
   "cell_type": "markdown",
   "id": "b90cdf3a",
   "metadata": {},
   "source": [
    "### Reading Data from CSV"
   ]
  },
  {
   "cell_type": "code",
   "execution_count": 5,
   "id": "5c617f38",
   "metadata": {},
   "outputs": [],
   "source": [
    "df_cars = spark.sparkContext.textFile('USA_cars_datasets.csv')"
   ]
  },
  {
   "cell_type": "code",
   "execution_count": 6,
   "id": "cb77d44e",
   "metadata": {},
   "outputs": [
    {
     "name": "stderr",
     "output_type": "stream",
     "text": [
      "                                                                                \r"
     ]
    },
    {
     "data": {
      "text/plain": [
       "['row_id,price,brand,model,year,title_status,mileage,color,vin,lot,state,country,condition',\n",
       " '0,6300,toyota,cruiser,2008,clean vehicle,274117.0,black,  jtezu11f88k007763,159348797,new jersey, usa,10 days left',\n",
       " '1,2899,ford,se,2011,clean vehicle,190552.0,silver,  2fmdk3gc4bbb02217,166951262,tennessee, usa,6 days left',\n",
       " '2,5350,dodge,mpv,2018,clean vehicle,39590.0,silver,  3c4pdcgg5jt346413,167655728,georgia, usa,2 days left',\n",
       " '3,25000,ford,door,2014,clean vehicle,64146.0,blue,  1ftfw1et4efc23745,167753855,virginia, usa,22 hours left']"
      ]
     },
     "execution_count": 6,
     "metadata": {},
     "output_type": "execute_result"
    }
   ],
   "source": [
    "df_cars.take(5)"
   ]
  },
  {
   "cell_type": "code",
   "execution_count": 8,
   "id": "49da50e2",
   "metadata": {},
   "outputs": [
    {
     "data": {
      "text/plain": [
       "'row_id,price,brand,model,year,title_status,mileage,color,vin,lot,state,country,condition'"
      ]
     },
     "execution_count": 8,
     "metadata": {},
     "output_type": "execute_result"
    }
   ],
   "source": [
    "header = df_cars.first()\n",
    "header"
   ]
  },
  {
   "cell_type": "code",
   "execution_count": 9,
   "id": "12f4070e",
   "metadata": {},
   "outputs": [
    {
     "data": {
      "text/plain": [
       "['0,6300,toyota,cruiser,2008,clean vehicle,274117.0,black,  jtezu11f88k007763,159348797,new jersey, usa,10 days left',\n",
       " '1,2899,ford,se,2011,clean vehicle,190552.0,silver,  2fmdk3gc4bbb02217,166951262,tennessee, usa,6 days left',\n",
       " '2,5350,dodge,mpv,2018,clean vehicle,39590.0,silver,  3c4pdcgg5jt346413,167655728,georgia, usa,2 days left',\n",
       " '3,25000,ford,door,2014,clean vehicle,64146.0,blue,  1ftfw1et4efc23745,167753855,virginia, usa,22 hours left',\n",
       " '4,27700,chevrolet,1500,2018,clean vehicle,6654.0,red,  3gcpcrec2jg473991,167763266,florida, usa,22 hours left']"
      ]
     },
     "execution_count": 9,
     "metadata": {},
     "output_type": "execute_result"
    }
   ],
   "source": [
    "df_cars = df_cars.filter(lambda x: x!= header)\n",
    "df_cars.take(5)"
   ]
  },
  {
   "cell_type": "code",
   "execution_count": 10,
   "id": "647c1e5b",
   "metadata": {},
   "outputs": [
    {
     "data": {
      "text/plain": [
       "[['0',\n",
       "  '6300',\n",
       "  'toyota',\n",
       "  'cruiser',\n",
       "  '2008',\n",
       "  'clean vehicle',\n",
       "  '274117.0',\n",
       "  'black',\n",
       "  '  jtezu11f88k007763',\n",
       "  '159348797',\n",
       "  'new jersey',\n",
       "  ' usa',\n",
       "  '10 days left'],\n",
       " ['1',\n",
       "  '2899',\n",
       "  'ford',\n",
       "  'se',\n",
       "  '2011',\n",
       "  'clean vehicle',\n",
       "  '190552.0',\n",
       "  'silver',\n",
       "  '  2fmdk3gc4bbb02217',\n",
       "  '166951262',\n",
       "  'tennessee',\n",
       "  ' usa',\n",
       "  '6 days left'],\n",
       " ['2',\n",
       "  '5350',\n",
       "  'dodge',\n",
       "  'mpv',\n",
       "  '2018',\n",
       "  'clean vehicle',\n",
       "  '39590.0',\n",
       "  'silver',\n",
       "  '  3c4pdcgg5jt346413',\n",
       "  '167655728',\n",
       "  'georgia',\n",
       "  ' usa',\n",
       "  '2 days left'],\n",
       " ['3',\n",
       "  '25000',\n",
       "  'ford',\n",
       "  'door',\n",
       "  '2014',\n",
       "  'clean vehicle',\n",
       "  '64146.0',\n",
       "  'blue',\n",
       "  '  1ftfw1et4efc23745',\n",
       "  '167753855',\n",
       "  'virginia',\n",
       "  ' usa',\n",
       "  '22 hours left'],\n",
       " ['4',\n",
       "  '27700',\n",
       "  'chevrolet',\n",
       "  '1500',\n",
       "  '2018',\n",
       "  'clean vehicle',\n",
       "  '6654.0',\n",
       "  'red',\n",
       "  '  3gcpcrec2jg473991',\n",
       "  '167763266',\n",
       "  'florida',\n",
       "  ' usa',\n",
       "  '22 hours left']]"
      ]
     },
     "execution_count": 10,
     "metadata": {},
     "output_type": "execute_result"
    }
   ],
   "source": [
    "df_cars_split = df_cars.map(lambda x: x.split(','))\n",
    "df_cars_split.take(5)"
   ]
  },
  {
   "cell_type": "code",
   "execution_count": 12,
   "id": "1448ebe9",
   "metadata": {},
   "outputs": [],
   "source": [
    "cols = header.split(',')"
   ]
  },
  {
   "cell_type": "code",
   "execution_count": 13,
   "id": "b93612cd",
   "metadata": {},
   "outputs": [
    {
     "data": {
      "text/plain": [
       "['row_id',\n",
       " 'price',\n",
       " 'brand',\n",
       " 'model',\n",
       " 'year',\n",
       " 'title_status',\n",
       " 'mileage',\n",
       " 'color',\n",
       " 'vin',\n",
       " 'lot',\n",
       " 'state',\n",
       " 'country',\n",
       " 'condition']"
      ]
     },
     "execution_count": 13,
     "metadata": {},
     "output_type": "execute_result"
    }
   ],
   "source": [
    "cols"
   ]
  },
  {
   "cell_type": "code",
   "execution_count": 14,
   "id": "215edb3a",
   "metadata": {},
   "outputs": [],
   "source": [
    "from pyspark.sql.types import StructField\n",
    "from pyspark.sql.types import StructType\n",
    "from pyspark.sql.types import StringType"
   ]
  },
  {
   "cell_type": "code",
   "execution_count": 15,
   "id": "a65e69a2",
   "metadata": {},
   "outputs": [],
   "source": [
    "schema = StructType([StructField(col, StringType(), True) for col in cols])"
   ]
  },
  {
   "cell_type": "code",
   "execution_count": 16,
   "id": "b328f79e",
   "metadata": {},
   "outputs": [
    {
     "data": {
      "text/plain": [
       "StructType(List(StructField(row_id,StringType,true),StructField(price,StringType,true),StructField(brand,StringType,true),StructField(model,StringType,true),StructField(year,StringType,true),StructField(title_status,StringType,true),StructField(mileage,StringType,true),StructField(color,StringType,true),StructField(vin,StringType,true),StructField(lot,StringType,true),StructField(state,StringType,true),StructField(country,StringType,true),StructField(condition,StringType,true)))"
      ]
     },
     "execution_count": 16,
     "metadata": {},
     "output_type": "execute_result"
    }
   ],
   "source": [
    "schema"
   ]
  },
  {
   "cell_type": "code",
   "execution_count": 17,
   "id": "cacb92cb",
   "metadata": {},
   "outputs": [],
   "source": [
    "df_cars = spark.createDataFrame(df_cars_split, schema)"
   ]
  },
  {
   "cell_type": "code",
   "execution_count": 18,
   "id": "cd454d48",
   "metadata": {},
   "outputs": [
    {
     "name": "stdout",
     "output_type": "stream",
     "text": [
      "+------+-----+---------+-------+----+-------------+--------+------+-------------------+---------+--------------+-------+-------------+\n",
      "|row_id|price|    brand|  model|year| title_status| mileage| color|                vin|      lot|         state|country|    condition|\n",
      "+------+-----+---------+-------+----+-------------+--------+------+-------------------+---------+--------------+-------+-------------+\n",
      "|     0| 6300|   toyota|cruiser|2008|clean vehicle|274117.0| black|  jtezu11f88k007763|159348797|    new jersey|    usa| 10 days left|\n",
      "|     1| 2899|     ford|     se|2011|clean vehicle|190552.0|silver|  2fmdk3gc4bbb02217|166951262|     tennessee|    usa|  6 days left|\n",
      "|     2| 5350|    dodge|    mpv|2018|clean vehicle| 39590.0|silver|  3c4pdcgg5jt346413|167655728|       georgia|    usa|  2 days left|\n",
      "|     3|25000|     ford|   door|2014|clean vehicle| 64146.0|  blue|  1ftfw1et4efc23745|167753855|      virginia|    usa|22 hours left|\n",
      "|     4|27700|chevrolet|   1500|2018|clean vehicle|  6654.0|   red|  3gcpcrec2jg473991|167763266|       florida|    usa|22 hours left|\n",
      "|     5| 5700|    dodge|    mpv|2018|clean vehicle| 45561.0| white|  2c4rdgeg9jr237989|167655771|         texas|    usa|  2 days left|\n",
      "|     6| 7300|chevrolet|     pk|2010|clean vehicle|149050.0| black|  1gcsksea1az121133|167753872|       georgia|    usa|22 hours left|\n",
      "|     7|13350|      gmc|   door|2017|clean vehicle| 23525.0|  gray|  1gks2gkc3hr326762|167692494|    california|    usa|20 hours left|\n",
      "|     8|14600|chevrolet| malibu|2018|clean vehicle|  9371.0|silver|  1g1zd5st5jf191860|167763267|       florida|    usa|22 hours left|\n",
      "|     9| 5250|     ford|    mpv|2017|clean vehicle| 63418.0| black|  2fmpk3j92hbc12542|167656121|         texas|    usa|  2 days left|\n",
      "|    10|10400|    dodge|  coupe|2009|clean vehicle|107856.0|orange|  2b3lj54t49h509675|167753874|       georgia|    usa|22 hours left|\n",
      "|    11|12920|      gmc|    mpv|2017|clean vehicle| 39650.0| white|  1gks2bkc6hr136280|167692496|    california|    usa|20 hours left|\n",
      "|    12|31900|chevrolet|   1500|2018|clean vehicle| 22909.0| black|  3gcukrec0jg176059|167763273|     tennessee|    usa|22 hours left|\n",
      "|    13| 5430| chrysler|  wagon|2017|clean vehicle|138650.0|  gray|  2c4rc1cg5hr616095|167656123|         texas|    usa|  2 days left|\n",
      "|    14|20700|     ford|   door|2013|clean vehicle|100757.0| black|  1ftfw1et7dfa47790|167753916|      virginia|    usa|22 hours left|\n",
      "|    15|12710|      gmc|   door|2017|clean vehicle| 25747.0| white|  1gks2gkc6hr328389|167692497|    california|    usa|20 hours left|\n",
      "|    16| 5200|      kia|  forte|2018|clean vehicle| 46194.0|  blue|  3kpfk4a77je198723|167801757|north carolina|    usa|  2 days left|\n",
      "|    17|16500|    buick| encore|2018|clean vehicle| 20002.0|   red|  kl4cj1sb6jb688844|167763275|     tennessee|    usa|22 hours left|\n",
      "|    18| 5210|     ford|    mpv|2017|clean vehicle| 35714.0| white|  2fmpk3j95hbb73607|167656124|         texas|    usa|  2 days left|\n",
      "|    19|38100|     ford|   door|2013|clean vehicle| 54380.0|  gray|  1ft8w3dt5deb68569|167753923|      virginia|    usa|22 hours left|\n",
      "+------+-----+---------+-------+----+-------------+--------+------+-------------------+---------+--------------+-------+-------------+\n",
      "only showing top 20 rows\n",
      "\n"
     ]
    }
   ],
   "source": [
    "df_cars.show()"
   ]
  },
  {
   "cell_type": "code",
   "execution_count": 19,
   "id": "72f7f637",
   "metadata": {},
   "outputs": [
    {
     "name": "stdout",
     "output_type": "stream",
     "text": [
      "root\n",
      " |-- row_id: string (nullable = true)\n",
      " |-- price: string (nullable = true)\n",
      " |-- brand: string (nullable = true)\n",
      " |-- model: string (nullable = true)\n",
      " |-- year: string (nullable = true)\n",
      " |-- title_status: string (nullable = true)\n",
      " |-- mileage: string (nullable = true)\n",
      " |-- color: string (nullable = true)\n",
      " |-- vin: string (nullable = true)\n",
      " |-- lot: string (nullable = true)\n",
      " |-- state: string (nullable = true)\n",
      " |-- country: string (nullable = true)\n",
      " |-- condition: string (nullable = true)\n",
      "\n"
     ]
    }
   ],
   "source": [
    "df_cars.printSchema()"
   ]
  },
  {
   "cell_type": "code",
   "execution_count": 20,
   "id": "17f08089",
   "metadata": {},
   "outputs": [],
   "source": [
    "price_col =  f.col('price').cast('int')"
   ]
  },
  {
   "cell_type": "code",
   "execution_count": 21,
   "id": "df985c80",
   "metadata": {},
   "outputs": [
    {
     "data": {
      "text/plain": [
       "pyspark.sql.column.Column"
      ]
     },
     "execution_count": 21,
     "metadata": {},
     "output_type": "execute_result"
    }
   ],
   "source": [
    "type(price_col)"
   ]
  },
  {
   "cell_type": "code",
   "execution_count": 22,
   "id": "8a364cde",
   "metadata": {},
   "outputs": [],
   "source": [
    "df_cars =df_cars.withColumn('price', price_col)"
   ]
  },
  {
   "cell_type": "code",
   "execution_count": 24,
   "id": "d2bd9229",
   "metadata": {},
   "outputs": [
    {
     "name": "stdout",
     "output_type": "stream",
     "text": [
      "root\n",
      " |-- row_id: string (nullable = true)\n",
      " |-- price: integer (nullable = true)\n",
      " |-- brand: string (nullable = true)\n",
      " |-- model: string (nullable = true)\n",
      " |-- year: string (nullable = true)\n",
      " |-- title_status: string (nullable = true)\n",
      " |-- mileage: string (nullable = true)\n",
      " |-- color: string (nullable = true)\n",
      " |-- vin: string (nullable = true)\n",
      " |-- lot: string (nullable = true)\n",
      " |-- state: string (nullable = true)\n",
      " |-- country: string (nullable = true)\n",
      " |-- condition: string (nullable = true)\n",
      "\n"
     ]
    }
   ],
   "source": [
    "df_cars.printSchema()"
   ]
  },
  {
   "cell_type": "markdown",
   "id": "1267264d",
   "metadata": {},
   "source": [
    "### Getting the Dataframe Schema"
   ]
  },
  {
   "cell_type": "code",
   "execution_count": 26,
   "id": "02f59c28",
   "metadata": {},
   "outputs": [],
   "source": [
    "schema1 = df_cars.schema"
   ]
  },
  {
   "cell_type": "code",
   "execution_count": 27,
   "id": "e3668aac",
   "metadata": {},
   "outputs": [
    {
     "data": {
      "text/plain": [
       "StructType(List(StructField(row_id,StringType,true),StructField(price,IntegerType,true),StructField(brand,StringType,true),StructField(model,StringType,true),StructField(year,StringType,true),StructField(title_status,StringType,true),StructField(mileage,StringType,true),StructField(color,StringType,true),StructField(vin,StringType,true),StructField(lot,StringType,true),StructField(state,StringType,true),StructField(country,StringType,true),StructField(condition,StringType,true)))"
      ]
     },
     "execution_count": 27,
     "metadata": {},
     "output_type": "execute_result"
    }
   ],
   "source": [
    "schema1"
   ]
  },
  {
   "cell_type": "markdown",
   "id": "6a767f72",
   "metadata": {},
   "source": [
    "### Getting Dataframe Columns"
   ]
  },
  {
   "cell_type": "code",
   "execution_count": 28,
   "id": "783f596e",
   "metadata": {},
   "outputs": [],
   "source": [
    "cars_cols = df_cars.columns"
   ]
  },
  {
   "cell_type": "code",
   "execution_count": 29,
   "id": "58c4660f",
   "metadata": {},
   "outputs": [
    {
     "data": {
      "text/plain": [
       "['row_id',\n",
       " 'price',\n",
       " 'brand',\n",
       " 'model',\n",
       " 'year',\n",
       " 'title_status',\n",
       " 'mileage',\n",
       " 'color',\n",
       " 'vin',\n",
       " 'lot',\n",
       " 'state',\n",
       " 'country',\n",
       " 'condition']"
      ]
     },
     "execution_count": 29,
     "metadata": {},
     "output_type": "execute_result"
    }
   ],
   "source": [
    "cars_cols"
   ]
  },
  {
   "cell_type": "code",
   "execution_count": 30,
   "id": "75d97261",
   "metadata": {},
   "outputs": [
    {
     "data": {
      "text/plain": [
       "Row(row_id='0', price=6300, brand='toyota', model='cruiser', year='2008', title_status='clean vehicle', mileage='274117.0', color='black', vin='  jtezu11f88k007763', lot='159348797', state='new jersey', country=' usa', condition='10 days left')"
      ]
     },
     "execution_count": 30,
     "metadata": {},
     "output_type": "execute_result"
    }
   ],
   "source": [
    "df_cars.first()"
   ]
  },
  {
   "cell_type": "markdown",
   "id": "874ba0b8",
   "metadata": {},
   "source": [
    "## `Mark rows of cars where the car prices are over 10000 USD`"
   ]
  },
  {
   "cell_type": "code",
   "execution_count": 35,
   "id": "7ee1fb23",
   "metadata": {},
   "outputs": [
    {
     "name": "stdout",
     "output_type": "stream",
     "text": [
      "+-----+\n",
      "|price|\n",
      "+-----+\n",
      "| 6300|\n",
      "| 2899|\n",
      "| 5350|\n",
      "|25000|\n",
      "|27700|\n",
      "+-----+\n",
      "only showing top 5 rows\n",
      "\n"
     ]
    }
   ],
   "source": [
    "df_cars.select('price').show(5)"
   ]
  },
  {
   "cell_type": "code",
   "execution_count": 37,
   "id": "07e58e06",
   "metadata": {},
   "outputs": [],
   "source": [
    "df_marked = df_cars.withColumn('Over10000', f.when(df_cars.price > 10000, \"Yes\").otherwise('No'))"
   ]
  },
  {
   "cell_type": "code",
   "execution_count": 42,
   "id": "0f1f5f15",
   "metadata": {},
   "outputs": [
    {
     "name": "stdout",
     "output_type": "stream",
     "text": [
      "+-----+---------+\n",
      "|price|Over10000|\n",
      "+-----+---------+\n",
      "| 6300|       No|\n",
      "| 2899|       No|\n",
      "| 5350|       No|\n",
      "|25000|      Yes|\n",
      "|27700|      Yes|\n",
      "+-----+---------+\n",
      "only showing top 5 rows\n",
      "\n"
     ]
    }
   ],
   "source": [
    "df_marked.select('price','Over10000').show(5)"
   ]
  },
  {
   "cell_type": "code",
   "execution_count": 43,
   "id": "e488124c",
   "metadata": {},
   "outputs": [],
   "source": [
    "df_marked = df_cars.withColumn('Over10000', f.when(f.col('price') > 10000, \"Yes\").otherwise('No'))"
   ]
  },
  {
   "cell_type": "code",
   "execution_count": 44,
   "id": "d7ff14a2",
   "metadata": {},
   "outputs": [
    {
     "name": "stdout",
     "output_type": "stream",
     "text": [
      "+---------+\n",
      "|Over10000|\n",
      "+---------+\n",
      "|       No|\n",
      "|       No|\n",
      "|       No|\n",
      "|      Yes|\n",
      "|      Yes|\n",
      "+---------+\n",
      "only showing top 5 rows\n",
      "\n"
     ]
    }
   ],
   "source": [
    "df_marked.select('Over10000').show(5)"
   ]
  },
  {
   "cell_type": "markdown",
   "id": "d6be3c3f",
   "metadata": {},
   "source": [
    "## `Add new column to the dataset where the car prices are converted to INR. Use the factor USD 1 = Rs. 75`"
   ]
  },
  {
   "cell_type": "code",
   "execution_count": 45,
   "id": "4354fa1e",
   "metadata": {},
   "outputs": [],
   "source": [
    "df_inr = df_marked.withColumn(\"PriceINR\", f.col('price')*75)"
   ]
  },
  {
   "cell_type": "code",
   "execution_count": 47,
   "id": "c39a0b1e",
   "metadata": {},
   "outputs": [
    {
     "name": "stdout",
     "output_type": "stream",
     "text": [
      "+-----+--------+\n",
      "|price|PriceINR|\n",
      "+-----+--------+\n",
      "| 6300|  472500|\n",
      "| 2899|  217425|\n",
      "| 5350|  401250|\n",
      "|25000| 1875000|\n",
      "|27700| 2077500|\n",
      "+-----+--------+\n",
      "only showing top 5 rows\n",
      "\n"
     ]
    }
   ],
   "source": [
    "df_inr.select('price','PriceINR').show(5)"
   ]
  },
  {
   "cell_type": "markdown",
   "id": "b0715a30",
   "metadata": {},
   "source": [
    "## `Find ctop 5 cars with the highest mileage.`"
   ]
  },
  {
   "cell_type": "code",
   "execution_count": 49,
   "id": "9f09dbb1",
   "metadata": {},
   "outputs": [
    {
     "name": "stdout",
     "output_type": "stream",
     "text": [
      "+--------+\n",
      "| mileage|\n",
      "+--------+\n",
      "|274117.0|\n",
      "|190552.0|\n",
      "| 39590.0|\n",
      "| 64146.0|\n",
      "|  6654.0|\n",
      "| 45561.0|\n",
      "|149050.0|\n",
      "| 23525.0|\n",
      "|  9371.0|\n",
      "| 63418.0|\n",
      "+--------+\n",
      "only showing top 10 rows\n",
      "\n"
     ]
    }
   ],
   "source": [
    "df_cars.select('mileage').show(10)"
   ]
  },
  {
   "cell_type": "code",
   "execution_count": 52,
   "id": "15b2ea6f",
   "metadata": {},
   "outputs": [
    {
     "name": "stdout",
     "output_type": "stream",
     "text": [
      "root\n",
      " |-- row_id: string (nullable = true)\n",
      " |-- price: integer (nullable = true)\n",
      " |-- brand: string (nullable = true)\n",
      " |-- model: string (nullable = true)\n",
      " |-- year: string (nullable = true)\n",
      " |-- title_status: string (nullable = true)\n",
      " |-- mileage: string (nullable = true)\n",
      " |-- color: string (nullable = true)\n",
      " |-- vin: string (nullable = true)\n",
      " |-- lot: string (nullable = true)\n",
      " |-- state: string (nullable = true)\n",
      " |-- country: string (nullable = true)\n",
      " |-- condition: string (nullable = true)\n",
      "\n"
     ]
    }
   ],
   "source": [
    "df_cars.printSchema()"
   ]
  },
  {
   "cell_type": "code",
   "execution_count": 53,
   "id": "8ecac5fd",
   "metadata": {},
   "outputs": [],
   "source": [
    "mileage_col =  f.col('mileage').cast('int')"
   ]
  },
  {
   "cell_type": "code",
   "execution_count": 54,
   "id": "e864d536",
   "metadata": {},
   "outputs": [],
   "source": [
    "df_cars =df_cars.withColumn('mileage', mileage_col)"
   ]
  },
  {
   "cell_type": "code",
   "execution_count": 55,
   "id": "1b8e0acc",
   "metadata": {},
   "outputs": [
    {
     "name": "stdout",
     "output_type": "stream",
     "text": [
      "root\n",
      " |-- row_id: string (nullable = true)\n",
      " |-- price: integer (nullable = true)\n",
      " |-- brand: string (nullable = true)\n",
      " |-- model: string (nullable = true)\n",
      " |-- year: string (nullable = true)\n",
      " |-- title_status: string (nullable = true)\n",
      " |-- mileage: integer (nullable = true)\n",
      " |-- color: string (nullable = true)\n",
      " |-- vin: string (nullable = true)\n",
      " |-- lot: string (nullable = true)\n",
      " |-- state: string (nullable = true)\n",
      " |-- country: string (nullable = true)\n",
      " |-- condition: string (nullable = true)\n",
      "\n"
     ]
    }
   ],
   "source": [
    "df_cars.printSchema()"
   ]
  },
  {
   "cell_type": "code",
   "execution_count": 68,
   "id": "3a74e53f",
   "metadata": {},
   "outputs": [
    {
     "name": "stdout",
     "output_type": "stream",
     "text": [
      "+---------+------+----+-----------------+--------------+-------+-------+\n",
      "|    brand| model|year|     title_status|         state|country|mileage|\n",
      "+---------+------+----+-----------------+--------------+-------+-------+\n",
      "|peterbilt| truck|2010|salvage insurance|       georgia|    usa|1017936|\n",
      "|     ford|  door|2013|    clean vehicle|south carolina|    usa| 999999|\n",
      "|peterbilt| truck|2009|salvage insurance|       florida|    usa| 982486|\n",
      "|peterbilt| truck|2012|salvage insurance|       florida|    usa| 902041|\n",
      "|chevrolet|pickup|2003|    clean vehicle|     wisconsin|    usa| 507985|\n",
      "+---------+------+----+-----------------+--------------+-------+-------+\n",
      "only showing top 5 rows\n",
      "\n"
     ]
    }
   ],
   "source": [
    "df_cars.select('brand','model','year','title_status','state','country','mileage')\\\n",
    ".orderBy(f.col('mileage').desc()).show(5)"
   ]
  },
  {
   "cell_type": "markdown",
   "id": "2fbc519b",
   "metadata": {},
   "source": [
    "## `Find  top 2 average mileage per car maker`"
   ]
  },
  {
   "cell_type": "code",
   "execution_count": 72,
   "id": "9f4b3e48",
   "metadata": {},
   "outputs": [
    {
     "name": "stdout",
     "output_type": "stream",
     "text": [
      "+-------------+------------------+\n",
      "|        brand|       avg_mileage|\n",
      "+-------------+------------------+\n",
      "|    peterbilt|         725615.75|\n",
      "|       toyota|          274117.0|\n",
      "|        acura|120379.66666666667|\n",
      "|         audi|          118091.0|\n",
      "|        honda|           91599.0|\n",
      "|        mazda|           82647.0|\n",
      "|     chrysler|           73004.0|\n",
      "|    chevrolet| 65124.46127946128|\n",
      "|          gmc| 58548.73809523809|\n",
      "|      hyundai| 56683.86666666667|\n",
      "|          kia| 56609.46153846154|\n",
      "|mercedes-benz|           54597.0|\n",
      "|      lincoln|           52123.0|\n",
      "|         ford|  52084.3044534413|\n",
      "|          bmw| 47846.41176470588|\n",
      "|        dodge| 44184.86342592593|\n",
      "|       nissan|42426.230769230766|\n",
      "|     cadillac|           40195.9|\n",
      "|         jeep| 38723.26666666667|\n",
      "|        buick|37926.846153846156|\n",
      "+-------------+------------------+\n",
      "only showing top 20 rows\n",
      "\n"
     ]
    }
   ],
   "source": [
    "df_cars.groupby('brand').agg(f.avg('mileage').alias('avg_mileage'))\\\n",
    "        .orderBy(f.col('avg_mileage').desc()).show()"
   ]
  },
  {
   "cell_type": "markdown",
   "id": "950cf65b",
   "metadata": {},
   "source": [
    "## `Find the number of crusiers class cars present in the dataset`"
   ]
  },
  {
   "cell_type": "code",
   "execution_count": 76,
   "id": "855be174",
   "metadata": {},
   "outputs": [
    {
     "name": "stdout",
     "output_type": "stream",
     "text": [
      "+------+\n",
      "| brand|\n",
      "+------+\n",
      "|toyota|\n",
      "+------+\n",
      "\n"
     ]
    }
   ],
   "source": [
    "df_cars.select('brand').filter(f.col('model') == 'cruiser').show()"
   ]
  },
  {
   "cell_type": "code",
   "execution_count": 78,
   "id": "6aef79ed",
   "metadata": {},
   "outputs": [
    {
     "data": {
      "text/plain": [
       "1"
      ]
     },
     "execution_count": 78,
     "metadata": {},
     "output_type": "execute_result"
    }
   ],
   "source": [
    "df_cars.filter(df_cars.model == 'cruiser').count()"
   ]
  },
  {
   "cell_type": "markdown",
   "id": "6a25ff35",
   "metadata": {},
   "source": [
    "## `Find the number of vehicles that are clean and the number of vehicles that have been salvaged`"
   ]
  },
  {
   "cell_type": "code",
   "execution_count": 85,
   "id": "ddc21939",
   "metadata": {},
   "outputs": [
    {
     "name": "stdout",
     "output_type": "stream",
     "text": [
      "+-----------------+\n",
      "|     title_status|\n",
      "+-----------------+\n",
      "|salvage insurance|\n",
      "|    clean vehicle|\n",
      "+-----------------+\n",
      "\n"
     ]
    }
   ],
   "source": [
    "df_cars.select('title_status').distinct().show()"
   ]
  },
  {
   "cell_type": "code",
   "execution_count": 87,
   "id": "feda4a1f",
   "metadata": {},
   "outputs": [
    {
     "name": "stdout",
     "output_type": "stream",
     "text": [
      "+-----------------+-----+\n",
      "|     title_status|count|\n",
      "+-----------------+-----+\n",
      "|salvage insurance|  163|\n",
      "|    clean vehicle| 2336|\n",
      "+-----------------+-----+\n",
      "\n"
     ]
    }
   ],
   "source": [
    "df_cars.groupBy('title_status').count().show()"
   ]
  },
  {
   "cell_type": "markdown",
   "id": "9effb6a9",
   "metadata": {},
   "source": [
    "## `Find the number of salvaged cars per state`"
   ]
  },
  {
   "cell_type": "code",
   "execution_count": 90,
   "id": "8398b3e7",
   "metadata": {},
   "outputs": [
    {
     "name": "stdout",
     "output_type": "stream",
     "text": [
      "+--------------+-----+\n",
      "|         state|count|\n",
      "+--------------+-----+\n",
      "|north carolina|    5|\n",
      "|south carolina|    5|\n",
      "|         texas|   17|\n",
      "|      maryland|    4|\n",
      "| massachusetts|    5|\n",
      "|      oklahoma|   13|\n",
      "|          utah|    3|\n",
      "|   mississippi|    3|\n",
      "|        nevada|    1|\n",
      "|      arkansas|    9|\n",
      "|     tennessee|    6|\n",
      "|       arizona|    1|\n",
      "|      illinois|    9|\n",
      "|       florida|   11|\n",
      "|      michigan|   11|\n",
      "|      virginia|    7|\n",
      "|       wyoming|    1|\n",
      "|      kentucky|    1|\n",
      "|     wisconsin|    1|\n",
      "|    california|   12|\n",
      "|     minnesota|    8|\n",
      "|       georgia|    7|\n",
      "|      colorado|    7|\n",
      "|       indiana|    4|\n",
      "|   connecticut|    2|\n",
      "|        kansas|    2|\n",
      "|  pennsylvania|    1|\n",
      "|       montana|    1|\n",
      "|    new jersey|    1|\n",
      "|        oregon|    2|\n",
      "|         idaho|    2|\n",
      "|          ohio|    1|\n",
      "+--------------+-----+\n",
      "\n"
     ]
    }
   ],
   "source": [
    "df_cars.filter(f.col('title_status') == 'salvage insurance').groupBy('state').count().show(100)"
   ]
  },
  {
   "cell_type": "code",
   "execution_count": null,
   "id": "3d058a5d",
   "metadata": {},
   "outputs": [],
   "source": []
  }
 ],
 "metadata": {
  "kernelspec": {
   "display_name": "Python 3 (ipykernel)",
   "language": "python",
   "name": "python3"
  },
  "language_info": {
   "codemirror_mode": {
    "name": "ipython",
    "version": 3
   },
   "file_extension": ".py",
   "mimetype": "text/x-python",
   "name": "python",
   "nbconvert_exporter": "python",
   "pygments_lexer": "ipython3",
   "version": "3.9.16"
  }
 },
 "nbformat": 4,
 "nbformat_minor": 5
}
