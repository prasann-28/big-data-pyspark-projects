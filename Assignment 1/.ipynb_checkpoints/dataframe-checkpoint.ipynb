{
 "cells": [
  {
   "cell_type": "code",
   "execution_count": 34,
   "metadata": {},
   "outputs": [],
   "source": [
    "import pyspark\n",
    "from pyspark.sql import SparkSession\n",
    "from itertools import islice\n",
    "from pyspark.sql import Row\n",
    "import pyspark.sql.functions as f"
   ]
  },
  {
   "cell_type": "code",
   "execution_count": 2,
   "metadata": {},
   "outputs": [],
   "source": [
    "spark = SparkSession.builder.appName('pyspark-training').master('local[2]').getOrCreate()"
   ]
  },
  {
   "cell_type": "markdown",
   "metadata": {},
   "source": [
    "### Create dataframe using list"
   ]
  },
  {
   "cell_type": "code",
   "execution_count": 3,
   "metadata": {},
   "outputs": [],
   "source": [
    "row_list = [('John', 26, 'pune'), ('Jessica', 25, 'NY'), ('Robert', 24, 'LA'), ('Adam', 28, 'California')]"
   ]
  },
  {
   "cell_type": "code",
   "execution_count": 4,
   "metadata": {},
   "outputs": [],
   "source": [
    "col_names = ['name', 'age', 'city']"
   ]
  },
  {
   "cell_type": "code",
   "execution_count": 5,
   "metadata": {},
   "outputs": [
    {
     "name": "stdout",
     "output_type": "stream",
     "text": [
      "+-------+---+----------+\n",
      "|   name|age|      city|\n",
      "+-------+---+----------+\n",
      "|   John| 26|      pune|\n",
      "|Jessica| 25|        NY|\n",
      "| Robert| 24|        LA|\n",
      "|   Adam| 28|California|\n",
      "+-------+---+----------+\n",
      "\n"
     ]
    }
   ],
   "source": [
    "df_from_list = spark.createDataFrame(row_list, col_names)\n",
    "df_from_list.show()"
   ]
  },
  {
   "cell_type": "markdown",
   "metadata": {},
   "source": [
    "### create dataframe using dict - depricated"
   ]
  },
  {
   "cell_type": "code",
   "execution_count": 6,
   "metadata": {},
   "outputs": [],
   "source": [
    "row_dict = [{'name': 'John', 'age': 26}, {'name': 'Jessica', 'age': 25},\n",
    "            {'name': 'Robert', 'age': 24}, {'name': 'Adam', 'age': 28}]\n",
    "df_from_dict = spark.createDataFrame(row_dict)"
   ]
  },
  {
   "cell_type": "code",
   "execution_count": 7,
   "metadata": {},
   "outputs": [
    {
     "name": "stdout",
     "output_type": "stream",
     "text": [
      "+---+-------+\n",
      "|age|   name|\n",
      "+---+-------+\n",
      "| 26|   John|\n",
      "| 25|Jessica|\n",
      "| 24| Robert|\n",
      "| 28|   Adam|\n",
      "+---+-------+\n",
      "\n"
     ]
    }
   ],
   "source": [
    "df_from_dict.show()"
   ]
  },
  {
   "cell_type": "markdown",
   "metadata": {},
   "source": [
    "### create dataframe using rdd "
   ]
  },
  {
   "cell_type": "code",
   "execution_count": 8,
   "metadata": {},
   "outputs": [],
   "source": [
    "from pyspark.sql import Row"
   ]
  },
  {
   "cell_type": "code",
   "execution_count": 9,
   "metadata": {},
   "outputs": [],
   "source": [
    "Person = Row('name', 'age', 'city')"
   ]
  },
  {
   "cell_type": "code",
   "execution_count": 10,
   "metadata": {},
   "outputs": [
    {
     "data": {
      "text/plain": [
       "<Row('name', 'age', 'city')>"
      ]
     },
     "execution_count": 10,
     "metadata": {},
     "output_type": "execute_result"
    }
   ],
   "source": [
    "Person"
   ]
  },
  {
   "cell_type": "code",
   "execution_count": 11,
   "metadata": {},
   "outputs": [],
   "source": [
    "rdd = spark.sparkContext.parallelize(row_list)"
   ]
  },
  {
   "cell_type": "code",
   "execution_count": 12,
   "metadata": {},
   "outputs": [
    {
     "data": {
      "text/plain": [
       "[('John', 26, 'pune'),\n",
       " ('Jessica', 25, 'NY'),\n",
       " ('Robert', 24, 'LA'),\n",
       " ('Adam', 28, 'California')]"
      ]
     },
     "execution_count": 12,
     "metadata": {},
     "output_type": "execute_result"
    }
   ],
   "source": [
    "rdd.collect()"
   ]
  },
  {
   "cell_type": "code",
   "execution_count": 13,
   "metadata": {},
   "outputs": [],
   "source": [
    "person = rdd.map(lambda r : Person(*r))"
   ]
  },
  {
   "cell_type": "code",
   "execution_count": 14,
   "metadata": {},
   "outputs": [
    {
     "data": {
      "text/plain": [
       "[Row(name='John', age=26, city='pune'),\n",
       " Row(name='Jessica', age=25, city='NY'),\n",
       " Row(name='Robert', age=24, city='LA'),\n",
       " Row(name='Adam', age=28, city='California')]"
      ]
     },
     "execution_count": 14,
     "metadata": {},
     "output_type": "execute_result"
    }
   ],
   "source": [
    "person.collect()"
   ]
  },
  {
   "cell_type": "code",
   "execution_count": 15,
   "metadata": {},
   "outputs": [],
   "source": [
    "df_from_rdd = spark.createDataFrame(person)"
   ]
  },
  {
   "cell_type": "code",
   "execution_count": 16,
   "metadata": {},
   "outputs": [
    {
     "name": "stdout",
     "output_type": "stream",
     "text": [
      "+-------+---+----------+\n",
      "|   name|age|      city|\n",
      "+-------+---+----------+\n",
      "|   John| 26|      pune|\n",
      "|Jessica| 25|        NY|\n",
      "| Robert| 24|        LA|\n",
      "|   Adam| 28|California|\n",
      "+-------+---+----------+\n",
      "\n"
     ]
    }
   ],
   "source": [
    "df_from_rdd.show()"
   ]
  },
  {
   "cell_type": "markdown",
   "metadata": {},
   "source": [
    "### create dataframe by rdd created by reading a textfile"
   ]
  },
  {
   "cell_type": "code",
   "execution_count": 17,
   "metadata": {},
   "outputs": [],
   "source": [
    "rdd_us_cars = spark.sparkContext.textFile('D:\\\\data\\\\us-cars-dataset\\\\USA_cars_datasets.csv')"
   ]
  },
  {
   "cell_type": "code",
   "execution_count": 18,
   "metadata": {
    "scrolled": false
   },
   "outputs": [
    {
     "data": {
      "text/plain": [
       "['row_id,price,brand,model,year,title_status,mileage,color,vin,lot,state,country,condition',\n",
       " '0,6300,toyota,cruiser,2008,clean vehicle,274117.0,black,  jtezu11f88k007763,159348797,new jersey, usa,10 days left']"
      ]
     },
     "execution_count": 18,
     "metadata": {},
     "output_type": "execute_result"
    }
   ],
   "source": [
    "rdd_us_cars.take(2)"
   ]
  },
  {
   "cell_type": "code",
   "execution_count": 19,
   "metadata": {},
   "outputs": [],
   "source": [
    "header = rdd_us_cars.first()\n",
    "rdd_us_cars = rdd_us_cars.filter(lambda line: line != header)"
   ]
  },
  {
   "cell_type": "code",
   "execution_count": 20,
   "metadata": {},
   "outputs": [
    {
     "data": {
      "text/plain": [
       "['0,6300,toyota,cruiser,2008,clean vehicle,274117.0,black,  jtezu11f88k007763,159348797,new jersey, usa,10 days left',\n",
       " '1,2899,ford,se,2011,clean vehicle,190552.0,silver,  2fmdk3gc4bbb02217,166951262,tennessee, usa,6 days left',\n",
       " '2,5350,dodge,mpv,2018,clean vehicle,39590.0,silver,  3c4pdcgg5jt346413,167655728,georgia, usa,2 days left',\n",
       " '3,25000,ford,door,2014,clean vehicle,64146.0,blue,  1ftfw1et4efc23745,167753855,virginia, usa,22 hours left',\n",
       " '4,27700,chevrolet,1500,2018,clean vehicle,6654.0,red,  3gcpcrec2jg473991,167763266,florida, usa,22 hours left']"
      ]
     },
     "execution_count": 20,
     "metadata": {},
     "output_type": "execute_result"
    }
   ],
   "source": [
    "rdd_us_cars.take(5)"
   ]
  },
  {
   "cell_type": "code",
   "execution_count": 21,
   "metadata": {},
   "outputs": [],
   "source": [
    "rdd_us_cars_mapped = rdd_us_cars.map(lambda r : r.split(','))"
   ]
  },
  {
   "cell_type": "code",
   "execution_count": 22,
   "metadata": {},
   "outputs": [
    {
     "data": {
      "text/plain": [
       "[['0',\n",
       "  '6300',\n",
       "  'toyota',\n",
       "  'cruiser',\n",
       "  '2008',\n",
       "  'clean vehicle',\n",
       "  '274117.0',\n",
       "  'black',\n",
       "  '  jtezu11f88k007763',\n",
       "  '159348797',\n",
       "  'new jersey',\n",
       "  ' usa',\n",
       "  '10 days left']]"
      ]
     },
     "execution_count": 22,
     "metadata": {},
     "output_type": "execute_result"
    }
   ],
   "source": [
    "rdd_us_cars_mapped.take(1)"
   ]
  },
  {
   "cell_type": "code",
   "execution_count": 23,
   "metadata": {},
   "outputs": [],
   "source": [
    "cols = ['row_id', 'price', 'brand', 'model', 'year', 'title_status',\n",
    "        'mileage', 'color', 'vin', 'lot', 'state', 'country', 'condition']"
   ]
  },
  {
   "cell_type": "code",
   "execution_count": 24,
   "metadata": {},
   "outputs": [],
   "source": [
    "from pyspark.sql.types import StructField\n",
    "from pyspark.sql.types import StructType\n",
    "from pyspark.sql.types import StringType"
   ]
  },
  {
   "cell_type": "code",
   "execution_count": 25,
   "metadata": {},
   "outputs": [],
   "source": [
    "schema = StructType([StructField(col, StringType(), True) for col in cols])"
   ]
  },
  {
   "cell_type": "code",
   "execution_count": 26,
   "metadata": {
    "scrolled": true
   },
   "outputs": [
    {
     "data": {
      "text/plain": [
       "StructType(List(StructField(row_id,StringType,true),StructField(price,StringType,true),StructField(brand,StringType,true),StructField(model,StringType,true),StructField(year,StringType,true),StructField(title_status,StringType,true),StructField(mileage,StringType,true),StructField(color,StringType,true),StructField(vin,StringType,true),StructField(lot,StringType,true),StructField(state,StringType,true),StructField(country,StringType,true),StructField(condition,StringType,true)))"
      ]
     },
     "execution_count": 26,
     "metadata": {},
     "output_type": "execute_result"
    }
   ],
   "source": [
    "schema"
   ]
  },
  {
   "cell_type": "code",
   "execution_count": 27,
   "metadata": {},
   "outputs": [],
   "source": [
    "df_us_cars = spark.createDataFrame(rdd_us_cars_mapped, schema)"
   ]
  },
  {
   "cell_type": "code",
   "execution_count": 28,
   "metadata": {},
   "outputs": [
    {
     "name": "stdout",
     "output_type": "stream",
     "text": [
      "+------+-----+---------+-------+----+-------------+--------+------+-------------------+---------+--------------+-------+-------------+\n",
      "|row_id|price|    brand|  model|year| title_status| mileage| color|                vin|      lot|         state|country|    condition|\n",
      "+------+-----+---------+-------+----+-------------+--------+------+-------------------+---------+--------------+-------+-------------+\n",
      "|     0| 6300|   toyota|cruiser|2008|clean vehicle|274117.0| black|  jtezu11f88k007763|159348797|    new jersey|    usa| 10 days left|\n",
      "|     1| 2899|     ford|     se|2011|clean vehicle|190552.0|silver|  2fmdk3gc4bbb02217|166951262|     tennessee|    usa|  6 days left|\n",
      "|     2| 5350|    dodge|    mpv|2018|clean vehicle| 39590.0|silver|  3c4pdcgg5jt346413|167655728|       georgia|    usa|  2 days left|\n",
      "|     3|25000|     ford|   door|2014|clean vehicle| 64146.0|  blue|  1ftfw1et4efc23745|167753855|      virginia|    usa|22 hours left|\n",
      "|     4|27700|chevrolet|   1500|2018|clean vehicle|  6654.0|   red|  3gcpcrec2jg473991|167763266|       florida|    usa|22 hours left|\n",
      "|     5| 5700|    dodge|    mpv|2018|clean vehicle| 45561.0| white|  2c4rdgeg9jr237989|167655771|         texas|    usa|  2 days left|\n",
      "|     6| 7300|chevrolet|     pk|2010|clean vehicle|149050.0| black|  1gcsksea1az121133|167753872|       georgia|    usa|22 hours left|\n",
      "|     7|13350|      gmc|   door|2017|clean vehicle| 23525.0|  gray|  1gks2gkc3hr326762|167692494|    california|    usa|20 hours left|\n",
      "|     8|14600|chevrolet| malibu|2018|clean vehicle|  9371.0|silver|  1g1zd5st5jf191860|167763267|       florida|    usa|22 hours left|\n",
      "|     9| 5250|     ford|    mpv|2017|clean vehicle| 63418.0| black|  2fmpk3j92hbc12542|167656121|         texas|    usa|  2 days left|\n",
      "|    10|10400|    dodge|  coupe|2009|clean vehicle|107856.0|orange|  2b3lj54t49h509675|167753874|       georgia|    usa|22 hours left|\n",
      "|    11|12920|      gmc|    mpv|2017|clean vehicle| 39650.0| white|  1gks2bkc6hr136280|167692496|    california|    usa|20 hours left|\n",
      "|    12|31900|chevrolet|   1500|2018|clean vehicle| 22909.0| black|  3gcukrec0jg176059|167763273|     tennessee|    usa|22 hours left|\n",
      "|    13| 5430| chrysler|  wagon|2017|clean vehicle|138650.0|  gray|  2c4rc1cg5hr616095|167656123|         texas|    usa|  2 days left|\n",
      "|    14|20700|     ford|   door|2013|clean vehicle|100757.0| black|  1ftfw1et7dfa47790|167753916|      virginia|    usa|22 hours left|\n",
      "|    15|12710|      gmc|   door|2017|clean vehicle| 25747.0| white|  1gks2gkc6hr328389|167692497|    california|    usa|20 hours left|\n",
      "|    16| 5200|      kia|  forte|2018|clean vehicle| 46194.0|  blue|  3kpfk4a77je198723|167801757|north carolina|    usa|  2 days left|\n",
      "|    17|16500|    buick| encore|2018|clean vehicle| 20002.0|   red|  kl4cj1sb6jb688844|167763275|     tennessee|    usa|22 hours left|\n",
      "|    18| 5210|     ford|    mpv|2017|clean vehicle| 35714.0| white|  2fmpk3j95hbb73607|167656124|         texas|    usa|  2 days left|\n",
      "|    19|38100|     ford|   door|2013|clean vehicle| 54380.0|  gray|  1ft8w3dt5deb68569|167753923|      virginia|    usa|22 hours left|\n",
      "+------+-----+---------+-------+----+-------------+--------+------+-------------------+---------+--------------+-------+-------------+\n",
      "only showing top 20 rows\n",
      "\n"
     ]
    }
   ],
   "source": [
    "df_us_cars.show()"
   ]
  },
  {
   "cell_type": "markdown",
   "metadata": {},
   "source": [
    "### Read a file using a csv api"
   ]
  },
  {
   "cell_type": "code",
   "execution_count": 29,
   "metadata": {},
   "outputs": [],
   "source": [
    "df_us_cars = spark.read.option('header', 'true').csv('D:\\\\data\\\\us-cars-dataset\\\\USA_cars_datasets.csv')"
   ]
  },
  {
   "cell_type": "code",
   "execution_count": 30,
   "metadata": {},
   "outputs": [
    {
     "name": "stdout",
     "output_type": "stream",
     "text": [
      "+------+-----+---------+-------+----+-------------+--------+------+-------------------+---------+--------------+-------+-------------+\n",
      "|row_id|price|    brand|  model|year| title_status| mileage| color|                vin|      lot|         state|country|    condition|\n",
      "+------+-----+---------+-------+----+-------------+--------+------+-------------------+---------+--------------+-------+-------------+\n",
      "|     0| 6300|   toyota|cruiser|2008|clean vehicle|274117.0| black|  jtezu11f88k007763|159348797|    new jersey|    usa| 10 days left|\n",
      "|     1| 2899|     ford|     se|2011|clean vehicle|190552.0|silver|  2fmdk3gc4bbb02217|166951262|     tennessee|    usa|  6 days left|\n",
      "|     2| 5350|    dodge|    mpv|2018|clean vehicle| 39590.0|silver|  3c4pdcgg5jt346413|167655728|       georgia|    usa|  2 days left|\n",
      "|     3|25000|     ford|   door|2014|clean vehicle| 64146.0|  blue|  1ftfw1et4efc23745|167753855|      virginia|    usa|22 hours left|\n",
      "|     4|27700|chevrolet|   1500|2018|clean vehicle|  6654.0|   red|  3gcpcrec2jg473991|167763266|       florida|    usa|22 hours left|\n",
      "|     5| 5700|    dodge|    mpv|2018|clean vehicle| 45561.0| white|  2c4rdgeg9jr237989|167655771|         texas|    usa|  2 days left|\n",
      "|     6| 7300|chevrolet|     pk|2010|clean vehicle|149050.0| black|  1gcsksea1az121133|167753872|       georgia|    usa|22 hours left|\n",
      "|     7|13350|      gmc|   door|2017|clean vehicle| 23525.0|  gray|  1gks2gkc3hr326762|167692494|    california|    usa|20 hours left|\n",
      "|     8|14600|chevrolet| malibu|2018|clean vehicle|  9371.0|silver|  1g1zd5st5jf191860|167763267|       florida|    usa|22 hours left|\n",
      "|     9| 5250|     ford|    mpv|2017|clean vehicle| 63418.0| black|  2fmpk3j92hbc12542|167656121|         texas|    usa|  2 days left|\n",
      "|    10|10400|    dodge|  coupe|2009|clean vehicle|107856.0|orange|  2b3lj54t49h509675|167753874|       georgia|    usa|22 hours left|\n",
      "|    11|12920|      gmc|    mpv|2017|clean vehicle| 39650.0| white|  1gks2bkc6hr136280|167692496|    california|    usa|20 hours left|\n",
      "|    12|31900|chevrolet|   1500|2018|clean vehicle| 22909.0| black|  3gcukrec0jg176059|167763273|     tennessee|    usa|22 hours left|\n",
      "|    13| 5430| chrysler|  wagon|2017|clean vehicle|138650.0|  gray|  2c4rc1cg5hr616095|167656123|         texas|    usa|  2 days left|\n",
      "|    14|20700|     ford|   door|2013|clean vehicle|100757.0| black|  1ftfw1et7dfa47790|167753916|      virginia|    usa|22 hours left|\n",
      "|    15|12710|      gmc|   door|2017|clean vehicle| 25747.0| white|  1gks2gkc6hr328389|167692497|    california|    usa|20 hours left|\n",
      "|    16| 5200|      kia|  forte|2018|clean vehicle| 46194.0|  blue|  3kpfk4a77je198723|167801757|north carolina|    usa|  2 days left|\n",
      "|    17|16500|    buick| encore|2018|clean vehicle| 20002.0|   red|  kl4cj1sb6jb688844|167763275|     tennessee|    usa|22 hours left|\n",
      "|    18| 5210|     ford|    mpv|2017|clean vehicle| 35714.0| white|  2fmpk3j95hbb73607|167656124|         texas|    usa|  2 days left|\n",
      "|    19|38100|     ford|   door|2013|clean vehicle| 54380.0|  gray|  1ft8w3dt5deb68569|167753923|      virginia|    usa|22 hours left|\n",
      "+------+-----+---------+-------+----+-------------+--------+------+-------------------+---------+--------------+-------+-------------+\n",
      "only showing top 20 rows\n",
      "\n"
     ]
    }
   ],
   "source": [
    "df_us_cars.show()"
   ]
  },
  {
   "cell_type": "code",
   "execution_count": 31,
   "metadata": {},
   "outputs": [
    {
     "name": "stdout",
     "output_type": "stream",
     "text": [
      "root\n",
      " |-- row_id: string (nullable = true)\n",
      " |-- price: string (nullable = true)\n",
      " |-- brand: string (nullable = true)\n",
      " |-- model: string (nullable = true)\n",
      " |-- year: string (nullable = true)\n",
      " |-- title_status: string (nullable = true)\n",
      " |-- mileage: string (nullable = true)\n",
      " |-- color: string (nullable = true)\n",
      " |-- vin: string (nullable = true)\n",
      " |-- lot: string (nullable = true)\n",
      " |-- state: string (nullable = true)\n",
      " |-- country: string (nullable = true)\n",
      " |-- condition: string (nullable = true)\n",
      "\n"
     ]
    }
   ],
   "source": [
    "df_us_cars.printSchema()"
   ]
  },
  {
   "cell_type": "code",
   "execution_count": 35,
   "metadata": {},
   "outputs": [],
   "source": [
    "price_col =  f.col('price').cast('int')"
   ]
  },
  {
   "cell_type": "code",
   "execution_count": 36,
   "metadata": {},
   "outputs": [
    {
     "data": {
      "text/plain": [
       "pyspark.sql.column.Column"
      ]
     },
     "execution_count": 36,
     "metadata": {},
     "output_type": "execute_result"
    }
   ],
   "source": [
    "type(price_col)"
   ]
  },
  {
   "cell_type": "code",
   "execution_count": 37,
   "metadata": {},
   "outputs": [],
   "source": [
    "df_us_cars =df_us_cars.withColumn('price', price_col)"
   ]
  },
  {
   "cell_type": "code",
   "execution_count": 38,
   "metadata": {},
   "outputs": [
    {
     "name": "stdout",
     "output_type": "stream",
     "text": [
      "root\n",
      " |-- row_id: string (nullable = true)\n",
      " |-- price: integer (nullable = true)\n",
      " |-- brand: string (nullable = true)\n",
      " |-- model: string (nullable = true)\n",
      " |-- year: string (nullable = true)\n",
      " |-- title_status: string (nullable = true)\n",
      " |-- mileage: string (nullable = true)\n",
      " |-- color: string (nullable = true)\n",
      " |-- vin: string (nullable = true)\n",
      " |-- lot: string (nullable = true)\n",
      " |-- state: string (nullable = true)\n",
      " |-- country: string (nullable = true)\n",
      " |-- condition: string (nullable = true)\n",
      "\n"
     ]
    }
   ],
   "source": [
    "df_us_cars.printSchema()"
   ]
  },
  {
   "cell_type": "markdown",
   "metadata": {},
   "source": [
    "### Get the dataframe schema"
   ]
  },
  {
   "cell_type": "code",
   "execution_count": 39,
   "metadata": {},
   "outputs": [],
   "source": [
    "schema1 = df_us_cars.schema"
   ]
  },
  {
   "cell_type": "code",
   "execution_count": 40,
   "metadata": {
    "scrolled": true
   },
   "outputs": [
    {
     "data": {
      "text/plain": [
       "StructType(List(StructField(row_id,StringType,true),StructField(price,IntegerType,true),StructField(brand,StringType,true),StructField(model,StringType,true),StructField(year,StringType,true),StructField(title_status,StringType,true),StructField(mileage,StringType,true),StructField(color,StringType,true),StructField(vin,StringType,true),StructField(lot,StringType,true),StructField(state,StringType,true),StructField(country,StringType,true),StructField(condition,StringType,true)))"
      ]
     },
     "execution_count": 40,
     "metadata": {},
     "output_type": "execute_result"
    }
   ],
   "source": [
    "schema1"
   ]
  },
  {
   "cell_type": "markdown",
   "metadata": {},
   "source": [
    "### Get the dataframe columns"
   ]
  },
  {
   "cell_type": "code",
   "execution_count": 41,
   "metadata": {},
   "outputs": [],
   "source": [
    "cars_cols = df_us_cars.columns"
   ]
  },
  {
   "cell_type": "code",
   "execution_count": 42,
   "metadata": {},
   "outputs": [
    {
     "data": {
      "text/plain": [
       "['row_id',\n",
       " 'price',\n",
       " 'brand',\n",
       " 'model',\n",
       " 'year',\n",
       " 'title_status',\n",
       " 'mileage',\n",
       " 'color',\n",
       " 'vin',\n",
       " 'lot',\n",
       " 'state',\n",
       " 'country',\n",
       " 'condition']"
      ]
     },
     "execution_count": 42,
     "metadata": {},
     "output_type": "execute_result"
    }
   ],
   "source": [
    "cars_cols"
   ]
  },
  {
   "cell_type": "markdown",
   "metadata": {},
   "source": [
    "### first "
   ]
  },
  {
   "cell_type": "code",
   "execution_count": 43,
   "metadata": {},
   "outputs": [
    {
     "data": {
      "text/plain": [
       "Row(row_id='0', price=6300, brand='toyota', model='cruiser', year='2008', title_status='clean vehicle', mileage='274117.0', color='black', vin='  jtezu11f88k007763', lot='159348797', state='new jersey', country=' usa', condition='10 days left')"
      ]
     },
     "execution_count": 43,
     "metadata": {},
     "output_type": "execute_result"
    }
   ],
   "source": [
    "df_us_cars.first()"
   ]
  },
  {
   "cell_type": "markdown",
   "metadata": {},
   "source": [
    "### get n rows"
   ]
  },
  {
   "cell_type": "code",
   "execution_count": 44,
   "metadata": {},
   "outputs": [
    {
     "data": {
      "text/plain": [
       "[Row(row_id='0', price=6300, brand='toyota', model='cruiser', year='2008', title_status='clean vehicle', mileage='274117.0', color='black', vin='  jtezu11f88k007763', lot='159348797', state='new jersey', country=' usa', condition='10 days left'),\n",
       " Row(row_id='1', price=2899, brand='ford', model='se', year='2011', title_status='clean vehicle', mileage='190552.0', color='silver', vin='  2fmdk3gc4bbb02217', lot='166951262', state='tennessee', country=' usa', condition='6 days left'),\n",
       " Row(row_id='2', price=5350, brand='dodge', model='mpv', year='2018', title_status='clean vehicle', mileage='39590.0', color='silver', vin='  3c4pdcgg5jt346413', lot='167655728', state='georgia', country=' usa', condition='2 days left'),\n",
       " Row(row_id='3', price=25000, brand='ford', model='door', year='2014', title_status='clean vehicle', mileage='64146.0', color='blue', vin='  1ftfw1et4efc23745', lot='167753855', state='virginia', country=' usa', condition='22 hours left'),\n",
       " Row(row_id='4', price=27700, brand='chevrolet', model='1500', year='2018', title_status='clean vehicle', mileage='6654.0', color='red', vin='  3gcpcrec2jg473991', lot='167763266', state='florida', country=' usa', condition='22 hours left'),\n",
       " Row(row_id='5', price=5700, brand='dodge', model='mpv', year='2018', title_status='clean vehicle', mileage='45561.0', color='white', vin='  2c4rdgeg9jr237989', lot='167655771', state='texas', country=' usa', condition='2 days left'),\n",
       " Row(row_id='6', price=7300, brand='chevrolet', model='pk', year='2010', title_status='clean vehicle', mileage='149050.0', color='black', vin='  1gcsksea1az121133', lot='167753872', state='georgia', country=' usa', condition='22 hours left'),\n",
       " Row(row_id='7', price=13350, brand='gmc', model='door', year='2017', title_status='clean vehicle', mileage='23525.0', color='gray', vin='  1gks2gkc3hr326762', lot='167692494', state='california', country=' usa', condition='20 hours left'),\n",
       " Row(row_id='8', price=14600, brand='chevrolet', model='malibu', year='2018', title_status='clean vehicle', mileage='9371.0', color='silver', vin='  1g1zd5st5jf191860', lot='167763267', state='florida', country=' usa', condition='22 hours left'),\n",
       " Row(row_id='9', price=5250, brand='ford', model='mpv', year='2017', title_status='clean vehicle', mileage='63418.0', color='black', vin='  2fmpk3j92hbc12542', lot='167656121', state='texas', country=' usa', condition='2 days left')]"
      ]
     },
     "execution_count": 44,
     "metadata": {},
     "output_type": "execute_result"
    }
   ],
   "source": [
    "df_us_cars.take(10)"
   ]
  },
  {
   "cell_type": "code",
   "execution_count": 45,
   "metadata": {},
   "outputs": [
    {
     "data": {
      "text/plain": [
       "DataFrame[row_id: string, price: int, brand: string, model: string, year: string, title_status: string, mileage: string, color: string, vin: string, lot: string, state: string, country: string, condition: string]"
      ]
     },
     "execution_count": 45,
     "metadata": {},
     "output_type": "execute_result"
    }
   ],
   "source": [
    "df_us_cars"
   ]
  },
  {
   "cell_type": "markdown",
   "metadata": {},
   "source": [
    "### Preparing the loan dataset"
   ]
  },
  {
   "cell_type": "code",
   "execution_count": 47,
   "metadata": {},
   "outputs": [],
   "source": [
    "df_loans = spark.read.option('header', 'true').option(\"quote\", \"\\\"\").option(\"escape\",\"\\\\\").csv('D:\\\\data\\\\loans')"
   ]
  },
  {
   "cell_type": "code",
   "execution_count": 48,
   "metadata": {},
   "outputs": [],
   "source": [
    "cast_columns = {'loan_id': 'string', 'loan_name': 'string', 'original_language': 'string', \n",
    "                'description': 'string', 'description_translated': 'string', 'funded_amount': 'double',\n",
    "                'loan_amount': 'double', 'status': 'string', 'activity_name': 'string', 'sector_name': 'string',\n",
    "                'loan_use': 'string', 'country_code': 'string', 'country_name': 'string', 'town_name': 'string',\n",
    "                'currency_policy': 'string', 'currency_exchange_coverage_rate': 'double', 'currency': 'string',\n",
    "                'partner_id': 'double', 'posted_time': 'string', 'planned_expiration_time': 'string',\n",
    "                'disburse_time': 'string', 'raised_time': 'string', 'lender_term': 'double', 'num_lenders_total': 'int',\n",
    "                'num_journal_entries': 'int', 'num_bulk_entries': 'int', 'tags': 'string', 'borrower_genders': 'string',\n",
    "                'borrower_pictured': 'string', 'repayment_interval': 'string', 'distribution_model': 'string'}"
   ]
  },
  {
   "cell_type": "code",
   "execution_count": 49,
   "metadata": {},
   "outputs": [],
   "source": [
    "select_cols = ['loan_id', 'loan_name', 'original_language', 'description', 'description_translated', 'funded_amount',\n",
    "               'loan_amount', 'status', 'activity_name', 'sector_name', 'loan_use', 'country_code', 'country_name',\n",
    "               'town_name', 'currency_policy', 'currency_exchange_coverage_rate', 'currency', 'partner_id', 'posted_time',\n",
    "               'planned_expiration_time', 'disburse_time', 'raised_time', 'lender_term', 'num_lenders_total',\n",
    "               'num_journal_entries', 'num_bulk_entries', 'tags', 'borrower_genders', 'borrower_pictured',\n",
    "               'repayment_interval', 'distribution_model']"
   ]
  },
  {
   "cell_type": "code",
   "execution_count": 50,
   "metadata": {},
   "outputs": [],
   "source": [
    "casted_cols = []\n",
    "for col_name, col_type in cast_columns.items():\n",
    "    casted_cols.append(f.col(col_name).cast(col_type))"
   ]
  },
  {
   "cell_type": "code",
   "execution_count": 51,
   "metadata": {},
   "outputs": [],
   "source": [
    "df_loans_casted = df_loans.select([c for c in casted_cols])"
   ]
  },
  {
   "cell_type": "code",
   "execution_count": 52,
   "metadata": {},
   "outputs": [],
   "source": [
    "df_loans_ordered = df_loans_casted.select([c for c in select_cols])"
   ]
  },
  {
   "cell_type": "code",
   "execution_count": 53,
   "metadata": {},
   "outputs": [],
   "source": [
    "df3 = df_loans_ordered.filter('funded_amount is not null')\n",
    "df4 = df3.filter('loan_amount is not  null')\n",
    "df5 = df4.filter('num_lenders_total is not  null')\n",
    "df6 = df5.filter('num_journal_entries is not  null')\n",
    "df7 = df6.filter('num_bulk_entries is not  null')\n",
    "df8 = df7.filter('partner_id is not  null')\n",
    "df9 = df8.filter('lender_term is not  null')\n",
    "df10 = df9.filter('currency_exchange_coverage_rate is not null')"
   ]
  },
  {
   "cell_type": "code",
   "execution_count": 178,
   "metadata": {},
   "outputs": [],
   "source": [
    "df10.coalesce(1).write.mode('overwrite').parquet('D:\\\\data\\\\loans_pqt')"
   ]
  },
  {
   "cell_type": "markdown",
   "metadata": {},
   "source": [
    "### Read loans data"
   ]
  },
  {
   "cell_type": "code",
   "execution_count": 179,
   "metadata": {},
   "outputs": [],
   "source": [
    "df_loans = spark.read.parquet('D:\\\\data\\\\loans_pqt')"
   ]
  },
  {
   "cell_type": "code",
   "execution_count": 180,
   "metadata": {},
   "outputs": [
    {
     "data": {
      "text/plain": [
       "['loan_id',\n",
       " 'loan_name',\n",
       " 'original_language',\n",
       " 'description',\n",
       " 'description_translated',\n",
       " 'funded_amount',\n",
       " 'loan_amount',\n",
       " 'status',\n",
       " 'activity_name',\n",
       " 'sector_name',\n",
       " 'loan_use',\n",
       " 'country_code',\n",
       " 'country_name',\n",
       " 'town_name',\n",
       " 'currency_policy',\n",
       " 'currency_exchange_coverage_rate',\n",
       " 'currency',\n",
       " 'partner_id',\n",
       " 'posted_time',\n",
       " 'planned_expiration_time',\n",
       " 'disburse_time',\n",
       " 'raised_time',\n",
       " 'lender_term',\n",
       " 'num_lenders_total',\n",
       " 'num_journal_entries',\n",
       " 'num_bulk_entries',\n",
       " 'tags',\n",
       " 'borrower_genders',\n",
       " 'borrower_pictured',\n",
       " 'repayment_interval',\n",
       " 'distribution_model']"
      ]
     },
     "execution_count": 180,
     "metadata": {},
     "output_type": "execute_result"
    }
   ],
   "source": [
    "df_loans.columns"
   ]
  },
  {
   "cell_type": "markdown",
   "metadata": {},
   "source": [
    "### print schema"
   ]
  },
  {
   "cell_type": "code",
   "execution_count": 57,
   "metadata": {},
   "outputs": [
    {
     "name": "stdout",
     "output_type": "stream",
     "text": [
      "root\n",
      " |-- loan_id: string (nullable = true)\n",
      " |-- loan_name: string (nullable = true)\n",
      " |-- original_language: string (nullable = true)\n",
      " |-- description: string (nullable = true)\n",
      " |-- description_translated: string (nullable = true)\n",
      " |-- funded_amount: double (nullable = true)\n",
      " |-- loan_amount: double (nullable = true)\n",
      " |-- status: string (nullable = true)\n",
      " |-- activity_name: string (nullable = true)\n",
      " |-- sector_name: string (nullable = true)\n",
      " |-- loan_use: string (nullable = true)\n",
      " |-- country_code: string (nullable = true)\n",
      " |-- country_name: string (nullable = true)\n",
      " |-- town_name: string (nullable = true)\n",
      " |-- currency_policy: string (nullable = true)\n",
      " |-- currency_exchange_coverage_rate: double (nullable = true)\n",
      " |-- currency: string (nullable = true)\n",
      " |-- partner_id: double (nullable = true)\n",
      " |-- posted_time: string (nullable = true)\n",
      " |-- planned_expiration_time: string (nullable = true)\n",
      " |-- disburse_time: string (nullable = true)\n",
      " |-- raised_time: string (nullable = true)\n",
      " |-- lender_term: double (nullable = true)\n",
      " |-- num_lenders_total: integer (nullable = true)\n",
      " |-- num_journal_entries: integer (nullable = true)\n",
      " |-- num_bulk_entries: integer (nullable = true)\n",
      " |-- tags: string (nullable = true)\n",
      " |-- borrower_genders: string (nullable = true)\n",
      " |-- borrower_pictured: string (nullable = true)\n",
      " |-- repayment_interval: string (nullable = true)\n",
      " |-- distribution_model: string (nullable = true)\n",
      "\n"
     ]
    }
   ],
   "source": [
    "df_loans.printSchema()"
   ]
  },
  {
   "cell_type": "markdown",
   "metadata": {},
   "source": [
    "### show 20 rows"
   ]
  },
  {
   "cell_type": "code",
   "execution_count": 58,
   "metadata": {
    "collapsed": true
   },
   "outputs": [
    {
     "name": "stdout",
     "output_type": "stream",
     "text": [
      "+-------+----------------+-----------------+--------------------------------------------------------------------------------------------------------------------------------------------------------------------------------------------------------------------------------------------------------------------------------------------------------------------------------------------------------------------------------------------------------------------------------------------------------------------------------------------------------------------------------------------------------------------------------------------------------------------------------------------------------------------------------------------------------------------------------------------------------------------------------------------------------------------------------------------------------------------------------------------------------------------------------------------------------------------------------------------------------------------------------------------------------------------------------------------------------------------------------------------------------------------------------+--------------------------------------------------------------------------------------------------------------------------------------------------------------------------------------------------------------------------------------------------------------------------------------------------------------------------------------------------------------------------------------------------------------------------------------------------------------------------------------------------------------------------------------------------------------------------------------------------------------------------------------------------------------------------------------------------------------------------------------------------------------------------------------------------------------------------------------------------------------------------------------------------------------------------------------------------------------------------------------------------------------------------------------------------------------------------------------------------------------------------------------------------------------------------------+-------------+-----------+------+---------------------+-----------+--------------------------------------------------------------------------------------------------------------+------------+------------+------------------------------------------+---------------+-------------------------------+--------+----------+-----------------------------+-----------------------------+-----------------------------+-----------------------------+-----------+-----------------+-------------------+----------------+---------------------------------------------------------+----------------+-----------------+------------------+------------------+\n",
      "|loan_id|loan_name       |original_language|description                                                                                                                                                                                                                                                                                                                                                                                                                                                                                                                                                                                                                                                                                                                                                                                                                                                                                                                                                                                                                                                                                                                                                                     |description_translated                                                                                                                                                                                                                                                                                                                                                                                                                                                                                                                                                                                                                                                                                                                                                                                                                                                                                                                                                                                                                                                                                                                                                          |funded_amount|loan_amount|status|activity_name        |sector_name|loan_use                                                                                                      |country_code|country_name|town_name                                 |currency_policy|currency_exchange_coverage_rate|currency|partner_id|posted_time                  |planned_expiration_time      |disburse_time                |raised_time                  |lender_term|num_lenders_total|num_journal_entries|num_bulk_entries|tags                                                     |borrower_genders|borrower_pictured|repayment_interval|distribution_model|\n",
      "+-------+----------------+-----------------+--------------------------------------------------------------------------------------------------------------------------------------------------------------------------------------------------------------------------------------------------------------------------------------------------------------------------------------------------------------------------------------------------------------------------------------------------------------------------------------------------------------------------------------------------------------------------------------------------------------------------------------------------------------------------------------------------------------------------------------------------------------------------------------------------------------------------------------------------------------------------------------------------------------------------------------------------------------------------------------------------------------------------------------------------------------------------------------------------------------------------------------------------------------------------------+--------------------------------------------------------------------------------------------------------------------------------------------------------------------------------------------------------------------------------------------------------------------------------------------------------------------------------------------------------------------------------------------------------------------------------------------------------------------------------------------------------------------------------------------------------------------------------------------------------------------------------------------------------------------------------------------------------------------------------------------------------------------------------------------------------------------------------------------------------------------------------------------------------------------------------------------------------------------------------------------------------------------------------------------------------------------------------------------------------------------------------------------------------------------------------+-------------+-----------+------+---------------------+-----------+--------------------------------------------------------------------------------------------------------------+------------+------------+------------------------------------------+---------------+-------------------------------+--------+----------+-----------------------------+-----------------------------+-----------------------------+-----------------------------+-----------+-----------------+-------------------+----------------+---------------------------------------------------------+----------------+-----------------+------------------+------------------+\n",
      "|1057058|\\tLucy          |English          |Lucy is a married woman and has been blessed with five children, all of whom attend school. Together with her husband, they live in their own house that has neither electricity nor piped water. Her monthly expenses are school fees.<br /><br />Lucy has operated a fish selling business for over four years, selling from home to restaurant operators, and passersby. She faces a major challenge of seasonality and perishability leading to losses.<br /><br />With the KES 30,000, Lucy wants to purchase bundles of fish for resale. She dreams of expanding her business and establishing another business in the near future.                                                                                                                                                                                                                                                                                                                                                                                                                                                                                                                                       |Lucy is a married woman and has been blessed with five children, all of whom attend school. Together with her husband, they live in their own house that has neither electricity nor piped water. Her monthly expenses are school fees.<br /><br />Lucy has operated a fish selling business for over four years, selling from home to restaurant operators, and passersby. She faces a major challenge of seasonality and perishability leading to losses.<br /><br />With the KES 30,000, Lucy wants to purchase bundles of fish for resale. She dreams of expanding her business and establishing another business in the near future.                                                                                                                                                                                                                                                                                                                                                                                                                                                                                                                                       |300.0        |300.0      |funded|Fish Selling         |Food       |to purchase bundles of fish for resale.                                                                       |KE          |Kenya       |Kisauni                                   |shared         |0.1                            |KES     |164.0     |2016-04-20 07:05:43.000 +0000|2016-05-24 15:10:07.000 +0000|2016-04-18 07:00:00.000 +0000|2016-04-26 05:00:58.000 +0000|14.0       |11               |1                  |1               |#Fabrics, #Parent, #Woman-Owned Business, #Schooling     |female          |true             |monthly           |field_partner     |\n",
      "|509472 |Madosho         |English          |Madosho is a very responsible man who values his family's well-being very much. He does not want his family members to lack basic needs. Madosho is still operating his retail shop, which is giving him commendable results. He wants to take advantage of the forthcoming festive season where sales normally increase. For this reason, he is asking for another loan to purchase bales of flour, sacks of rice and beans, and instant products. Since the last loan, his business has been gradually growing.                                                                                                                                                                                                                                                                                                                                                                                                                                                                                                                                                                                                                                                               |null                                                                                                                                                                                                                                                                                                                                                                                                                                                                                                                                                                                                                                                                                                                                                                                                                                                                                                                                                                                                                                                                                                                                                                            |300.0        |300.0      |funded|General Store        |Retail     |to purchase bales of flour, sacks of rice and beans, and instant products.                                    |KE          |Kenya       |Tiribe                                    |shared         |0.1                            |KES     |164.0     |2012-12-19 09:19:01.000 +0000|2013-01-19 06:10:02.000 +0000|2012-12-14 08:00:00.000 +0000|2012-12-20 17:13:36.000 +0000|14.0       |6                |3                  |2               |null                                                     |male            |true             |monthly           |field_partner     |\n",
      "|344324 |Marcelina       |English          |Marcelina is married with 2 child. She is a very hardworking entrepreneur. She is 49 years old and has 1 child who is in school.\\n\\nShe has a motorcycle repair shop business in the Philippines. She has been in this business for 4 years. She requested a PHP 20,000 loan through NWTF to buy additional tools and equipment for her repair shop.\\n\\nIn the future, Marcelina would like to save enough money so she could send her child to college.\\n                                                                                                                                                                                                                                                                                                                                                                                                                                                                                                                                                                                                                                                                                                                      |null                                                                                                                                                                                                                                                                                                                                                                                                                                                                                                                                                                                                                                                                                                                                                                                                                                                                                                                                                                                                                                                                                                                                                                            |475.0        |475.0      |funded|Motorcycle Repair    |Services   |to buy additional tools and equipment for her repair shop.                                                    |PH          |Philippines |Toledo, Cebu                              |shared         |0.2                            |PHP     |145.0     |2011-10-10 03:20:31.000 +0000|null                         |2011-09-13 07:00:00.000 +0000|2011-11-01 21:34:58.000 +0000|13.0       |13               |2                  |1               |null                                                     |female          |true             |monthly           |field_partner     |\n",
      "|768521 |Fadzisai        |English          |Fadzisai is a 30-year-old businesswoman from the Kwekwe District of Zimbabwe. She supports her daughter by running a business where she sells fried chips to customers. Fadzisai also volunteers as a Camfed Learner Guide at the local secondary school in her community; she teaches young students beneficial life skills. \\r\\n\\r\\nFadzisai is requesting a loan from Kiva so that she can buy a large fryer. A larger fryer will make it easier to make more chips and Fadzisai will be able to meet the demand of her customers. More profits will help Fadzisai meet the financial needs of her family.                                                                                                                                                                                                                                                                                                                                                                                                                                                                                                                                                                   |Fadzisai is a 30-year-old businesswoman from the Kwekwe District of Zimbabwe. She supports her daughter by running a business where she sells fried chips to customers. Fadzisai also volunteers as a Camfed Learner Guide at the local secondary school in her community; she teaches young students beneficial life skills. \\r\\n\\r\\nFadzisai is requesting a loan from Kiva so that she can buy a large fryer. A larger fryer will make it easier to make more chips and Fadzisai will be able to meet the demand of her customers. More profits will help Fadzisai meet the financial needs of her family.                                                                                                                                                                                                                                                                                                                                                                                                                                                                                                                                                                   |500.0        |500.0      |funded|Food Production/Sales|Food       |To purchase a larger fryer to produce more chips.                                                             |ZW          |Zimbabwe    |Kwekwe                                    |shared         |0.1                            |USD     |305.0     |2014-09-15 09:27:20.000 +0000|2014-10-16 07:30:03.000 +0000|2014-09-20 07:00:00.000 +0000|2014-09-17 14:34:06.000 +0000|8.0        |20               |2                  |1               |user_favorite                                            |female          |true             |monthly           |field_partner     |\n",
      "|702112 |Oretha          |English          |Oretha lives in Kakata town, Liberia. She is 38 years old, married to a former security guard, and has five children aged between 13 and 22 years old, who are in school and live at home. She was unable to attend school, but has been keeping herself busy over the past five years selling slippers, blouses and other goods in the local market. She started this business with a little money from her mother. Oretha said that having only limited stock is the only challenge she faces now. She likes her business because it is affordable, and she learned this way of selling from her friends. She said she is proud of her business because it is the only way that she and her family are surviving. With the loan, Oretha is going to buy more stock for her stall. Her plan is to increase her sales even more.                                                                                                                                                                                                                                                                                                                                                |Oretha lives in Kakata town, Liberia. She is 38 years old, married to a former security guard, and has five children aged between 13 and 22 years old, who are in school and live at home. She was unable to attend school, but has been keeping herself busy over the past five years selling slippers, blouses and other goods in the local market. She started this business with a little money from her mother. Oretha said that having only limited stock is the only challenge she faces now. She likes her business because it is affordable, and she learned this way of selling from her friends. She said she is proud of her business because it is the only way that she and her family are surviving. With the loan, Oretha is going to buy more stock for her stall. Her plan is to increase her sales even more.                                                                                                                                                                                                                                                                                                                                                |400.0        |400.0      |funded|Retail               |Retail     |to buy more slippers and blouses for her market stall.                                                        |LR          |Liberia     |Kakata                                    |shared         |0.1                            |LRD     |182.0     |2014-04-24 17:07:58.000 +0000|2014-05-27 14:00:08.000 +0000|2014-04-10 07:00:00.000 +0000|2014-04-30 11:58:54.000 +0000|11.0       |11               |1                  |1               |null                                                     |female          |true             |monthly           |field_partner     |\n",
      "|1951531|Gulfer          |English          |Gulfer is divorced and a mother of three. She knits baby blankets, sweaters, etc. She sells them to her neighbors and friends and also on stands. This way she is making a contribution to the family budget and supporting her children with their school needs. She is trying hard to stand on her own two feet. With the help of her third loan from Maya, she bought bulk threads and other materials. She wants to increase her sales.<br /><br />Translated from Turkish by Maya staff<br /><br />Gülfer Hanım bekâr, üç çocuk annesidir.  El örgüsü örüp satıyor.Bebek battaniyesi ,bebek hırka  çeşitleri gibi.. Yakın çevresine, komşularına örgülerini satıyor. Sipariş alarak istenilen örgü modellerinden örerek müşteri memnuniyetini sağlıyor.  Yaşadığı şehirde stantlara çıkarak örgülerini satışa sunuyor. Satışlardan elde ettiği ek gelirle ekonomisini güçlendiriyor. Eğitim hayatı devam eden çocuklarına destek oluyor. Eşinden ayrıldıktan sonra kendi ayakları üzerinde duramaya çaba gösteriyor. Mayadan üçüncü kredisini kullanıyor. Kredisi ile toptan ip ve diğer örgü malzemelerini aldı. Yeni örgü çeşitleri örerek satışlarını arttırmak istiyor.|Gulfer is divorced and a mother of three. She knits baby blankets, sweaters, etc. She sells them to her neighbors and friends and also on stands. This way she is making a contribution to the family budget and supporting her children with their school needs. She is trying hard to stand on her own two feet. With the help of her third loan from Maya, she bought bulk threads and other materials. She wants to increase her sales.<br /><br />Translated from Turkish by Maya staff<br /><br />Gülfer Hanım bekâr, üç çocuk annesidir.  El örgüsü örüp satıyor.Bebek battaniyesi ,bebek hırka  çeşitleri gibi.. Yakın çevresine, komşularına örgülerini satıyor. Sipariş alarak istenilen örgü modellerinden örerek müşteri memnuniyetini sağlıyor.  Yaşadığı şehirde stantlara çıkarak örgülerini satışa sunuyor. Satışlardan elde ettiği ek gelirle ekonomisini güçlendiriyor. Eğitim hayatı devam eden çocuklarına destek oluyor. Eşinden ayrıldıktan sonra kendi ayakları üzerinde duramaya çaba gösteriyor. Mayadan üçüncü kredisini kullanıyor. Kredisi ile toptan ip ve diğer örgü malzemelerini aldı. Yeni örgü çeşitleri örerek satışlarını arttırmak istiyor.|225.0        |225.0      |funded|Knitting             |Arts       |to buy bulk thread and other materials.                                                                       |TR          |Turkey      |null                                      |shared         |0.1                            |TRY     |198.0     |2020-03-23 12:45:37.000 +0000|2020-04-24 23:10:23.000 +0000|2020-03-04 08:00:00.000 +0000|2020-03-26 04:35:43.000 +0000|7.0        |8                |1                  |1               |user_favorite                                            |female          |true             |monthly           |field_partner     |\n",
      "|497810 |Kimleang's Group|English          |Kimleang, 33, is married and has three dependent children, all of whom are still in school. Her family lives in a house with a thatched roof, located in Battambang province’s Moung Russey district. The main sources of her family’s income are rice farming, selling fish in her village, and her husband's work of catching fish. She has been running her business for ten years, earning about KHR 18,000 per day, and she is able to save about KHR 8,000 each day. \\r\\n\\r\\nKimleang’s group consists of two members, who have each been with VisionFund for one loan cycle. Kimleang successfully paid back the previous loan, which helped her to better support her family's living conditions. Now she is leading her group to ask for a new loan. Kimleang, who is leader, will use her portion of the loan to buy fertilizer and seeds for her farming business. She hopes to increase her crop yield, to earn more income and make a better living, and also to keep her children in school. \\r\\n                                                                                                                                                                 |null                                                                                                                                                                                                                                                                                                                                                                                                                                                                                                                                                                                                                                                                                                                                                                                                                                                                                                                                                                                                                                                                                                                                                                            |625.0        |625.0      |funded|Farming              |Agriculture|To buy fertilizer and seeds for her farming business                                                          |KH          |Cambodia    |Battambang province, Moung Russey district|shared         |0.1                            |KHR     |204.0     |2012-11-19 08:42:57.000 +0000|2012-12-31 08:16:40.000 +0000|2012-10-20 07:00:00.000 +0000|2012-12-04 19:36:16.000 +0000|14.0       |24               |2                  |1               |null                                                     |female, female  |true, true       |irregular         |field_partner     |\n",
      "|1560103|CRISTIAN        |Spanish          |Cristian es un joven de 22 años de edad el cual se dedica a la venta de alimentos.\\nReside en el municipio de Medellín, inició su negocio pro gusto y vocación al trabajo independiente, pues sueña con tener una vivienda propia y una vida de mejor calidad.\\nÉl se encuentra solicitando un préstamo para la compra de un carro de comidas rápidas, carpa, utensilios de cocina, inventario y sillas para fortalecer las ventas de su negocio.\\n\\n\\nIf you want to know more about the entrepreneurs and the loans from Interactuar, you can join the Lending Team called: “Friends of Interactuar Colombia”: http://www.kiva.org/team/interactuar_colombia\\n\\n\\n\\n                                                                                                                                                                                                                                                                                                                                                                                                                                                                                                          |Cristian is a 22-year-old young man who works selling foods. He resides in the municipality of Medellín. He started his business for pleasure and vocation to work independently since he dreams of having his own home and a better quality of life.<br /><br />He is requesting a loan for the purchase of a fast food cart, a tent, cookware, inventory, and chairs to strengthen the sales of his business.<br />\\t\\t\\t\\t\\t\\t\\t\\t\\t\\t<br />If you want to know more about the entrepreneurs and the loans from Interactuar, you can join the Lending Team called: “Friends of Interactuar Colombia”: http://www.kiva.org/team/interactuar_colombia                                                                                                                                                                                                                                                                                                                                                                                                                                                                                                                          |850.0        |850.0      |funded|Food Production/Sales|Food       |to purchase a fast food cart, a tent, cookware, inventory, and chairs to strengthen the sales of his business.|CO          |Colombia    |Medellín                                  |shared         |0.1                            |COP     |177.0     |2018-06-29 19:20:41.000 +0000|2018-08-06 11:10:04.000 +0000|2018-05-31 07:00:00.000 +0000|2018-08-06 03:17:17.000 +0000|23.0       |13               |6                  |4               |user_favorite, user_favorite, #Biz Durable Asset, #Parent|male            |true             |monthly           |field_partner     |\n",
      "|1604550|Venasio         |English          |Venasio deals in the buying and selling of agricultural produce. He mostly buys and sells maize, beans and ground nuts. He has been in this business for more than seven years and testifies that his business is lucrative. He has also ventured into farming, mostly growing cassava, beans and maize. He hoped to expand and develop his business into a food store, only to be limited by inadequate capital and price fluctuations. He is requesting a loan to buy more beans and rice to sell during the back to school season.                                                                                                                                                                                                                                                                                                                                                                                                                                                                                                                                                                                                                                           |Venasio deals in the buying and selling of agricultural produce. He mostly buys and sells maize, beans and ground nuts. He has been in this business for more than seven years and testifies that his business is lucrative. He has also ventured into farming, mostly growing cassava, beans and maize. He hoped to expand and develop his business into a food store, only to be limited by inadequate capital and price fluctuations. He is requesting a loan to buy more beans and rice to sell during the back to school season.                                                                                                                                                                                                                                                                                                                                                                                                                                                                                                                                                                                                                                           |550.0        |550.0      |funded|Food Production/Sales|Food       |to buy more beans and rice to sell.                                                                           |UG          |Uganda      |Hoima                                     |shared         |0.1                            |UGX     |163.0     |2018-09-12 06:36:55.000 +0000|2018-10-13 21:40:03.000 +0000|2018-08-23 07:00:00.000 +0000|2018-10-01 14:03:57.000 +0000|10.0       |15               |1                  |1               |#Vegan                                                   |male            |true             |monthly           |field_partner     |\n",
      "|557284 |Kadiatu         |English          |Kadiatu is 23 years old and married with 2 children, ages 1 year and 6 years. She runs a food stand business in Torkpoi town in Sierra Leone.\\r\\n\\r\\nShe's been in this business for 4 years and sells pepper, rice, cooking oil, Maggie (bouillon) and fish.   She says that the main challenge to her business is lack of enough capital to run the business.\\r\\n\\r\\nKadiatu requested this loan through BRAC Sierra Leone to purchase more pepper, rice, cooking oil, Maggie, and fish for resale. She says that the extra income from this loan will help her improve her standard of living and educate her child. In the future, she would like to expand her business more. She is grateful for your support.\\r\\n                                                                                                                                                                                                                                                                                                                                                                                                                                                        |null                                                                                                                                                                                                                                                                                                                                                                                                                                                                                                                                                                                                                                                                                                                                                                                                                                                                                                                                                                                                                                                                                                                                                                            |125.0        |125.0      |funded|Food Stall           |Food       |to purchase more pepper, rice, cooking oil, Maggie (bouillon) and fish for resale.                            |SL          |Sierra Leone|Torkpoi town Bo                           |shared         |0.1                            |SLL     |183.0     |2013-05-07 17:34:27.000 +0000|2013-06-09 22:10:02.000 +0000|2013-04-08 07:00:00.000 +0000|2013-05-11 04:43:58.000 +0000|11.0       |5                |1                  |1               |null                                                     |female          |true             |monthly           |field_partner     |\n",
      "+-------+----------------+-----------------+--------------------------------------------------------------------------------------------------------------------------------------------------------------------------------------------------------------------------------------------------------------------------------------------------------------------------------------------------------------------------------------------------------------------------------------------------------------------------------------------------------------------------------------------------------------------------------------------------------------------------------------------------------------------------------------------------------------------------------------------------------------------------------------------------------------------------------------------------------------------------------------------------------------------------------------------------------------------------------------------------------------------------------------------------------------------------------------------------------------------------------------------------------------------------------+--------------------------------------------------------------------------------------------------------------------------------------------------------------------------------------------------------------------------------------------------------------------------------------------------------------------------------------------------------------------------------------------------------------------------------------------------------------------------------------------------------------------------------------------------------------------------------------------------------------------------------------------------------------------------------------------------------------------------------------------------------------------------------------------------------------------------------------------------------------------------------------------------------------------------------------------------------------------------------------------------------------------------------------------------------------------------------------------------------------------------------------------------------------------------------+-------------+-----------+------+---------------------+-----------+--------------------------------------------------------------------------------------------------------------+------------+------------+------------------------------------------+---------------+-------------------------------+--------+----------+-----------------------------+-----------------------------+-----------------------------+-----------------------------+-----------+-----------------+-------------------+----------------+---------------------------------------------------------+----------------+-----------------+------------------+------------------+\n",
      "only showing top 10 rows\n",
      "\n"
     ]
    }
   ],
   "source": [
    "df_loans.show(10, False)"
   ]
  },
  {
   "cell_type": "markdown",
   "metadata": {},
   "source": [
    "### get first row"
   ]
  },
  {
   "cell_type": "code",
   "execution_count": 59,
   "metadata": {},
   "outputs": [],
   "source": [
    "x = df_loans.first()"
   ]
  },
  {
   "cell_type": "code",
   "execution_count": 60,
   "metadata": {},
   "outputs": [
    {
     "data": {
      "text/plain": [
       "Row(loan_id='1057058', loan_name='\\\\tLucy', original_language='English', description='Lucy is a married woman and has been blessed with five children, all of whom attend school. Together with her husband, they live in their own house that has neither electricity nor piped water. Her monthly expenses are school fees.<br /><br />Lucy has operated a fish selling business for over four years, selling from home to restaurant operators, and passersby. She faces a major challenge of seasonality and perishability leading to losses.<br /><br />With the KES 30,000, Lucy wants to purchase bundles of fish for resale. She dreams of expanding her business and establishing another business in the near future.', description_translated='Lucy is a married woman and has been blessed with five children, all of whom attend school. Together with her husband, they live in their own house that has neither electricity nor piped water. Her monthly expenses are school fees.<br /><br />Lucy has operated a fish selling business for over four years, selling from home to restaurant operators, and passersby. She faces a major challenge of seasonality and perishability leading to losses.<br /><br />With the KES 30,000, Lucy wants to purchase bundles of fish for resale. She dreams of expanding her business and establishing another business in the near future.', funded_amount=300.0, loan_amount=300.0, status='funded', activity_name='Fish Selling', sector_name='Food', loan_use='to purchase bundles of fish for resale.', country_code='KE', country_name='Kenya', town_name='Kisauni', currency_policy='shared', currency_exchange_coverage_rate=0.1, currency='KES', partner_id=164.0, posted_time='2016-04-20 07:05:43.000 +0000', planned_expiration_time='2016-05-24 15:10:07.000 +0000', disburse_time='2016-04-18 07:00:00.000 +0000', raised_time='2016-04-26 05:00:58.000 +0000', lender_term=14.0, num_lenders_total=11, num_journal_entries=1, num_bulk_entries=1, tags='#Fabrics, #Parent, #Woman-Owned Business, #Schooling', borrower_genders='female', borrower_pictured='true', repayment_interval='monthly', distribution_model='field_partner')"
      ]
     },
     "execution_count": 60,
     "metadata": {},
     "output_type": "execute_result"
    }
   ],
   "source": [
    "x"
   ]
  },
  {
   "cell_type": "markdown",
   "metadata": {},
   "source": [
    "### get n rows"
   ]
  },
  {
   "cell_type": "code",
   "execution_count": 61,
   "metadata": {
    "collapsed": true
   },
   "outputs": [
    {
     "data": {
      "text/plain": [
       "[Row(loan_id='1057058', loan_name='\\\\tLucy', original_language='English', description='Lucy is a married woman and has been blessed with five children, all of whom attend school. Together with her husband, they live in their own house that has neither electricity nor piped water. Her monthly expenses are school fees.<br /><br />Lucy has operated a fish selling business for over four years, selling from home to restaurant operators, and passersby. She faces a major challenge of seasonality and perishability leading to losses.<br /><br />With the KES 30,000, Lucy wants to purchase bundles of fish for resale. She dreams of expanding her business and establishing another business in the near future.', description_translated='Lucy is a married woman and has been blessed with five children, all of whom attend school. Together with her husband, they live in their own house that has neither electricity nor piped water. Her monthly expenses are school fees.<br /><br />Lucy has operated a fish selling business for over four years, selling from home to restaurant operators, and passersby. She faces a major challenge of seasonality and perishability leading to losses.<br /><br />With the KES 30,000, Lucy wants to purchase bundles of fish for resale. She dreams of expanding her business and establishing another business in the near future.', funded_amount=300.0, loan_amount=300.0, status='funded', activity_name='Fish Selling', sector_name='Food', loan_use='to purchase bundles of fish for resale.', country_code='KE', country_name='Kenya', town_name='Kisauni', currency_policy='shared', currency_exchange_coverage_rate=0.1, currency='KES', partner_id=164.0, posted_time='2016-04-20 07:05:43.000 +0000', planned_expiration_time='2016-05-24 15:10:07.000 +0000', disburse_time='2016-04-18 07:00:00.000 +0000', raised_time='2016-04-26 05:00:58.000 +0000', lender_term=14.0, num_lenders_total=11, num_journal_entries=1, num_bulk_entries=1, tags='#Fabrics, #Parent, #Woman-Owned Business, #Schooling', borrower_genders='female', borrower_pictured='true', repayment_interval='monthly', distribution_model='field_partner'),\n",
       " Row(loan_id='509472', loan_name='Madosho', original_language='English', description=\"Madosho is a very responsible man who values his family's well-being very much. He does not want his family members to lack basic needs. Madosho is still operating his retail shop, which is giving him commendable results. He wants to take advantage of the forthcoming festive season where sales normally increase. For this reason, he is asking for another loan to purchase bales of flour, sacks of rice and beans, and instant products. Since the last loan, his business has been gradually growing.\", description_translated=None, funded_amount=300.0, loan_amount=300.0, status='funded', activity_name='General Store', sector_name='Retail', loan_use='to purchase bales of flour, sacks of rice and beans, and instant products.', country_code='KE', country_name='Kenya', town_name='Tiribe', currency_policy='shared', currency_exchange_coverage_rate=0.1, currency='KES', partner_id=164.0, posted_time='2012-12-19 09:19:01.000 +0000', planned_expiration_time='2013-01-19 06:10:02.000 +0000', disburse_time='2012-12-14 08:00:00.000 +0000', raised_time='2012-12-20 17:13:36.000 +0000', lender_term=14.0, num_lenders_total=6, num_journal_entries=3, num_bulk_entries=2, tags=None, borrower_genders='male', borrower_pictured='true', repayment_interval='monthly', distribution_model='field_partner'),\n",
       " Row(loan_id='344324', loan_name='Marcelina', original_language='English', description='Marcelina is married with 2 child. She is a very hardworking entrepreneur. She is 49 years old and has 1 child who is in school.\\\\n\\\\nShe has a motorcycle repair shop business in the Philippines. She has been in this business for 4 years. She requested a PHP 20,000 loan through NWTF to buy additional tools and equipment for her repair shop.\\\\n\\\\nIn the future, Marcelina would like to save enough money so she could send her child to college.\\\\n', description_translated=None, funded_amount=475.0, loan_amount=475.0, status='funded', activity_name='Motorcycle Repair', sector_name='Services', loan_use='to buy additional tools and equipment for her repair shop.', country_code='PH', country_name='Philippines', town_name='Toledo, Cebu', currency_policy='shared', currency_exchange_coverage_rate=0.2, currency='PHP', partner_id=145.0, posted_time='2011-10-10 03:20:31.000 +0000', planned_expiration_time=None, disburse_time='2011-09-13 07:00:00.000 +0000', raised_time='2011-11-01 21:34:58.000 +0000', lender_term=13.0, num_lenders_total=13, num_journal_entries=2, num_bulk_entries=1, tags=None, borrower_genders='female', borrower_pictured='true', repayment_interval='monthly', distribution_model='field_partner'),\n",
       " Row(loan_id='768521', loan_name='Fadzisai', original_language='English', description='Fadzisai is a 30-year-old businesswoman from the Kwekwe District of Zimbabwe. She supports her daughter by running a business where she sells fried chips to customers. Fadzisai also volunteers as a Camfed Learner Guide at the local secondary school in her community; she teaches young students beneficial life skills. \\\\r\\\\n\\\\r\\\\nFadzisai is requesting a loan from Kiva so that she can buy a large fryer. A larger fryer will make it easier to make more chips and Fadzisai will be able to meet the demand of her customers. More profits will help Fadzisai meet the financial needs of her family.', description_translated='Fadzisai is a 30-year-old businesswoman from the Kwekwe District of Zimbabwe. She supports her daughter by running a business where she sells fried chips to customers. Fadzisai also volunteers as a Camfed Learner Guide at the local secondary school in her community; she teaches young students beneficial life skills. \\\\r\\\\n\\\\r\\\\nFadzisai is requesting a loan from Kiva so that she can buy a large fryer. A larger fryer will make it easier to make more chips and Fadzisai will be able to meet the demand of her customers. More profits will help Fadzisai meet the financial needs of her family.', funded_amount=500.0, loan_amount=500.0, status='funded', activity_name='Food Production/Sales', sector_name='Food', loan_use='To purchase a larger fryer to produce more chips.', country_code='ZW', country_name='Zimbabwe', town_name='Kwekwe', currency_policy='shared', currency_exchange_coverage_rate=0.1, currency='USD', partner_id=305.0, posted_time='2014-09-15 09:27:20.000 +0000', planned_expiration_time='2014-10-16 07:30:03.000 +0000', disburse_time='2014-09-20 07:00:00.000 +0000', raised_time='2014-09-17 14:34:06.000 +0000', lender_term=8.0, num_lenders_total=20, num_journal_entries=2, num_bulk_entries=1, tags='user_favorite', borrower_genders='female', borrower_pictured='true', repayment_interval='monthly', distribution_model='field_partner'),\n",
       " Row(loan_id='702112', loan_name='Oretha', original_language='English', description='Oretha lives in Kakata town, Liberia. She is 38 years old, married to a former security guard, and has five children aged between 13 and 22 years old, who are in school and live at home. She was unable to attend school, but has been keeping herself busy over the past five years selling slippers, blouses and other goods in the local market. She started this business with a little money from her mother. Oretha said that having only limited stock is the only challenge she faces now. She likes her business because it is affordable, and she learned this way of selling from her friends. She said she is proud of her business because it is the only way that she and her family are surviving. With the loan, Oretha is going to buy more stock for her stall. Her plan is to increase her sales even more.', description_translated='Oretha lives in Kakata town, Liberia. She is 38 years old, married to a former security guard, and has five children aged between 13 and 22 years old, who are in school and live at home. She was unable to attend school, but has been keeping herself busy over the past five years selling slippers, blouses and other goods in the local market. She started this business with a little money from her mother. Oretha said that having only limited stock is the only challenge she faces now. She likes her business because it is affordable, and she learned this way of selling from her friends. She said she is proud of her business because it is the only way that she and her family are surviving. With the loan, Oretha is going to buy more stock for her stall. Her plan is to increase her sales even more.', funded_amount=400.0, loan_amount=400.0, status='funded', activity_name='Retail', sector_name='Retail', loan_use='to buy more slippers and blouses for her market stall.', country_code='LR', country_name='Liberia', town_name='Kakata', currency_policy='shared', currency_exchange_coverage_rate=0.1, currency='LRD', partner_id=182.0, posted_time='2014-04-24 17:07:58.000 +0000', planned_expiration_time='2014-05-27 14:00:08.000 +0000', disburse_time='2014-04-10 07:00:00.000 +0000', raised_time='2014-04-30 11:58:54.000 +0000', lender_term=11.0, num_lenders_total=11, num_journal_entries=1, num_bulk_entries=1, tags=None, borrower_genders='female', borrower_pictured='true', repayment_interval='monthly', distribution_model='field_partner'),\n",
       " Row(loan_id='1951531', loan_name='Gulfer ', original_language='English', description='Gulfer is divorced and a mother of three. She knits baby blankets, sweaters, etc. She sells them to her neighbors and friends and also on stands. This way she is making a contribution to the family budget and supporting her children with their school needs. She is trying hard to stand on her own two feet. With the help of her third loan from Maya, she bought bulk threads and other materials. She wants to increase her sales.<br /><br />Translated from Turkish by Maya staff<br /><br />Gülfer Hanım bekâr, üç çocuk annesidir.  El örgüsü örüp satıyor.Bebek battaniyesi ,bebek hırka  çeşitleri gibi.. Yakın çevresine, komşularına örgülerini satıyor. Sipariş alarak istenilen örgü modellerinden örerek müşteri memnuniyetini sağlıyor.  Yaşadığı şehirde stantlara çıkarak örgülerini satışa sunuyor. Satışlardan elde ettiği ek gelirle ekonomisini güçlendiriyor. Eğitim hayatı devam eden çocuklarına destek oluyor. Eşinden ayrıldıktan sonra kendi ayakları üzerinde duramaya çaba gösteriyor. Mayadan üçüncü kredisini kullanıyor. Kredisi ile toptan ip ve diğer örgü malzemelerini aldı. Yeni örgü çeşitleri örerek satışlarını arttırmak istiyor.', description_translated='Gulfer is divorced and a mother of three. She knits baby blankets, sweaters, etc. She sells them to her neighbors and friends and also on stands. This way she is making a contribution to the family budget and supporting her children with their school needs. She is trying hard to stand on her own two feet. With the help of her third loan from Maya, she bought bulk threads and other materials. She wants to increase her sales.<br /><br />Translated from Turkish by Maya staff<br /><br />Gülfer Hanım bekâr, üç çocuk annesidir.  El örgüsü örüp satıyor.Bebek battaniyesi ,bebek hırka  çeşitleri gibi.. Yakın çevresine, komşularına örgülerini satıyor. Sipariş alarak istenilen örgü modellerinden örerek müşteri memnuniyetini sağlıyor.  Yaşadığı şehirde stantlara çıkarak örgülerini satışa sunuyor. Satışlardan elde ettiği ek gelirle ekonomisini güçlendiriyor. Eğitim hayatı devam eden çocuklarına destek oluyor. Eşinden ayrıldıktan sonra kendi ayakları üzerinde duramaya çaba gösteriyor. Mayadan üçüncü kredisini kullanıyor. Kredisi ile toptan ip ve diğer örgü malzemelerini aldı. Yeni örgü çeşitleri örerek satışlarını arttırmak istiyor.', funded_amount=225.0, loan_amount=225.0, status='funded', activity_name='Knitting', sector_name='Arts', loan_use='to buy bulk thread and other materials.', country_code='TR', country_name='Turkey', town_name=None, currency_policy='shared', currency_exchange_coverage_rate=0.1, currency='TRY', partner_id=198.0, posted_time='2020-03-23 12:45:37.000 +0000', planned_expiration_time='2020-04-24 23:10:23.000 +0000', disburse_time='2020-03-04 08:00:00.000 +0000', raised_time='2020-03-26 04:35:43.000 +0000', lender_term=7.0, num_lenders_total=8, num_journal_entries=1, num_bulk_entries=1, tags='user_favorite', borrower_genders='female', borrower_pictured='true', repayment_interval='monthly', distribution_model='field_partner'),\n",
       " Row(loan_id='497810', loan_name=\"Kimleang's Group\", original_language='English', description=\"Kimleang, 33, is married and has three dependent children, all of whom are still in school. Her family lives in a house with a thatched roof, located in Battambang province’s Moung Russey district. The main sources of her family’s income are rice farming, selling fish in her village, and her husband's work of catching fish. She has been running her business for ten years, earning about KHR 18,000 per day, and she is able to save about KHR 8,000 each day. \\\\r\\\\n\\\\r\\\\nKimleang’s group consists of two members, who have each been with VisionFund for one loan cycle. Kimleang successfully paid back the previous loan, which helped her to better support her family's living conditions. Now she is leading her group to ask for a new loan. Kimleang, who is leader, will use her portion of the loan to buy fertilizer and seeds for her farming business. She hopes to increase her crop yield, to earn more income and make a better living, and also to keep her children in school. \\\\r\\\\n\", description_translated=None, funded_amount=625.0, loan_amount=625.0, status='funded', activity_name='Farming', sector_name='Agriculture', loan_use='To buy fertilizer and seeds for her farming business', country_code='KH', country_name='Cambodia', town_name='Battambang province, Moung Russey district', currency_policy='shared', currency_exchange_coverage_rate=0.1, currency='KHR', partner_id=204.0, posted_time='2012-11-19 08:42:57.000 +0000', planned_expiration_time='2012-12-31 08:16:40.000 +0000', disburse_time='2012-10-20 07:00:00.000 +0000', raised_time='2012-12-04 19:36:16.000 +0000', lender_term=14.0, num_lenders_total=24, num_journal_entries=2, num_bulk_entries=1, tags=None, borrower_genders='female, female', borrower_pictured='true, true', repayment_interval='irregular', distribution_model='field_partner'),\n",
       " Row(loan_id='1560103', loan_name='CRISTIAN', original_language='Spanish', description='Cristian es un joven de 22 años de edad el cual se dedica a la venta de alimentos.\\\\nReside en el municipio de Medellín, inició su negocio pro gusto y vocación al trabajo independiente, pues sueña con tener una vivienda propia y una vida de mejor calidad.\\\\nÉl se encuentra solicitando un préstamo para la compra de un carro de comidas rápidas, carpa, utensilios de cocina, inventario y sillas para fortalecer las ventas de su negocio.\\\\n\\\\n\\\\nIf you want to know more about the entrepreneurs and the loans from Interactuar, you can join the Lending Team called: “Friends of Interactuar Colombia”: http://www.kiva.org/team/interactuar_colombia\\\\n\\\\n\\\\n\\\\n', description_translated='Cristian is a 22-year-old young man who works selling foods. He resides in the municipality of Medellín. He started his business for pleasure and vocation to work independently since he dreams of having his own home and a better quality of life.<br /><br />He is requesting a loan for the purchase of a fast food cart, a tent, cookware, inventory, and chairs to strengthen the sales of his business.<br />\\\\t\\\\t\\\\t\\\\t\\\\t\\\\t\\\\t\\\\t\\\\t\\\\t<br />If you want to know more about the entrepreneurs and the loans from Interactuar, you can join the Lending Team called: “Friends of Interactuar Colombia”: http://www.kiva.org/team/interactuar_colombia', funded_amount=850.0, loan_amount=850.0, status='funded', activity_name='Food Production/Sales', sector_name='Food', loan_use='to purchase a fast food cart, a tent, cookware, inventory, and chairs to strengthen the sales of his business.', country_code='CO', country_name='Colombia', town_name='Medellín', currency_policy='shared', currency_exchange_coverage_rate=0.1, currency='COP', partner_id=177.0, posted_time='2018-06-29 19:20:41.000 +0000', planned_expiration_time='2018-08-06 11:10:04.000 +0000', disburse_time='2018-05-31 07:00:00.000 +0000', raised_time='2018-08-06 03:17:17.000 +0000', lender_term=23.0, num_lenders_total=13, num_journal_entries=6, num_bulk_entries=4, tags='user_favorite, user_favorite, #Biz Durable Asset, #Parent', borrower_genders='male', borrower_pictured='true', repayment_interval='monthly', distribution_model='field_partner'),\n",
       " Row(loan_id='1604550', loan_name='Venasio', original_language='English', description='Venasio deals in the buying and selling of agricultural produce. He mostly buys and sells maize, beans and ground nuts. He has been in this business for more than seven years and testifies that his business is lucrative. He has also ventured into farming, mostly growing cassava, beans and maize. He hoped to expand and develop his business into a food store, only to be limited by inadequate capital and price fluctuations. He is requesting a loan to buy more beans and rice to sell during the back to school season.', description_translated='Venasio deals in the buying and selling of agricultural produce. He mostly buys and sells maize, beans and ground nuts. He has been in this business for more than seven years and testifies that his business is lucrative. He has also ventured into farming, mostly growing cassava, beans and maize. He hoped to expand and develop his business into a food store, only to be limited by inadequate capital and price fluctuations. He is requesting a loan to buy more beans and rice to sell during the back to school season.', funded_amount=550.0, loan_amount=550.0, status='funded', activity_name='Food Production/Sales', sector_name='Food', loan_use='to buy more beans and rice to sell.', country_code='UG', country_name='Uganda', town_name='Hoima', currency_policy='shared', currency_exchange_coverage_rate=0.1, currency='UGX', partner_id=163.0, posted_time='2018-09-12 06:36:55.000 +0000', planned_expiration_time='2018-10-13 21:40:03.000 +0000', disburse_time='2018-08-23 07:00:00.000 +0000', raised_time='2018-10-01 14:03:57.000 +0000', lender_term=10.0, num_lenders_total=15, num_journal_entries=1, num_bulk_entries=1, tags='#Vegan', borrower_genders='male', borrower_pictured='true', repayment_interval='monthly', distribution_model='field_partner'),\n",
       " Row(loan_id='557284', loan_name='Kadiatu', original_language='English', description=\"Kadiatu is 23 years old and married with 2 children, ages 1 year and 6 years. She runs a food stand business in Torkpoi town in Sierra Leone.\\\\r\\\\n\\\\r\\\\nShe's been in this business for 4 years and sells pepper, rice, cooking oil, Maggie (bouillon) and fish.   She says that the main challenge to her business is lack of enough capital to run the business.\\\\r\\\\n\\\\r\\\\nKadiatu requested this loan through BRAC Sierra Leone to purchase more pepper, rice, cooking oil, Maggie, and fish for resale. She says that the extra income from this loan will help her improve her standard of living and educate her child. In the future, she would like to expand her business more. She is grateful for your support.\\\\r\\\\n\", description_translated=None, funded_amount=125.0, loan_amount=125.0, status='funded', activity_name='Food Stall', sector_name='Food', loan_use='to purchase more pepper, rice, cooking oil, Maggie (bouillon) and fish for resale.', country_code='SL', country_name='Sierra Leone', town_name='Torkpoi town Bo', currency_policy='shared', currency_exchange_coverage_rate=0.1, currency='SLL', partner_id=183.0, posted_time='2013-05-07 17:34:27.000 +0000', planned_expiration_time='2013-06-09 22:10:02.000 +0000', disburse_time='2013-04-08 07:00:00.000 +0000', raised_time='2013-05-11 04:43:58.000 +0000', lender_term=11.0, num_lenders_total=5, num_journal_entries=1, num_bulk_entries=1, tags=None, borrower_genders='female', borrower_pictured='true', repayment_interval='monthly', distribution_model='field_partner')]"
      ]
     },
     "execution_count": 61,
     "metadata": {},
     "output_type": "execute_result"
    }
   ],
   "source": [
    "df_loans.take(10)"
   ]
  },
  {
   "cell_type": "markdown",
   "metadata": {},
   "source": [
    "### different loan status"
   ]
  },
  {
   "cell_type": "code",
   "execution_count": 62,
   "metadata": {
    "scrolled": true
   },
   "outputs": [
    {
     "name": "stdout",
     "output_type": "stream",
     "text": [
      "+-----------+\n",
      "|     status|\n",
      "+-----------+\n",
      "|   refunded|\n",
      "|fundRaising|\n",
      "|    expired|\n",
      "|     funded|\n",
      "+-----------+\n",
      "\n"
     ]
    }
   ],
   "source": [
    "df_loans.select(\"status\").distinct().show()"
   ]
  },
  {
   "cell_type": "markdown",
   "metadata": {},
   "source": [
    "### filter "
   ]
  },
  {
   "cell_type": "code",
   "execution_count": 63,
   "metadata": {
    "scrolled": true
   },
   "outputs": [
    {
     "data": {
      "text/plain": [
       "1510115"
      ]
     },
     "execution_count": 63,
     "metadata": {},
     "output_type": "execute_result"
    }
   ],
   "source": [
    "df_loans.filter(df_loans.status == 'funded').count()"
   ]
  },
  {
   "cell_type": "code",
   "execution_count": 64,
   "metadata": {},
   "outputs": [
    {
     "data": {
      "text/plain": [
       "5336"
      ]
     },
     "execution_count": 64,
     "metadata": {},
     "output_type": "execute_result"
    }
   ],
   "source": [
    "df_loans.filter(\"status = 'refunded'\").count()"
   ]
  },
  {
   "cell_type": "code",
   "execution_count": 65,
   "metadata": {
    "scrolled": true
   },
   "outputs": [
    {
     "data": {
      "text/plain": [
       "77642"
      ]
     },
     "execution_count": 65,
     "metadata": {},
     "output_type": "execute_result"
    }
   ],
   "source": [
    "df_loans.where(\"status = 'expired'\").count()"
   ]
  },
  {
   "cell_type": "markdown",
   "metadata": {},
   "source": [
    "### select distinct sector names"
   ]
  },
  {
   "cell_type": "code",
   "execution_count": 66,
   "metadata": {},
   "outputs": [
    {
     "name": "stdout",
     "output_type": "stream",
     "text": [
      "+--------------+\n",
      "|sector_name   |\n",
      "+--------------+\n",
      "|Services      |\n",
      "|Wholesale     |\n",
      "|Education     |\n",
      "|Food          |\n",
      "|Entertainment |\n",
      "|Housing       |\n",
      "|Health        |\n",
      "|Clothing      |\n",
      "|Personal Use  |\n",
      "|Construction  |\n",
      "|Agriculture   |\n",
      "|Arts          |\n",
      "|Retail        |\n",
      "|Manufacturing |\n",
      "|Transportation|\n",
      "+--------------+\n",
      "\n"
     ]
    }
   ],
   "source": [
    "df_loans.select('sector_name').distinct().show(truncate=False) # 15 sectors"
   ]
  },
  {
   "cell_type": "markdown",
   "metadata": {},
   "source": [
    "### number of activities in Services sector"
   ]
  },
  {
   "cell_type": "code",
   "execution_count": 67,
   "metadata": {},
   "outputs": [
    {
     "name": "stdout",
     "output_type": "stream",
     "text": [
      "+-------------------+\n",
      "|      activity_name|\n",
      "+-------------------+\n",
      "|           Services|\n",
      "|   Machinery Rental|\n",
      "|Mobile Transactions|\n",
      "|  Motorcycle Repair|\n",
      "|          Computers|\n",
      "|             Energy|\n",
      "|          Tailoring|\n",
      "|      Internet Cafe|\n",
      "|            Laundry|\n",
      "|        Electrician|\n",
      "|           Printing|\n",
      "|     Communications|\n",
      "|        Call Center|\n",
      "|        Bookbinding|\n",
      "|            Cobbler|\n",
      "|          Utilities|\n",
      "|              Hotel|\n",
      "| Electronics Repair|\n",
      "|    Vehicle Repairs|\n",
      "|   Air Conditioning|\n",
      "+-------------------+\n",
      "only showing top 20 rows\n",
      "\n"
     ]
    }
   ],
   "source": [
    "df_loans.where(\"sector_name = 'Services'\").select('activity_name').distinct().show()"
   ]
  },
  {
   "cell_type": "code",
   "execution_count": 68,
   "metadata": {},
   "outputs": [
    {
     "data": {
      "text/plain": [
       "39"
      ]
     },
     "execution_count": 68,
     "metadata": {},
     "output_type": "execute_result"
    }
   ],
   "source": [
    "df_loans.where(\"sector_name = 'Services'\").select('activity_name').distinct().count()"
   ]
  },
  {
   "cell_type": "markdown",
   "metadata": {},
   "source": [
    "### number of records with mobile transactions"
   ]
  },
  {
   "cell_type": "code",
   "execution_count": 69,
   "metadata": {},
   "outputs": [
    {
     "data": {
      "text/plain": [
       "1624"
      ]
     },
     "execution_count": 69,
     "metadata": {},
     "output_type": "execute_result"
    }
   ],
   "source": [
    "# 1\n",
    "df_loans.where(\"sector_name = 'Services' and activity_name = 'Mobile Transactions'\").count()"
   ]
  },
  {
   "cell_type": "code",
   "execution_count": 70,
   "metadata": {},
   "outputs": [
    {
     "data": {
      "text/plain": [
       "1624"
      ]
     },
     "execution_count": 70,
     "metadata": {},
     "output_type": "execute_result"
    }
   ],
   "source": [
    "# 2\n",
    "df_loans.where((df_loans.sector_name == 'Services') & (df_loans.activity_name == 'Mobile Transactions')).count()"
   ]
  },
  {
   "cell_type": "code",
   "execution_count": 71,
   "metadata": {},
   "outputs": [
    {
     "data": {
      "text/plain": [
       "1624"
      ]
     },
     "execution_count": 71,
     "metadata": {},
     "output_type": "execute_result"
    }
   ],
   "source": [
    "# 3\n",
    "df_loans.where((f.col('sector_name') == 'Services') & (f.col('activity_name') == 'Mobile Transactions')).count()"
   ]
  },
  {
   "cell_type": "markdown",
   "metadata": {},
   "source": [
    "### number of records with Beauty Salon and Barber Shop"
   ]
  },
  {
   "cell_type": "code",
   "execution_count": 72,
   "metadata": {
    "scrolled": false
   },
   "outputs": [
    {
     "data": {
      "text/plain": [
       "19558"
      ]
     },
     "execution_count": 72,
     "metadata": {},
     "output_type": "execute_result"
    }
   ],
   "source": [
    "df_loans.where((f.col('sector_name') == 'Services') & (f.col('activity_name').isin('Beauty Salon', 'Barber Shop'))).count()"
   ]
  },
  {
   "cell_type": "markdown",
   "metadata": {},
   "source": [
    "### loans with disburse time between 2015-01-01 and 2018-01-01"
   ]
  },
  {
   "cell_type": "code",
   "execution_count": 73,
   "metadata": {
    "collapsed": true
   },
   "outputs": [
    {
     "name": "stdout",
     "output_type": "stream",
     "text": [
      "+-----------------------------+\n",
      "|disburse_time                |\n",
      "+-----------------------------+\n",
      "|2016-04-18 07:00:00.000 +0000|\n",
      "|2012-12-14 08:00:00.000 +0000|\n",
      "|2011-09-13 07:00:00.000 +0000|\n",
      "|2014-09-20 07:00:00.000 +0000|\n",
      "|2014-04-10 07:00:00.000 +0000|\n",
      "|2020-03-04 08:00:00.000 +0000|\n",
      "|2012-10-20 07:00:00.000 +0000|\n",
      "|2018-05-31 07:00:00.000 +0000|\n",
      "|2018-08-23 07:00:00.000 +0000|\n",
      "|2013-04-08 07:00:00.000 +0000|\n",
      "+-----------------------------+\n",
      "only showing top 10 rows\n",
      "\n"
     ]
    }
   ],
   "source": [
    "df_loans.select('disburse_time').show(10, False)"
   ]
  },
  {
   "cell_type": "code",
   "execution_count": null,
   "metadata": {},
   "outputs": [],
   "source": [
    "# date - yyyy-MM-dd "
   ]
  },
  {
   "cell_type": "code",
   "execution_count": null,
   "metadata": {},
   "outputs": [],
   "source": [
    "# dd/mm/yyyy - wrong"
   ]
  },
  {
   "cell_type": "code",
   "execution_count": 74,
   "metadata": {
    "collapsed": true
   },
   "outputs": [
    {
     "name": "stdout",
     "output_type": "stream",
     "text": [
      "+--------------+\n",
      "|disbursed_date|\n",
      "+--------------+\n",
      "|    2016-04-18|\n",
      "|    2012-12-14|\n",
      "|    2011-09-13|\n",
      "|    2014-09-20|\n",
      "|    2014-04-10|\n",
      "|    2020-03-04|\n",
      "|    2012-10-20|\n",
      "|    2018-05-31|\n",
      "|    2018-08-23|\n",
      "|    2013-04-08|\n",
      "|    2017-09-14|\n",
      "|    2013-12-19|\n",
      "|    2014-12-19|\n",
      "|    2012-10-16|\n",
      "|    2019-04-30|\n",
      "|    2014-02-20|\n",
      "|    2019-12-30|\n",
      "|    2013-06-20|\n",
      "|    2018-12-26|\n",
      "|    2014-11-28|\n",
      "+--------------+\n",
      "only showing top 20 rows\n",
      "\n"
     ]
    }
   ],
   "source": [
    "df_loans.select(f.col('disburse_time').substr(1, 10).alias('disbursed_date').cast('date')).show()"
   ]
  },
  {
   "cell_type": "code",
   "execution_count": 75,
   "metadata": {
    "collapsed": true
   },
   "outputs": [
    {
     "name": "stdout",
     "output_type": "stream",
     "text": [
      "+-------+---------------+-----------------------------+\n",
      "|loan_id|loan_name      |disburse_time                |\n",
      "+-------+---------------+-----------------------------+\n",
      "|1057058|\\tLucy         |2016-04-18 07:00:00.000 +0000|\n",
      "|1383778|Yesica Marilú  |2017-09-14 07:00:00.000 +0000|\n",
      "|835424 |Vilma          |2015-01-26 08:00:00.000 +0000|\n",
      "|1296242|Mulyati S      |2017-05-08 07:00:00.000 +0000|\n",
      "|1233188|Nida           |2017-01-20 08:00:00.000 +0000|\n",
      "|950357 |Bernaditha     |2015-08-25 07:00:00.000 +0000|\n",
      "|1272007|Rebecca        |2017-03-06 08:00:00.000 +0000|\n",
      "|1316761|Glenda         |2017-05-24 07:00:00.000 +0000|\n",
      "|1124820|ROSALINA       |2016-07-14 07:00:00.000 +0000|\n",
      "|1306337|Nancy          |2017-05-05 07:00:00.000 +0000|\n",
      "|1033537|Susan          |2016-02-05 08:00:00.000 +0000|\n",
      "|871235 |Durdona        |2015-03-17 07:00:00.000 +0000|\n",
      "|987778 |Thanh          |2015-10-31 07:00:00.000 +0000|\n",
      "|938334 |Rafael de Jesus|2015-08-11 07:00:00.000 +0000|\n",
      "|1421780|Leonara        |2017-10-27 07:00:00.000 +0000|\n",
      "|1144728|Norma Constanza|2016-08-17 07:00:00.000 +0000|\n",
      "|1358497|Ratih          |2017-07-24 07:00:00.000 +0000|\n",
      "|1411948|Adoracion      |2017-10-18 07:00:00.000 +0000|\n",
      "|1358586|Ma. Marilac    |2017-07-27 07:00:00.000 +0000|\n",
      "|1143724|Lagomau        |2016-08-12 07:00:00.000 +0000|\n",
      "+-------+---------------+-----------------------------+\n",
      "only showing top 20 rows\n",
      "\n"
     ]
    }
   ],
   "source": [
    "df_loans.filter(f.col('disburse_time').substr(1, 10).cast('date').between('2015-01-01', '2018-01-01'))\\\n",
    ".select('loan_id', 'loan_name', 'disburse_time').show(truncate=False)"
   ]
  },
  {
   "cell_type": "markdown",
   "metadata": {},
   "source": [
    "### add a new column"
   ]
  },
  {
   "cell_type": "code",
   "execution_count": 181,
   "metadata": {},
   "outputs": [],
   "source": [
    "df_loans2 = df_loans.withColumn('disbursed_date', f.col('disburse_time').substr(1, 10).cast('date'))"
   ]
  },
  {
   "cell_type": "code",
   "execution_count": 77,
   "metadata": {
    "scrolled": false
   },
   "outputs": [
    {
     "data": {
      "text/plain": [
       "DataFrame[loan_id: string, loan_name: string, original_language: string, description: string, description_translated: string, funded_amount: double, loan_amount: double, status: string, activity_name: string, sector_name: string, loan_use: string, country_code: string, country_name: string, town_name: string, currency_policy: string, currency_exchange_coverage_rate: double, currency: string, partner_id: double, posted_time: string, planned_expiration_time: string, disburse_time: string, raised_time: string, lender_term: double, num_lenders_total: int, num_journal_entries: int, num_bulk_entries: int, tags: string, borrower_genders: string, borrower_pictured: string, repayment_interval: string, distribution_model: string, disbursed_date: date]"
      ]
     },
     "execution_count": 77,
     "metadata": {},
     "output_type": "execute_result"
    }
   ],
   "source": [
    "df_loans2"
   ]
  },
  {
   "cell_type": "code",
   "execution_count": 78,
   "metadata": {
    "collapsed": true
   },
   "outputs": [
    {
     "name": "stdout",
     "output_type": "stream",
     "text": [
      "+-------+---------+-----------------+--------------------+----------------------+-------------+-----------+------+--------------------+-----------+--------------------+------------+------------+------------+---------------+-------------------------------+--------+----------+--------------------+-----------------------+--------------------+--------------------+-----------+-----------------+-------------------+----------------+--------------------+----------------+-----------------+------------------+------------------+--------------+----+\n",
      "|loan_id|loan_name|original_language|         description|description_translated|funded_amount|loan_amount|status|       activity_name|sector_name|            loan_use|country_code|country_name|   town_name|currency_policy|currency_exchange_coverage_rate|currency|partner_id|         posted_time|planned_expiration_time|       disburse_time|         raised_time|lender_term|num_lenders_total|num_journal_entries|num_bulk_entries|                tags|borrower_genders|borrower_pictured|repayment_interval|distribution_model|disbursed_date|flag|\n",
      "+-------+---------+-----------------+--------------------+----------------------+-------------+-----------+------+--------------------+-----------+--------------------+------------+------------+------------+---------------+-------------------------------+--------+----------+--------------------+-----------------------+--------------------+--------------------+-----------+-----------------+-------------------+----------------+--------------------+----------------+-----------------+------------------+------------------+--------------+----+\n",
      "|1057058|   \\tLucy|          English|Lucy is a married...|  Lucy is a married...|        300.0|      300.0|funded|        Fish Selling|       Food|to purchase bundl...|          KE|       Kenya|     Kisauni|         shared|                            0.1|     KES|     164.0|2016-04-20 07:05:...|   2016-05-24 15:10:...|2016-04-18 07:00:...|2016-04-26 05:00:...|       14.0|               11|                  1|               1|#Fabrics, #Parent...|          female|             true|           monthly|     field_partner|    2016-04-18|   Y|\n",
      "| 509472|  Madosho|          English|Madosho is a very...|                  null|        300.0|      300.0|funded|       General Store|     Retail|to purchase bales...|          KE|       Kenya|      Tiribe|         shared|                            0.1|     KES|     164.0|2012-12-19 09:19:...|   2013-01-19 06:10:...|2012-12-14 08:00:...|2012-12-20 17:13:...|       14.0|                6|                  3|               2|                null|            male|             true|           monthly|     field_partner|    2012-12-14|   Y|\n",
      "| 344324|Marcelina|          English|Marcelina is marr...|                  null|        475.0|      475.0|funded|   Motorcycle Repair|   Services|to buy additional...|          PH| Philippines|Toledo, Cebu|         shared|                            0.2|     PHP|     145.0|2011-10-10 03:20:...|                   null|2011-09-13 07:00:...|2011-11-01 21:34:...|       13.0|               13|                  2|               1|                null|          female|             true|           monthly|     field_partner|    2011-09-13|   Y|\n",
      "| 768521| Fadzisai|          English|Fadzisai is a 30-...|  Fadzisai is a 30-...|        500.0|      500.0|funded|Food Production/S...|       Food|To purchase a lar...|          ZW|    Zimbabwe|      Kwekwe|         shared|                            0.1|     USD|     305.0|2014-09-15 09:27:...|   2014-10-16 07:30:...|2014-09-20 07:00:...|2014-09-17 14:34:...|        8.0|               20|                  2|               1|       user_favorite|          female|             true|           monthly|     field_partner|    2014-09-20|   Y|\n",
      "| 702112|   Oretha|          English|Oretha lives in K...|  Oretha lives in K...|        400.0|      400.0|funded|              Retail|     Retail|to buy more slipp...|          LR|     Liberia|      Kakata|         shared|                            0.1|     LRD|     182.0|2014-04-24 17:07:...|   2014-05-27 14:00:...|2014-04-10 07:00:...|2014-04-30 11:58:...|       11.0|               11|                  1|               1|                null|          female|             true|           monthly|     field_partner|    2014-04-10|   Y|\n",
      "+-------+---------+-----------------+--------------------+----------------------+-------------+-----------+------+--------------------+-----------+--------------------+------------+------------+------------+---------------+-------------------------------+--------+----------+--------------------+-----------------------+--------------------+--------------------+-----------+-----------------+-------------------+----------------+--------------------+----------------+-----------------+------------------+------------------+--------------+----+\n",
      "only showing top 5 rows\n",
      "\n"
     ]
    }
   ],
   "source": [
    "df_loans2.withColumn('flag', f.lit('Y')).show(5) #literal"
   ]
  },
  {
   "cell_type": "code",
   "execution_count": 182,
   "metadata": {},
   "outputs": [],
   "source": [
    "df_loans2.withColumn('created_at', f.lit('2022-01-16'))\\\n",
    ".write.mode('overwrite')\\\n",
    ".partitionBy('created_at').parquet('D:\\\\data\\\\loans_pqt_part')"
   ]
  },
  {
   "cell_type": "markdown",
   "metadata": {},
   "source": [
    "### groupby"
   ]
  },
  {
   "cell_type": "code",
   "execution_count": 184,
   "metadata": {},
   "outputs": [
    {
     "name": "stdout",
     "output_type": "stream",
     "text": [
      "+-----------+\n",
      "|     status|\n",
      "+-----------+\n",
      "|   refunded|\n",
      "|fundRaising|\n",
      "|    expired|\n",
      "|     funded|\n",
      "+-----------+\n",
      "\n"
     ]
    }
   ],
   "source": [
    "df_loans.select('status').distinct().show()"
   ]
  },
  {
   "cell_type": "code",
   "execution_count": 185,
   "metadata": {},
   "outputs": [
    {
     "name": "stdout",
     "output_type": "stream",
     "text": [
      "+-----------+-------+\n",
      "|     status|  count|\n",
      "+-----------+-------+\n",
      "|   refunded|   5336|\n",
      "|fundRaising|   2730|\n",
      "|    expired|  77642|\n",
      "|     funded|1510115|\n",
      "+-----------+-------+\n",
      "\n"
     ]
    }
   ],
   "source": [
    "df_loans.groupby('status').count().show()"
   ]
  },
  {
   "cell_type": "markdown",
   "metadata": {},
   "source": [
    "### number of loans in different countries"
   ]
  },
  {
   "cell_type": "code",
   "execution_count": 186,
   "metadata": {},
   "outputs": [
    {
     "name": "stdout",
     "output_type": "stream",
     "text": [
      "+------------+------+\n",
      "|country_name| count|\n",
      "+------------+------+\n",
      "| Philippines|346572|\n",
      "|       Kenya|229053|\n",
      "|      Uganda| 72616|\n",
      "|    Cambodia| 70748|\n",
      "| El Salvador| 63578|\n",
      "|        Peru| 59567|\n",
      "|  Tajikistan| 55386|\n",
      "|    Pakistan| 55007|\n",
      "|    Colombia| 46720|\n",
      "|   Nicaragua| 29653|\n",
      "|     Vietnam| 27675|\n",
      "|       India| 25224|\n",
      "|    Paraguay| 24612|\n",
      "|     Nigeria| 22833|\n",
      "|      Rwanda| 22700|\n",
      "|     Liberia| 21887|\n",
      "|        Togo| 21771|\n",
      "|       Ghana| 20812|\n",
      "|    Honduras| 20384|\n",
      "|  Madagascar| 20072|\n",
      "+------------+------+\n",
      "only showing top 20 rows\n",
      "\n"
     ]
    }
   ],
   "source": [
    "df_loans.groupby('country_name').count().orderBy(f.col('count').desc()).show()"
   ]
  },
  {
   "cell_type": "code",
   "execution_count": null,
   "metadata": {},
   "outputs": [],
   "source": [
    "df_loans.groupBy('status').max('')"
   ]
  },
  {
   "cell_type": "markdown",
   "metadata": {},
   "source": [
    "#### funded_amount - The amount disbursed by Kiva to the field agent(USD)\n",
    "#### loan_amount - The amount disbursed by the field agent to the borrower(USD)"
   ]
  },
  {
   "cell_type": "markdown",
   "metadata": {},
   "source": [
    "### max loan amount for specific country"
   ]
  },
  {
   "cell_type": "code",
   "execution_count": 189,
   "metadata": {},
   "outputs": [],
   "source": [
    "df_max_loan_in_country = df_loans.groupby('country_name').agg({'loan_amount': 'max'})\\\n",
    "                                 .withColumnRenamed('max(loan_amount)', 'max_loan_amt')"
   ]
  },
  {
   "cell_type": "code",
   "execution_count": 190,
   "metadata": {},
   "outputs": [
    {
     "name": "stdout",
     "output_type": "stream",
     "text": [
      "+------------+------------+\n",
      "|country_name|max_loan_amt|\n",
      "+------------+------------+\n",
      "|    Paraguay|    355225.0|\n",
      "|       Yemen|     13975.0|\n",
      "|     Senegal|      6200.0|\n",
      "| Philippines|    100000.0|\n",
      "|       Tonga|      5600.0|\n",
      "|        Fiji|      3975.0|\n",
      "|      Turkey|     12375.0|\n",
      "|      Malawi|     50000.0|\n",
      "|        Iraq|      3000.0|\n",
      "|    Cambodia|     50000.0|\n",
      "|      Jordan|      4575.0|\n",
      "|      Rwanda|    408375.0|\n",
      "|      Kosovo|      2975.0|\n",
      "|   Sri Lanka|       875.0|\n",
      "|        Togo|      5550.0|\n",
      "|     Ecuador|     10000.0|\n",
      "|     Lesotho|      2400.0|\n",
      "|     Albania|     50000.0|\n",
      "|  Madagascar|     50000.0|\n",
      "|       Ghana|     50000.0|\n",
      "+------------+------------+\n",
      "only showing top 20 rows\n",
      "\n"
     ]
    }
   ],
   "source": [
    "df_max_loan_in_country.show()"
   ]
  },
  {
   "cell_type": "markdown",
   "metadata": {},
   "source": [
    "### min funded amount"
   ]
  },
  {
   "cell_type": "code",
   "execution_count": 82,
   "metadata": {},
   "outputs": [
    {
     "name": "stdout",
     "output_type": "stream",
     "text": [
      "+------------+------------------+\n",
      "|country_name|min(funded_amount)|\n",
      "+------------+------------------+\n",
      "|    Paraguay|               0.0|\n",
      "|       Yemen|              50.0|\n",
      "|     Senegal|               0.0|\n",
      "| Philippines|               0.0|\n",
      "|       Tonga|               0.0|\n",
      "|        Fiji|             100.0|\n",
      "|      Turkey|               0.0|\n",
      "|      Malawi|              50.0|\n",
      "|        Iraq|            1200.0|\n",
      "|    Cambodia|               0.0|\n",
      "|      Jordan|               0.0|\n",
      "|      Rwanda|               0.0|\n",
      "|      Kosovo|              25.0|\n",
      "|   Sri Lanka|             100.0|\n",
      "|        Togo|               0.0|\n",
      "|     Ecuador|              25.0|\n",
      "|     Lesotho|               0.0|\n",
      "|     Albania|               0.0|\n",
      "|  Madagascar|               0.0|\n",
      "|       Ghana|              25.0|\n",
      "+------------+------------------+\n",
      "only showing top 20 rows\n",
      "\n"
     ]
    }
   ],
   "source": [
    "df_loans.groupby('country_name').min('funded_amount').show()"
   ]
  },
  {
   "cell_type": "markdown",
   "metadata": {},
   "source": [
    "### avg funded amount"
   ]
  },
  {
   "cell_type": "code",
   "execution_count": 191,
   "metadata": {
    "collapsed": true
   },
   "outputs": [
    {
     "name": "stdout",
     "output_type": "stream",
     "text": [
      "+------------+------------------+\n",
      "|country_name|    avg_funded_amt|\n",
      "+------------+------------------+\n",
      "|  Madagascar|247.33334994021521|\n",
      "|     Nigeria| 264.9465685630447|\n",
      "|   Sri Lanka| 283.3333333333333|\n",
      "|     Liberia| 329.4786859779778|\n",
      "| Philippines|  343.405699248641|\n",
      "|     Lesotho| 364.0006763611769|\n",
      "| South Sudan| 373.2387569967188|\n",
      "|      Turkey| 403.3796155019835|\n",
      "|        Togo|409.09351890129074|\n",
      "|       Nepal| 413.9229636898921|\n",
      "|       Kenya|416.28138465769933|\n",
      "|    Cameroon|425.75014153613887|\n",
      "|       India|  490.630946717412|\n",
      "|    Pakistan|  515.081716872398|\n",
      "|    Colombia| 526.3511344178082|\n",
      "|   Indonesia| 549.8694708435996|\n",
      "|    Cambodia| 583.0680725956918|\n",
      "|  Mozambique|  591.769334299617|\n",
      "| El Salvador| 593.8319859070748|\n",
      "|      Uganda| 639.2702710146524|\n",
      "+------------+------------------+\n",
      "only showing top 20 rows\n",
      "\n"
     ]
    }
   ],
   "source": [
    "df_loans.groupby('country_name').agg(f.avg('funded_amount').alias('avg_funded_amt'))\\\n",
    "        .orderBy(f.col('avg_funded_amt').asc()).show()"
   ]
  },
  {
   "cell_type": "markdown",
   "metadata": {},
   "source": [
    "### mean funded amount"
   ]
  },
  {
   "cell_type": "code",
   "execution_count": 84,
   "metadata": {
    "collapsed": true
   },
   "outputs": [
    {
     "name": "stdout",
     "output_type": "stream",
     "text": [
      "+------------+------------------+\n",
      "|country_name|avg(funded_amount)|\n",
      "+------------+------------------+\n",
      "|    Paraguay|2438.5064196326994|\n",
      "|       Yemen|  792.452942578032|\n",
      "|     Senegal| 2090.940918130593|\n",
      "| Philippines|  343.405699248641|\n",
      "|       Tonga|1155.3858520900321|\n",
      "|        Fiji| 735.0470588235294|\n",
      "|      Turkey| 403.3796155019835|\n",
      "|      Malawi|1448.4389782403027|\n",
      "|        Iraq| 2458.119658119658|\n",
      "|    Cambodia| 583.0680725956918|\n",
      "|      Jordan|1006.9950357810586|\n",
      "|      Rwanda|2015.4438325991189|\n",
      "|      Kosovo|1277.3489932885907|\n",
      "|   Sri Lanka| 283.3333333333333|\n",
      "|        Togo|409.09351890129074|\n",
      "|     Ecuador| 943.1407015326275|\n",
      "|     Lesotho| 364.0006763611769|\n",
      "|     Albania|1388.3080077182826|\n",
      "|  Madagascar|247.33334994021521|\n",
      "|       Ghana| 706.9491158946762|\n",
      "+------------+------------------+\n",
      "only showing top 20 rows\n",
      "\n"
     ]
    }
   ],
   "source": [
    "df_loans.groupby('country_name').mean('funded_amount').show()"
   ]
  },
  {
   "cell_type": "markdown",
   "metadata": {},
   "source": [
    "### sum funded amount"
   ]
  },
  {
   "cell_type": "code",
   "execution_count": 85,
   "metadata": {
    "collapsed": true
   },
   "outputs": [
    {
     "name": "stdout",
     "output_type": "stream",
     "text": [
      "+------------+------------------+\n",
      "|country_name|sum(funded_amount)|\n",
      "+------------+------------------+\n",
      "|    Paraguay|        6.001652E7|\n",
      "|       Yemen|         3325925.0|\n",
      "|     Senegal|       2.5233475E7|\n",
      "| Philippines|        1.190148E8|\n",
      "|       Tonga|         1437300.0|\n",
      "|        Fiji|         1561975.0|\n",
      "|      Turkey|         1321875.0|\n",
      "|      Malawi|         4593000.0|\n",
      "|        Iraq|          287600.0|\n",
      "|    Cambodia|         4.12509E7|\n",
      "|      Jordan|         1.56195E7|\n",
      "|      Rwanda|       4.5750575E7|\n",
      "|      Kosovo|         3806500.0|\n",
      "|   Sri Lanka|           74800.0|\n",
      "|        Togo|         8906375.0|\n",
      "|     Ecuador|       1.1938275E7|\n",
      "|     Lesotho|         1076350.0|\n",
      "|     Albania|         5755925.0|\n",
      "|  Madagascar|         4964475.0|\n",
      "|       Ghana|       1.4713025E7|\n",
      "+------------+------------------+\n",
      "only showing top 20 rows\n",
      "\n"
     ]
    }
   ],
   "source": [
    "df_loans.groupby('country_name').sum('funded_amount').show()"
   ]
  },
  {
   "cell_type": "markdown",
   "metadata": {},
   "source": [
    "### pivot"
   ]
  },
  {
   "cell_type": "code",
   "execution_count": 192,
   "metadata": {
    "collapsed": true
   },
   "outputs": [
    {
     "name": "stdout",
     "output_type": "stream",
     "text": [
      "+------------+------------+-------------+\n",
      "|country_name| sector_name|funded_amount|\n",
      "+------------+------------+-------------+\n",
      "|       Kenya|        Food|        300.0|\n",
      "|       Kenya|      Retail|        300.0|\n",
      "| Philippines|    Services|        475.0|\n",
      "|    Zimbabwe|        Food|        500.0|\n",
      "|     Liberia|      Retail|        400.0|\n",
      "|      Turkey|        Arts|        225.0|\n",
      "|    Cambodia| Agriculture|        625.0|\n",
      "|    Colombia|        Food|        850.0|\n",
      "|      Uganda|        Food|        550.0|\n",
      "|Sierra Leone|        Food|        125.0|\n",
      "| El Salvador|      Retail|       1000.0|\n",
      "|       Samoa| Agriculture|        450.0|\n",
      "|    Cambodia|Personal Use|       1450.0|\n",
      "|      Jordan|    Clothing|        850.0|\n",
      "| Philippines|      Retail|        575.0|\n",
      "| Philippines|      Retail|        450.0|\n",
      "|    Paraguay|      Retail|       3275.0|\n",
      "| Philippines| Agriculture|        300.0|\n",
      "|   Indonesia|     Housing|        450.0|\n",
      "| Philippines|        Food|        250.0|\n",
      "+------------+------------+-------------+\n",
      "only showing top 20 rows\n",
      "\n"
     ]
    }
   ],
   "source": [
    "df_loans.select('country_name', 'sector_name', 'funded_amount').show()"
   ]
  },
  {
   "cell_type": "code",
   "execution_count": 193,
   "metadata": {},
   "outputs": [],
   "source": [
    "df_loans_pivot = df_loans.groupby('country_name').pivot('sector_name').sum('funded_amount')"
   ]
  },
  {
   "cell_type": "markdown",
   "metadata": {},
   "source": [
    "### fillna"
   ]
  },
  {
   "cell_type": "code",
   "execution_count": 87,
   "metadata": {
    "collapsed": true
   },
   "outputs": [
    {
     "name": "stdout",
     "output_type": "stream",
     "text": [
      "+------------+-----------+---------+---------+------------+---------+-------------+-----------+---------+---------+-------------+------------+-----------+---------+--------------+---------+\n",
      "|country_name|Agriculture|     Arts| Clothing|Construction|Education|Entertainment|       Food|   Health|  Housing|Manufacturing|Personal Use|     Retail| Services|Transportation|Wholesale|\n",
      "+------------+-----------+---------+---------+------------+---------+-------------+-----------+---------+---------+-------------+------------+-----------+---------+--------------+---------+\n",
      "|    Paraguay|  2689525.0|1010800.0|8049650.0|    576200.0|4566975.0|       2650.0|1.8356795E7| 879900.0|  83850.0|      85400.0|     93300.0|1.4574425E7|8923075.0|      109950.0|  14025.0|\n",
      "|       Yemen|    91425.0|   7800.0| 255200.0|    192225.0|   6675.0|          0.0|   509625.0|  49825.0| 578950.0|      16700.0|    612125.0|   489500.0| 284200.0|      227625.0|   4050.0|\n",
      "|     Senegal|  5858800.0| 112375.0| 772025.0|     28375.0|  11600.0|        850.0|  8197275.0|   8875.0|  27100.0|     109925.0|     24000.0|  9676725.0| 277150.0|       84975.0|  43425.0|\n",
      "| Philippines| 2.775385E7|1116500.0|2237775.0|    711525.0| 811825.0|     133575.0|2.9961425E7| 463675.0|5667625.0|    1269725.0|    988900.0|  3.98348E7|4162675.0|     3797825.0| 103100.0|\n",
      "|       Tonga|   175625.0| 974650.0|   9725.0|         0.0|      0.0|          0.0|   138150.0|      0.0|  57975.0|       2050.0|         0.0|    34275.0|  32825.0|       12025.0|      0.0|\n",
      "|        Fiji|    90450.0| 107850.0|   2625.0|       725.0|      0.0|        600.0|  1169450.0|   1375.0|   6225.0|        950.0|      1450.0|   106125.0|  64900.0|        9250.0|      0.0|\n",
      "|      Turkey|    15850.0| 316200.0| 120725.0|      1850.0|   3100.0|          0.0|   189025.0|  23550.0|    700.0|       2375.0|         0.0|   408925.0| 237750.0|           0.0|   1825.0|\n",
      "|      Malawi|   315250.0|   9600.0| 648300.0|     23450.0|   3050.0|       1975.0|  2520375.0|  50000.0|  10775.0|       7150.0|         0.0|   349250.0| 646500.0|        5225.0|   2100.0|\n",
      "|        Iraq|        0.0|   3000.0|   7500.0|      8500.0|      0.0|          0.0|    70200.0|      0.0|   4400.0|      24500.0|         0.0|    44900.0| 124600.0|           0.0|      0.0|\n",
      "|    Cambodia| 2.014705E7| 490100.0| 166700.0|    442600.0|2310100.0|      10300.0|  4705700.0|  57325.0|3612250.0|     169300.0|   6729975.0|   868325.0| 852875.0|      667500.0|  20800.0|\n",
      "| Afghanistan|        0.0|  14000.0|      0.0|         0.0|      0.0|          0.0|        0.0|      0.0|      0.0|          0.0|         0.0|        0.0|      0.0|           0.0|      0.0|\n",
      "|      Jordan|   921250.0| 624750.0|1676875.0|    133075.0|4227575.0|      36800.0|  2702650.0|  27275.0| 403050.0|     246650.0|     87000.0|  2510925.0|1971475.0|       24750.0|  25400.0|\n",
      "|      Rwanda|  6539200.0| 188825.0|4511700.0|    757250.0| 504950.0|      28500.0|  1.88226E7| 208275.0|  34625.0|     237325.0|     33350.0|1.0260125E7|3255625.0|      270825.0|  97400.0|\n",
      "|      Kosovo|  1139150.0| 275950.0|  79800.0|    205275.0|   3800.0|      42100.0|   229175.0|   6275.0| 844375.0|      71400.0|     15450.0|   110625.0| 602175.0|      174825.0|   6125.0|\n",
      "|   Sri Lanka|    10500.0|   5975.0|   4625.0|      5725.0|    175.0|          0.0|    18375.0|      0.0|      0.0|       2600.0|         0.0|    10225.0|  16050.0|         275.0|    275.0|\n",
      "|        Togo|   497525.0|  17050.0| 615275.0|     61275.0|   8175.0|       2500.0|  3247650.0|  85775.0|   6450.0|      51100.0|      9950.0|  3561650.0| 663575.0|       63125.0|  15300.0|\n",
      "|     Ecuador|  6368050.0| 165775.0| 832050.0|    128150.0|  53175.0|       8250.0|  1749600.0|  54750.0|  21850.0|     156975.0|      3075.0|  1479050.0| 790725.0|      114400.0|  12400.0|\n",
      "|     Lesotho|        0.0|      0.0|      0.0|         0.0|      0.0|          0.0|     1175.0|      0.0|      0.0|          0.0|   1074600.0|        0.0|    575.0|           0.0|      0.0|\n",
      "|     Albania|  2022275.0|  47025.0| 349600.0|     76600.0| 443275.0|       8950.0|   294200.0|1060800.0| 770750.0|      61625.0|    149800.0|   128900.0| 242250.0|       75750.0|  24125.0|\n",
      "|  Madagascar|  1752300.0|  76850.0| 503700.0|     60125.0|   7750.0|       2550.0|  1139950.0|   8150.0|   2375.0|      55525.0|    276975.0|   924925.0| 126250.0|       21650.0|   5400.0|\n",
      "+------------+-----------+---------+---------+------------+---------+-------------+-----------+---------+---------+-------------+------------+-----------+---------+--------------+---------+\n",
      "only showing top 20 rows\n",
      "\n"
     ]
    }
   ],
   "source": [
    "df_loans_pivot.fillna(0).show()"
   ]
  },
  {
   "cell_type": "markdown",
   "metadata": {},
   "source": [
    "### rename column"
   ]
  },
  {
   "cell_type": "code",
   "execution_count": 202,
   "metadata": {},
   "outputs": [],
   "source": [
    "df_max_loan_in_country_renamed = df_max_loan_in_country.withColumnRenamed('max(loan_amount)', 'max_loan_amt')"
   ]
  },
  {
   "cell_type": "code",
   "execution_count": 203,
   "metadata": {},
   "outputs": [
    {
     "data": {
      "text/plain": [
       "DataFrame[country_name: string, max_loan_amt: double]"
      ]
     },
     "execution_count": 203,
     "metadata": {},
     "output_type": "execute_result"
    }
   ],
   "source": [
    "df_max_loan_in_country_renamed"
   ]
  },
  {
   "cell_type": "markdown",
   "metadata": {},
   "source": [
    "### fetch paraguay max loan"
   ]
  },
  {
   "cell_type": "code",
   "execution_count": 201,
   "metadata": {},
   "outputs": [
    {
     "data": {
      "text/plain": [
       "355225.0"
      ]
     },
     "execution_count": 201,
     "metadata": {},
     "output_type": "execute_result"
    }
   ],
   "source": [
    "df_max_loan_in_country_renamed.filter(\"country_name = 'Paraguay'\").select('max_loan_amt').collect()[0]['max_loan_amt']"
   ]
  },
  {
   "cell_type": "code",
   "execution_count": 204,
   "metadata": {},
   "outputs": [],
   "source": [
    "paraguay_max_loan = df_max_loan_in_country_renamed.filter(\"country_name = 'Paraguay'\").select('max_loan_amt').collect()[0][0]"
   ]
  },
  {
   "cell_type": "code",
   "execution_count": 205,
   "metadata": {},
   "outputs": [
    {
     "data": {
      "text/plain": [
       "355225.0"
      ]
     },
     "execution_count": 205,
     "metadata": {},
     "output_type": "execute_result"
    }
   ],
   "source": [
    "paraguay_max_loan"
   ]
  },
  {
   "cell_type": "markdown",
   "metadata": {},
   "source": [
    "### details of max loan id"
   ]
  },
  {
   "cell_type": "code",
   "execution_count": 206,
   "metadata": {
    "collapsed": true
   },
   "outputs": [
    {
     "name": "stdout",
     "output_type": "stream",
     "text": [
      "+-------+-------------------+-----------------+--------------------+----------------------+-------------+-----------+------+-------------+-----------+--------------------+------------+------------+---------+---------------+-------------------------------+--------+----------+--------------------+-----------------------+--------------------+--------------------+-----------+-----------------+-------------------+----------------+--------------------+----------------+-----------------+------------------+------------------+\n",
      "|loan_id|          loan_name|original_language|         description|description_translated|funded_amount|loan_amount|status|activity_name|sector_name|            loan_use|country_code|country_name|town_name|currency_policy|currency_exchange_coverage_rate|currency|partner_id|         posted_time|planned_expiration_time|       disburse_time|         raised_time|lender_term|num_lenders_total|num_journal_entries|num_bulk_entries|                tags|borrower_genders|borrower_pictured|repayment_interval|distribution_model|\n",
      "+-------+-------------------+-----------------+--------------------+----------------------+-------------+-----------+------+-------------+-----------+--------------------+------------+------------+---------+---------------+-------------------------------+--------+----------+--------------------+-----------------------+--------------------+--------------------+-----------+-----------------+-------------------+----------------+--------------------+----------------+-----------------+------------------+------------------+\n",
      "|1973446|Fundación Paraguaya|          Spanish|\"Since 2007, Kiva...|  \"Since 2007, Kiva...|     355225.0|   355225.0|funded|     Services|   Services|100 all-women com...|          PY|    Paraguay| Asunción|         shared|                            0.0|     PYG|      58.0|2020-06-17 20:15:...|   2020-08-01 20:50:...|2020-08-21 07:00:...|2020-08-01 20:50:...|       25.0|             9231|                  1|               1|user_favorite, us...|          female|             true|         irregular|     field_partner|\n",
      "+-------+-------------------+-----------------+--------------------+----------------------+-------------+-----------+------+-------------+-----------+--------------------+------------+------------+---------+---------------+-------------------------------+--------+----------+--------------------+-----------------------+--------------------+--------------------+-----------+-----------------+-------------------+----------------+--------------------+----------------+-----------------+------------------+------------------+\n",
      "\n"
     ]
    }
   ],
   "source": [
    "df_loans.filter('loan_amount = {}'.format(paraguay_max_loan)).show()"
   ]
  },
  {
   "cell_type": "code",
   "execution_count": 93,
   "metadata": {
    "collapsed": true
   },
   "outputs": [
    {
     "name": "stdout",
     "output_type": "stream",
     "text": [
      "+-------+---------------+-----------------+--------------------+----------------------+-------------+-----------+------+-------------+-----------+--------------------+------------+------------+--------------------+---------------+-------------------------------+--------+----------+--------------------+-----------------------+--------------------+--------------------+-----------+-----------------+-------------------+----------------+--------------------+--------------------+--------------------+------------------+------------------+\n",
      "|loan_id|      loan_name|original_language|         description|description_translated|funded_amount|loan_amount|status|activity_name|sector_name|            loan_use|country_code|country_name|           town_name|currency_policy|currency_exchange_coverage_rate|currency|partner_id|         posted_time|planned_expiration_time|       disburse_time|         raised_time|lender_term|num_lenders_total|num_journal_entries|num_bulk_entries|                tags|    borrower_genders|   borrower_pictured|repayment_interval|distribution_model|\n",
      "+-------+---------------+-----------------+--------------------+----------------------+-------------+-----------+------+-------------+-----------+--------------------+------------+------------+--------------------+---------------+-------------------------------+--------+----------+--------------------+-----------------------+--------------------+--------------------+-----------+-----------------+-------------------+----------------+--------------------+--------------------+--------------------+------------------+------------------+\n",
      "| 640322|      Esperanza|          Spanish|Esperanza \\nSarap...|  Esperanza, Sarapi...|       1225.0|     1225.0|funded|      Poultry|Agriculture|to invest in buyi...|          CR|  Costa Rica|  Sarapiqui, Heredia|         shared|                            0.1|     CRC|     151.0|2013-11-29 16:28:...|   2014-03-02 08:10:...|2013-11-29 08:00:...|2014-01-01 16:32:...|       20.0|               26|                  2|               1|user_favorite, vo...|              female|                true|           monthly|     field_partner|\n",
      "| 638631|Anonymous Group|          Spanish|Banco Mujer Empre...|  Banco Mujer Empre...|       6950.0|     6950.0|funded|       Retail|     Retail|to buy sandals, c...|          CR|  Costa Rica|Puntarenas, Fray ...|         shared|                            0.1|     CRC|     151.0|2013-11-26 15:08:...|   2014-01-31 11:10:...|2013-12-03 08:00:...|2014-01-21 18:04:...|       13.0|              259|                 10|               5|#Single Parent, u...|female, female, f...|true, true, true,...|           monthly|     field_partner|\n",
      "+-------+---------------+-----------------+--------------------+----------------------+-------------+-----------+------+-------------+-----------+--------------------+------------+------------+--------------------+---------------+-------------------------------+--------+----------+--------------------+-----------------------+--------------------+--------------------+-----------+-----------------+-------------------+----------------+--------------------+--------------------+--------------------+------------------+------------------+\n",
      "\n"
     ]
    }
   ],
   "source": [
    "df_loans.where(\"loan_id in (638631, 640322)\").show()"
   ]
  },
  {
   "cell_type": "markdown",
   "metadata": {},
   "source": [
    "### add a column mentioning number of borrowers in a loan id"
   ]
  },
  {
   "cell_type": "code",
   "execution_count": 207,
   "metadata": {
    "collapsed": true
   },
   "outputs": [
    {
     "name": "stdout",
     "output_type": "stream",
     "text": [
      "+-------+--------------------------------------------------------------------------------------------------------------------------------------------------------------+\n",
      "|loan_id|borrower_genders                                                                                                                                              |\n",
      "+-------+--------------------------------------------------------------------------------------------------------------------------------------------------------------+\n",
      "|1057058|female                                                                                                                                                        |\n",
      "|509472 |male                                                                                                                                                          |\n",
      "|344324 |female                                                                                                                                                        |\n",
      "|768521 |female                                                                                                                                                        |\n",
      "|702112 |female                                                                                                                                                        |\n",
      "|1951531|female                                                                                                                                                        |\n",
      "|497810 |female, female                                                                                                                                                |\n",
      "|1560103|male                                                                                                                                                          |\n",
      "|1604550|male                                                                                                                                                          |\n",
      "|557284 |female                                                                                                                                                        |\n",
      "|1383778|female                                                                                                                                                        |\n",
      "|657788 |female                                                                                                                                                        |\n",
      "|828660 |female, female, female, female, female, female, female, female, female, female, female, male, female, female                                                  |\n",
      "|492275 |female                                                                                                                                                        |\n",
      "|1765926|female                                                                                                                                                        |\n",
      "|683605 |male                                                                                                                                                          |\n",
      "|1920651|female, female, female, female, female, female, female, female, female, female, female, female, female, female, female, female, female, female, female, female|\n",
      "|579961 |female                                                                                                                                                        |\n",
      "|1690660|female                                                                                                                                                        |\n",
      "|812083 |female                                                                                                                                                        |\n",
      "+-------+--------------------------------------------------------------------------------------------------------------------------------------------------------------+\n",
      "only showing top 20 rows\n",
      "\n"
     ]
    }
   ],
   "source": [
    "df_loans.select('loan_id', 'borrower_genders').show(truncate=False)"
   ]
  },
  {
   "cell_type": "code",
   "execution_count": 209,
   "metadata": {
    "collapsed": true
   },
   "outputs": [
    {
     "name": "stdout",
     "output_type": "stream",
     "text": [
      "+-------+-------------+\n",
      "|loan_id|num_borrowers|\n",
      "+-------+-------------+\n",
      "|1057058|            1|\n",
      "| 509472|            1|\n",
      "| 344324|            1|\n",
      "| 768521|            1|\n",
      "| 702112|            1|\n",
      "|1951531|            1|\n",
      "| 497810|            2|\n",
      "|1560103|            1|\n",
      "|1604550|            1|\n",
      "| 557284|            1|\n",
      "|1383778|            1|\n",
      "| 657788|            1|\n",
      "| 828660|           14|\n",
      "| 492275|            1|\n",
      "|1765926|            1|\n",
      "| 683605|            1|\n",
      "|1920651|           20|\n",
      "| 579961|            1|\n",
      "|1690660|            1|\n",
      "| 812083|            1|\n",
      "+-------+-------------+\n",
      "only showing top 20 rows\n",
      "\n"
     ]
    }
   ],
   "source": [
    "df_loans.withColumn('num_borrowers',f.size(f.split('borrower_genders', ','))).select('loan_id', 'num_borrowers').show()"
   ]
  },
  {
   "cell_type": "markdown",
   "metadata": {},
   "source": [
    "### create temp view "
   ]
  },
  {
   "cell_type": "code",
   "execution_count": 215,
   "metadata": {},
   "outputs": [],
   "source": [
    "df_loans.createOrReplaceTempView('loans')"
   ]
  },
  {
   "cell_type": "markdown",
   "metadata": {},
   "source": [
    "### run sql query"
   ]
  },
  {
   "cell_type": "code",
   "execution_count": 216,
   "metadata": {
    "collapsed": true
   },
   "outputs": [
    {
     "name": "stdout",
     "output_type": "stream",
     "text": [
      "+-------+--------------------+-----------------+--------------------+----------------------+-------------+-----------+------+--------------------+------------+--------------------+------------+------------+--------------------+---------------+-------------------------------+--------+----------+--------------------+-----------------------+--------------------+--------------------+-----------+-----------------+-------------------+----------------+--------------------+--------------------+--------------------+------------------+------------------+\n",
      "|loan_id|           loan_name|original_language|         description|description_translated|funded_amount|loan_amount|status|       activity_name| sector_name|            loan_use|country_code|country_name|           town_name|currency_policy|currency_exchange_coverage_rate|currency|partner_id|         posted_time|planned_expiration_time|       disburse_time|         raised_time|lender_term|num_lenders_total|num_journal_entries|num_bulk_entries|                tags|    borrower_genders|   borrower_pictured|repayment_interval|distribution_model|\n",
      "+-------+--------------------+-----------------+--------------------+----------------------+-------------+-----------+------+--------------------+------------+--------------------+------------+------------+--------------------+---------------+-------------------------------+--------+----------+--------------------+-----------------------+--------------------+--------------------+-----------+-----------------+-------------------+----------------+--------------------+--------------------+--------------------+------------------+------------------+\n",
      "|1057058|              \\tLucy|          English|Lucy is a married...|  Lucy is a married...|        300.0|      300.0|funded|        Fish Selling|        Food|to purchase bundl...|          KE|       Kenya|             Kisauni|         shared|                            0.1|     KES|     164.0|2016-04-20 07:05:...|   2016-05-24 15:10:...|2016-04-18 07:00:...|2016-04-26 05:00:...|       14.0|               11|                  1|               1|#Fabrics, #Parent...|              female|                true|           monthly|     field_partner|\n",
      "| 509472|             Madosho|          English|Madosho is a very...|                  null|        300.0|      300.0|funded|       General Store|      Retail|to purchase bales...|          KE|       Kenya|              Tiribe|         shared|                            0.1|     KES|     164.0|2012-12-19 09:19:...|   2013-01-19 06:10:...|2012-12-14 08:00:...|2012-12-20 17:13:...|       14.0|                6|                  3|               2|                null|                male|                true|           monthly|     field_partner|\n",
      "| 344324|           Marcelina|          English|Marcelina is marr...|                  null|        475.0|      475.0|funded|   Motorcycle Repair|    Services|to buy additional...|          PH| Philippines|        Toledo, Cebu|         shared|                            0.2|     PHP|     145.0|2011-10-10 03:20:...|                   null|2011-09-13 07:00:...|2011-11-01 21:34:...|       13.0|               13|                  2|               1|                null|              female|                true|           monthly|     field_partner|\n",
      "| 768521|            Fadzisai|          English|Fadzisai is a 30-...|  Fadzisai is a 30-...|        500.0|      500.0|funded|Food Production/S...|        Food|To purchase a lar...|          ZW|    Zimbabwe|              Kwekwe|         shared|                            0.1|     USD|     305.0|2014-09-15 09:27:...|   2014-10-16 07:30:...|2014-09-20 07:00:...|2014-09-17 14:34:...|        8.0|               20|                  2|               1|       user_favorite|              female|                true|           monthly|     field_partner|\n",
      "| 702112|              Oretha|          English|Oretha lives in K...|  Oretha lives in K...|        400.0|      400.0|funded|              Retail|      Retail|to buy more slipp...|          LR|     Liberia|              Kakata|         shared|                            0.1|     LRD|     182.0|2014-04-24 17:07:...|   2014-05-27 14:00:...|2014-04-10 07:00:...|2014-04-30 11:58:...|       11.0|               11|                  1|               1|                null|              female|                true|           monthly|     field_partner|\n",
      "|1951531|             Gulfer |          English|Gulfer is divorce...|  Gulfer is divorce...|        225.0|      225.0|funded|            Knitting|        Arts|to buy bulk threa...|          TR|      Turkey|                null|         shared|                            0.1|     TRY|     198.0|2020-03-23 12:45:...|   2020-04-24 23:10:...|2020-03-04 08:00:...|2020-03-26 04:35:...|        7.0|                8|                  1|               1|       user_favorite|              female|                true|           monthly|     field_partner|\n",
      "| 497810|    Kimleang's Group|          English|Kimleang, 33, is ...|                  null|        625.0|      625.0|funded|             Farming| Agriculture|To buy fertilizer...|          KH|    Cambodia|Battambang provin...|         shared|                            0.1|     KHR|     204.0|2012-11-19 08:42:...|   2012-12-31 08:16:...|2012-10-20 07:00:...|2012-12-04 19:36:...|       14.0|               24|                  2|               1|                null|      female, female|          true, true|         irregular|     field_partner|\n",
      "|1560103|            CRISTIAN|          Spanish|Cristian es un jo...|  Cristian is a 22-...|        850.0|      850.0|funded|Food Production/S...|        Food|to purchase a fas...|          CO|    Colombia|            Medellín|         shared|                            0.1|     COP|     177.0|2018-06-29 19:20:...|   2018-08-06 11:10:...|2018-05-31 07:00:...|2018-08-06 03:17:...|       23.0|               13|                  6|               4|user_favorite, us...|                male|                true|           monthly|     field_partner|\n",
      "|1604550|             Venasio|          English|Venasio deals in ...|  Venasio deals in ...|        550.0|      550.0|funded|Food Production/S...|        Food|to buy more beans...|          UG|      Uganda|               Hoima|         shared|                            0.1|     UGX|     163.0|2018-09-12 06:36:...|   2018-10-13 21:40:...|2018-08-23 07:00:...|2018-10-01 14:03:...|       10.0|               15|                  1|               1|              #Vegan|                male|                true|           monthly|     field_partner|\n",
      "| 557284|             Kadiatu|          English|Kadiatu is 23 yea...|                  null|        125.0|      125.0|funded|          Food Stall|        Food|to purchase more ...|          SL|Sierra Leone|     Torkpoi town Bo|         shared|                            0.1|     SLL|     183.0|2013-05-07 17:34:...|   2013-06-09 22:10:...|2013-04-08 07:00:...|2013-05-11 04:43:...|       11.0|                5|                  1|               1|                null|              female|                true|           monthly|     field_partner|\n",
      "|1383778|       Yesica Marilú|          Spanish|Yesica, estudió h...|  Yesica has a seve...|       1000.0|     1000.0|funded|       General Store|      Retail|to buy staple goo...|          SV| El Salvador|   Ciudad El Triunfo|         shared|                            0.1|     USD|     199.0|2017-09-25 21:34:...|   2017-10-29 19:10:...|2017-09-14 07:00:...|2017-10-23 18:11:...|       14.0|               25|                  2|               1|user_favorite, us...|              female|                true|           monthly|     field_partner|\n",
      "| 657788|            Bennette|          English|Bennette is a 26-...|                  null|        450.0|      450.0|funded|             Farming| Agriculture|to buy fertilizer...|          WS|       Samoa|           Luatuanuu|         shared|                            0.1|     WST|      15.0|2014-01-16 04:29:...|   2014-02-15 13:30:...|2013-12-19 08:00:...|2014-01-18 12:20:...|       14.0|               13|                  1|               1|#Vegan, #Woman-Ow...|              female|                true|           monthly|     field_partner|\n",
      "| 828660|        Than's Group|          English|Living in a rural...|  Living in a rural...|       1450.0|     1450.0|funded|     Home Appliances|Personal Use|To build a decent...|          KH|    Cambodia|Kampong Thom Prov...|         shared|                            0.1|     KHR|     204.0|2015-01-16 04:00:...|   2015-02-16 00:20:...|2014-12-19 08:00:...|2015-01-17 19:12:...|       20.0|               35|                  1|               1|#Elderly, #Sustai...|female, female, f...|true, true, true,...|            bullet|     field_partner|\n",
      "| 492275|             Jawaher|          English|Jawaher is a 50-y...|                  null|        850.0|      850.0|funded|      Clothing Sales|    Clothing|to buy clothes to...|          JO|      Jordan|      Jubeiha, Amman|         shared|                            0.1|     JOD|     174.0|2012-11-04 08:23:...|   2012-12-31 08:12:...|2012-10-16 07:00:...|2012-12-29 18:24:...|       18.0|               28|                  1|               1|                null|              female|                true|           monthly|     field_partner|\n",
      "|1765926|             Julieta|          English|Julieta is 53 yea...|  Julieta is 53 yea...|        575.0|      575.0|funded|       General Store|      Retail|to buy items, lik...|          PH| Philippines|La Castellana, Ne...|         shared|                            0.1|     PHP|     145.0|2019-05-21 03:18:...|   2019-06-21 23:40:...|2019-04-30 07:00:...|2019-05-23 04:15:...|        8.0|               22|                  1|               1|#Woman-Owned Busi...|              female|                true|           monthly|     field_partner|\n",
      "| 683605|             ANTONIO|          English|Being a responsib...|  Being a responsib...|        450.0|      450.0|funded|       General Store|      Retail|To buy more stock...|          PH| Philippines|Brgy. Cutar, ARit...|         shared|                            0.1|     PHP|     123.0|2014-03-14 06:54:...|   2014-04-15 15:00:...|2014-02-20 08:00:...|2014-03-19 01:46:...|        8.0|               17|                  2|               1|                null|                male|                true|           monthly|     field_partner|\n",
      "|1920651|Las Super Guerrer...|          Spanish|El grupo de nombr...|  The group named L...|       3275.0|     3275.0|funded|       General Store|      Retail|to purchase bever...|          PY|    Paraguay|          Concepción|         shared|                            0.0|     PYG|      58.0|2020-01-30 23:28:...|   2020-03-17 20:50:...|2019-12-30 08:00:...|2020-02-02 17:26:...|        7.0|               83|                  1|               1|       user_favorite|female, female, f...|true, true, true,...|           monthly|     field_partner|\n",
      "| 579961|             Joselle|          English|Joselle, a 27-yea...|                  null|        300.0|      300.0|funded|                Pigs| Agriculture|to purchase addit...|          PH| Philippines|Brookes Point, Pa...|         shared|                            0.1|     PHP|     145.0|2013-07-04 01:53:...|   2013-08-05 20:10:...|2013-06-20 07:00:...|2013-07-12 17:19:...|        8.0|               11|                  2|               1|                null|              female|                true|           monthly|     field_partner|\n",
      "|1690660|          St Mulyati|          English|Good day lenders!...|  Good day lenders!...|        450.0|      450.0|funded|Personal Housing ...|     Housing|to install a wate...|          ID|   Indonesia|           Tangerang|         shared|                            0.1|     IDR|     406.0|2019-01-18 03:45:...|   2019-03-19 14:50:...|2018-12-26 08:00:...|2019-02-17 18:09:...|       38.0|                8|                  1|               1|#Eco-friendly, #R...|              female|                true|           monthly|     field_partner|\n",
      "| 812083|            Marciana|          English|Marciana is a mar...|  Marciana is a mar...|        250.0|      250.0|funded|        Fish Selling|        Food|to buy more fish ...|          PH| Philippines|Sibulan, Negros O...|         shared|                            0.1|     PHP|     145.0|2014-12-09 02:36:...|   2015-01-26 01:30:...|2014-11-28 08:00:...|2014-12-24 02:00:...|       11.0|                9|                  2|               1|       user_favorite|              female|                true|           monthly|     field_partner|\n",
      "+-------+--------------------+-----------------+--------------------+----------------------+-------------+-----------+------+--------------------+------------+--------------------+------------+------------+--------------------+---------------+-------------------------------+--------+----------+--------------------+-----------------------+--------------------+--------------------+-----------+-----------------+-------------------+----------------+--------------------+--------------------+--------------------+------------------+------------------+\n",
      "only showing top 20 rows\n",
      "\n"
     ]
    }
   ],
   "source": [
    "spark.sql(\"select * from loans where status = 'funded'\").show()"
   ]
  },
  {
   "cell_type": "markdown",
   "metadata": {},
   "source": [
    "### drop temp view"
   ]
  },
  {
   "cell_type": "code",
   "execution_count": 213,
   "metadata": {},
   "outputs": [],
   "source": [
    "spark.catalog.dropTempView('loans')"
   ]
  },
  {
   "cell_type": "markdown",
   "metadata": {},
   "source": [
    "### drop a column"
   ]
  },
  {
   "cell_type": "code",
   "execution_count": 217,
   "metadata": {},
   "outputs": [],
   "source": [
    "df_loans_dropped = df_loans.drop('description')"
   ]
  },
  {
   "cell_type": "markdown",
   "metadata": {},
   "source": [
    "### list of columns"
   ]
  },
  {
   "cell_type": "code",
   "execution_count": 219,
   "metadata": {
    "collapsed": true
   },
   "outputs": [
    {
     "data": {
      "text/plain": [
       "['loan_id',\n",
       " 'loan_name',\n",
       " 'original_language',\n",
       " 'description',\n",
       " 'description_translated',\n",
       " 'funded_amount',\n",
       " 'loan_amount',\n",
       " 'status',\n",
       " 'activity_name',\n",
       " 'sector_name',\n",
       " 'loan_use',\n",
       " 'country_code',\n",
       " 'country_name',\n",
       " 'town_name',\n",
       " 'currency_policy',\n",
       " 'currency_exchange_coverage_rate',\n",
       " 'currency',\n",
       " 'partner_id',\n",
       " 'posted_time',\n",
       " 'planned_expiration_time',\n",
       " 'disburse_time',\n",
       " 'raised_time',\n",
       " 'lender_term',\n",
       " 'num_lenders_total',\n",
       " 'num_journal_entries',\n",
       " 'num_bulk_entries',\n",
       " 'tags',\n",
       " 'borrower_genders',\n",
       " 'borrower_pictured',\n",
       " 'repayment_interval',\n",
       " 'distribution_model']"
      ]
     },
     "execution_count": 219,
     "metadata": {},
     "output_type": "execute_result"
    }
   ],
   "source": [
    "df_loans.columns"
   ]
  },
  {
   "cell_type": "code",
   "execution_count": 218,
   "metadata": {
    "collapsed": true
   },
   "outputs": [
    {
     "data": {
      "text/plain": [
       "['loan_id',\n",
       " 'loan_name',\n",
       " 'original_language',\n",
       " 'description_translated',\n",
       " 'funded_amount',\n",
       " 'loan_amount',\n",
       " 'status',\n",
       " 'activity_name',\n",
       " 'sector_name',\n",
       " 'loan_use',\n",
       " 'country_code',\n",
       " 'country_name',\n",
       " 'town_name',\n",
       " 'currency_policy',\n",
       " 'currency_exchange_coverage_rate',\n",
       " 'currency',\n",
       " 'partner_id',\n",
       " 'posted_time',\n",
       " 'planned_expiration_time',\n",
       " 'disburse_time',\n",
       " 'raised_time',\n",
       " 'lender_term',\n",
       " 'num_lenders_total',\n",
       " 'num_journal_entries',\n",
       " 'num_bulk_entries',\n",
       " 'tags',\n",
       " 'borrower_genders',\n",
       " 'borrower_pictured',\n",
       " 'repayment_interval',\n",
       " 'distribution_model']"
      ]
     },
     "execution_count": 218,
     "metadata": {},
     "output_type": "execute_result"
    }
   ],
   "source": [
    "df_loans_dropped.columns"
   ]
  },
  {
   "cell_type": "markdown",
   "metadata": {},
   "source": [
    "### case when"
   ]
  },
  {
   "cell_type": "markdown",
   "metadata": {},
   "source": [
    "### add a column with repayment regularity. For irregular repayment mark 0 else 1"
   ]
  },
  {
   "cell_type": "code",
   "execution_count": 220,
   "metadata": {
    "collapsed": true
   },
   "outputs": [
    {
     "name": "stdout",
     "output_type": "stream",
     "text": [
      "+------------------+\n",
      "|repayment_interval|\n",
      "+------------------+\n",
      "|           monthly|\n",
      "|         irregular|\n",
      "|            bullet|\n",
      "|           Ninfa\"\"|\n",
      "|             KHADY|\n",
      "|           KOUMBA |\n",
      "|            DIAMY |\n",
      "|  Iliben Lalabhai\"|\n",
      "+------------------+\n",
      "\n"
     ]
    }
   ],
   "source": [
    "df_loans.select('repayment_interval').distinct().show()"
   ]
  },
  {
   "cell_type": "code",
   "execution_count": 222,
   "metadata": {
    "collapsed": true
   },
   "outputs": [
    {
     "name": "stdout",
     "output_type": "stream",
     "text": [
      "+--------------+\n",
      "|repayment_flag|\n",
      "+--------------+\n",
      "|             1|\n",
      "|             1|\n",
      "|             1|\n",
      "|             1|\n",
      "|             1|\n",
      "|             1|\n",
      "|             0|\n",
      "|             1|\n",
      "|             1|\n",
      "|             1|\n",
      "|             1|\n",
      "|             1|\n",
      "|             1|\n",
      "|             1|\n",
      "|             1|\n",
      "|             1|\n",
      "|             1|\n",
      "|             1|\n",
      "|             1|\n",
      "|             1|\n",
      "+--------------+\n",
      "only showing top 20 rows\n",
      "\n"
     ]
    }
   ],
   "source": [
    "df_loans.withColumn('repayment_flag', \n",
    "                    f.when(f.col('repayment_interval').isin('monthly', 'bullet'), 1 ).otherwise(0))\\\n",
    "        .select('repayment_flag').show()"
   ]
  },
  {
   "cell_type": "code",
   "execution_count": 151,
   "metadata": {
    "collapsed": true
   },
   "outputs": [
    {
     "name": "stdout",
     "output_type": "stream",
     "text": [
      "+-----------+\n",
      "|     status|\n",
      "+-----------+\n",
      "|   refunded|\n",
      "|fundRaising|\n",
      "|    expired|\n",
      "|     funded|\n",
      "+-----------+\n",
      "\n"
     ]
    }
   ],
   "source": [
    "df_loans.select('status').distinct().show()"
   ]
  },
  {
   "cell_type": "code",
   "execution_count": 221,
   "metadata": {
    "collapsed": true
   },
   "outputs": [
    {
     "name": "stdout",
     "output_type": "stream",
     "text": [
      "+-----------+------+\n",
      "|     status|funded|\n",
      "+-----------+------+\n",
      "|    expired|     N|\n",
      "|fundRaising|     N|\n",
      "|     funded|     Y|\n",
      "|   refunded|     Y|\n",
      "+-----------+------+\n",
      "\n"
     ]
    }
   ],
   "source": [
    "df_loans.withColumn('funded', \n",
    "                    f.when(f.col('status').__eq__('funded') | f.col('status').__eq__('refunded'), f.lit('Y'))\\\n",
    "                    .otherwise('N')).select('status', 'funded').distinct().show()"
   ]
  },
  {
   "cell_type": "markdown",
   "metadata": {},
   "source": [
    "### Join - inner, left, right, full, cross, leftanti"
   ]
  },
  {
   "cell_type": "code",
   "execution_count": 225,
   "metadata": {
    "scrolled": false
   },
   "outputs": [
    {
     "data": {
      "text/plain": [
       "1595823"
      ]
     },
     "execution_count": 225,
     "metadata": {},
     "output_type": "execute_result"
    }
   ],
   "source": [
    "df_loans.select('loan_id').distinct().count()"
   ]
  },
  {
   "cell_type": "code",
   "execution_count": 223,
   "metadata": {},
   "outputs": [],
   "source": [
    "df_loan_themes = spark.read.option('header', 'true').csv('D:\\\\data\\\\kiva\\\\loan_theme_ids.csv')\\\n",
    "                .withColumnRenamed('id', 'loan_id')\\\n",
    "                .withColumnRenamed('Loan Theme ID', 'loan_theme_id')\\\n",
    "                .withColumnRenamed('Loan Theme Type', 'loan_theme_type')\\\n",
    "                .withColumnRenamed('Partner ID', 'partner_id')\\\n",
    "                .drop('partner_id')"
   ]
  },
  {
   "cell_type": "code",
   "execution_count": 226,
   "metadata": {},
   "outputs": [
    {
     "name": "stdout",
     "output_type": "stream",
     "text": [
      "+-------+---------------+-----------------------+\n",
      "|loan_id|loan_theme_id  |loan_theme_type        |\n",
      "+-------+---------------+-----------------------+\n",
      "|638631 |a1050000000skGl|General                |\n",
      "|640322 |a1050000000skGl|General                |\n",
      "|641006 |a1050000002X1ij|Higher Education       |\n",
      "|641019 |a1050000002X1ij|Higher Education       |\n",
      "|641594 |a1050000002VbsW|Subsistence Agriculture|\n",
      "|642256 |a1050000000T3oX|Extreme Poverty        |\n",
      "|642311 |a1050000000snTK|General                |\n",
      "|642353 |a1050000000T3oX|Extreme Poverty        |\n",
      "|642386 |a1050000000wf0f|General                |\n",
      "|642429 |a1050000000wezJ|General                |\n",
      "+-------+---------------+-----------------------+\n",
      "only showing top 10 rows\n",
      "\n"
     ]
    }
   ],
   "source": [
    "df_loan_themes.show(10, False)"
   ]
  },
  {
   "cell_type": "markdown",
   "metadata": {},
   "source": [
    "### inner join - common id within both"
   ]
  },
  {
   "cell_type": "code",
   "execution_count": 103,
   "metadata": {
    "scrolled": false
   },
   "outputs": [
    {
     "data": {
      "text/plain": [
       "779092"
      ]
     },
     "execution_count": 103,
     "metadata": {},
     "output_type": "execute_result"
    }
   ],
   "source": [
    "df_loan_themes.select('loan_id').distinct().count()"
   ]
  },
  {
   "cell_type": "code",
   "execution_count": 104,
   "metadata": {
    "scrolled": true
   },
   "outputs": [
    {
     "data": {
      "text/plain": [
       "704046"
      ]
     },
     "execution_count": 104,
     "metadata": {},
     "output_type": "execute_result"
    }
   ],
   "source": [
    "df_loans.join(df_loan_themes, ['loan_id'] ,'inner').count()"
   ]
  },
  {
   "cell_type": "code",
   "execution_count": 227,
   "metadata": {
    "collapsed": true
   },
   "outputs": [
    {
     "name": "stdout",
     "output_type": "stream",
     "text": [
      "+-------+----------------+-----------------+--------------------+----------------------+-------------+-----------+------+--------------------+--------------+--------------------+------------+------------+--------------------+---------------+-------------------------------+--------+----------+--------------------+-----------------------+--------------------+--------------------+-----------+-----------------+-------------------+----------------+--------------------+--------------------+--------------------+------------------+------------------+---------------+--------------------+\n",
      "|loan_id|       loan_name|original_language|         description|description_translated|funded_amount|loan_amount|status|       activity_name|   sector_name|            loan_use|country_code|country_name|           town_name|currency_policy|currency_exchange_coverage_rate|currency|partner_id|         posted_time|planned_expiration_time|       disburse_time|         raised_time|lender_term|num_lenders_total|num_journal_entries|num_bulk_entries|                tags|    borrower_genders|   borrower_pictured|repayment_interval|distribution_model|  loan_theme_id|     loan_theme_type|\n",
      "+-------+----------------+-----------------+--------------------+----------------------+-------------+-----------+------+--------------------+--------------+--------------------+------------+------------+--------------------+---------------+-------------------------------+--------+----------+--------------------+-----------------------+--------------------+--------------------+-----------+-----------------+-------------------+----------------+--------------------+--------------------+--------------------+------------------+------------------+---------------+--------------------+\n",
      "|1000015|   Pheak's Group|          English|Pheak’s group liv...|  Pheak’s group liv...|        100.0|      100.0|funded|     Home Appliances|  Personal Use|to buy a water fi...|          KH|    Cambodia|        Kompong Thom|         shared|                            0.1|     KHR|     311.0|2015-12-24 04:12:...|   2016-01-24 02:10:...|2015-12-09 08:00:...|2015-12-25 04:55:...|        8.0|                3|                  1|               1|                null|      female, female|          true, true|           monthly|     field_partner|a1050000005nzX8|               Water|\n",
      "|1000067|         Ananias|       Portuguese|O Sr. Ananias é s...|  Ananias is single...|        425.0|      425.0|funded|Personal Housing ...|       Housing|to get the permit...|          MZ|  Mozambique|  Marracuene, Maputo|         shared|                            0.1|     MZN|      23.0|2015-12-24 07:53:...|   2016-01-23 20:10:...|2015-12-09 08:00:...|2015-12-27 01:00:...|       18.0|               14|                  1|               1|                null|                male|                true|           monthly|     field_partner|a1050000000weyx|             General|\n",
      "|1000073|       Furqatjon|          Russian|    Фуркатчон мол...|  Furqatjon is a yo...|        450.0|      450.0|funded|                Taxi|Transportation|     repair his car.|          TJ|  Tajikistan|          Kushoniyon|         shared|                            0.1|     TJS|      63.0|2015-12-24 08:28:...|   2016-01-24 19:40:...|2015-11-26 08:00:...|2016-01-22 21:46:...|       15.0|               16|                  4|               2|             #Parent|                male|                true|           monthly|     field_partner|a1050000002VmDO|Small Business In...|\n",
      "|1000113|            Hung|          English|Hung is 31 years ...|  Hung is 31 years ...|        475.0|      475.0|funded|Personal Housing ...|       Housing|to build a latrin...|          VN|     Vietnam|Bo Trach, Quang Binh|         shared|                            0.1|     VND|     394.0|2015-12-24 09:46:...|   2016-01-24 13:20:...|2015-11-24 08:00:...|2015-12-26 15:13:...|       26.0|               13|                  1|               1|       user_favorite|              female|                true|           monthly|     field_partner|a1050000002Yg3X|Water and Sanitation|\n",
      "|1000123|           Sonia|       Portuguese|A Sra. Sónia  e c...|  Sónia is married ...|        625.0|      625.0|funded|       General Store|        Retail|to buy rice, soda...|          MZ|  Mozambique|  Marracuene, Maputo|         shared|                            0.1|     MZN|      23.0|2015-12-24 10:03:...|   2016-01-25 14:00:...|2015-12-09 08:00:...|2015-12-28 14:04:...|       18.0|               22|                  1|               1|       user_favorite|              female|                true|           monthly|     field_partner|a1050000000weyx|             General|\n",
      "|1000128|           Tohir|          Russian|Житель района Джо...|  \"Tohir is a resid...|        450.0|      450.0|funded|                Taxi|Transportation|to purchase spare...|          TJ|  Tajikistan|             A. Jomi|         shared|                            0.1|     TJS|      63.0|2015-12-24 10:14:...|   2016-01-24 20:50:...|2015-12-04 08:00:...|2016-01-24 20:29:...|       14.0|               18|                  4|               2|#Parent, user_fav...|                male|                true|           monthly|     field_partner|a1050000002VmDO|Small Business In...|\n",
      "|1000146|         Bulbuli|          English|Bulbuli is 21 yea...|  Bulbuli is 21 yea...|        200.0|      200.0|funded|             Farming|   Agriculture|to purchase farm ...|          IN|       India|            Dhupguri|         shared|                            0.1|     INR|     334.0|2015-12-24 10:45:...|   2016-01-24 15:00:...|2015-12-22 08:00:...|2015-12-25 15:18:...|       43.0|                1|                  1|               1|                null|              female|                true|            bullet|     field_partner|a1050000002VkWz|         Underserved|\n",
      "|1000167|           Sukla|          English|Sukla is a homema...|  Sukla is a homema...|        250.0|      250.0|funded|             Farming|   Agriculture|to buy quality se...|          IN|       India|            Falakata|         shared|                            0.1|     INR|     334.0|2015-12-24 11:16:...|   2016-01-24 16:50:...|2015-12-22 08:00:...|2015-12-25 18:54:...|       43.0|                8|                  1|               1|                null|              female|                true|            bullet|     field_partner|a1050000002VkWz|         Underserved|\n",
      "|1000226|         Anjuara|          English|Twenty-eight-year...|  Twenty-eight-year...|        325.0|      325.0|funded|       Grocery Store|          Food|To purchase more ...|          IN|       India|          Khagrabari|         shared|                            0.1|     INR|     334.0|2015-12-24 13:20:...|   2016-01-24 19:00:...|2015-12-21 08:00:...|2015-12-26 17:32:...|       43.0|                8|                  1|               1|                null|              female|                true|            bullet|     field_partner|a1050000002VkWz|         Underserved|\n",
      "|1000228|         Rodolfo|          English|Rodolfo is 41 yea...|  Rodolfo is 41 yea...|       1025.0|     1025.0|funded|        Animal Sales|   Agriculture|       to buy cattle|          BO|     Bolivia|         Achica Baja|         shared|                            0.1|     BOB|      48.0|2015-12-24 13:27:...|   2016-01-24 15:30:...|2015-12-21 08:00:...|2016-01-14 08:30:...|       17.0|                9|                  2|               1|   #Parent, #Animals|                male|                true|           monthly|     field_partner|a1050000000wezJ|             General|\n",
      "|1000240|        Mohammad|          English|Mohammad is 25 ye...|  Mohammad is 25 ye...|        400.0|      400.0|funded|       Grocery Store|          Food|to buy his main g...|          EG|       Egypt|               Minia|         shared|                            0.1|     EGP|     440.0|2015-12-24 13:53:...|   2016-01-24 15:50:...|2015-12-20 08:00:...|2015-12-26 18:51:...|       14.0|               16|                  1|               1|       user_favorite|                male|                true|           monthly|     field_partner|a1050000004TXtP|               Youth|\n",
      "|1000242|           Elena|          English|Elena is divorced...|  Elena is divorced...|       1200.0|     1200.0|funded|Food Production/S...|          Food|to buy flour, egg...|          BO|     Bolivia|              La Paz|         shared|                            0.1|     USD|      48.0|2015-12-24 13:58:...|   2016-01-24 15:50:...|2015-12-16 08:00:...|2016-01-22 10:50:...|       26.0|               38|                  1|               1|#Repeat Borrower,...|              female|                true|           monthly|     field_partner|a1050000000wezJ|             General|\n",
      "|1000272|    Roger Yester|          Spanish|Roger, de 26 años...|  Roger, age 26, is...|        500.0|      500.0|funded|              Bricks|  Construction|buy raw materials...|          SV| El Salvador|      Ciudad Barrios|         shared|                            0.1|     USD|     199.0|2015-12-24 16:52:...|   2016-01-23 23:20:...|2015-12-16 08:00:...|2015-12-27 00:12:...|       14.0|               15|                  1|               1|user_favorite, us...|                male|                true|           monthly|     field_partner|a1050000000wbay|Youth Entrepreneu...|\n",
      "|1000312|        Milagros|          English|Milagros wants to...|  Milagros wants to...|        325.0|      325.0|funded|      Transportation|Transportation|to buy another bi...|          PH| Philippines|          Pasay City|         shared|                            0.1|     PHP|     144.0|2015-12-25 03:00:...|   2016-01-24 17:20:...|2015-12-18 08:00:...|2015-12-26 17:17:...|        8.0|               11|                  1|               1|                null|              female|                true|           monthly|     field_partner|a1050000000wf0p|             General|\n",
      "|1000316|       Patricien|           French|Praticien  a 22 a...|  Praticien is 22 y...|        175.0|      175.0|funded|        Fish Selling|          Food|to buy freshwater...|          MG|  Madagascar|        Antananarivo|         shared|                            0.1|     MGA|     443.0|2015-12-25 03:15:...|   2016-02-22 18:10:...|2015-11-26 08:00:...|2016-01-23 19:17:...|        8.0|                7|                  1|               1|                null|                male|                true|           monthly|     field_partner|a1050000004W2pa|             General|\n",
      "|1000356|      Mohruhsori|          Russian|Это Мохрухсори. Е...|  This is Mohruhsor...|        225.0|      225.0|funded|              Sewing|      Services|to buy a computer...|          TJ|  Tajikistan|              Vakhsh|         shared|                            0.1|     TJS|      63.0|2015-12-25 05:59:...|   2016-01-24 21:20:...|2015-12-02 08:00:...|2015-12-26 16:58:...|       14.0|                8|                  4|               2|       user_favorite|              female|                true|           monthly|     field_partner|a1050000002Y1sE|     General (Women)|\n",
      "|1000369|          Champa|          English|Champa is 48 year...|  Champa is 48 year...|        100.0|      100.0|funded|             Farming|   Agriculture|        to buy seeds|          NP|       Nepal|   SainbuBhaishepati|         shared|                            0.1|     NPR|      62.0|2015-12-25 06:47:...|   2016-01-24 18:50:...|2015-12-14 08:00:...|2015-12-25 19:13:...|       14.0|                4|                  1|               1|                null|              female|                true|           monthly|     field_partner|a1050000000wezW|             General|\n",
      "|1000376|         Jayanti|          English|Jayanti is a home...|  Jayanti is a home...|        250.0|      250.0|funded|             Farming|   Agriculture|to buy quality se...|          IN|       India|          Khagrabari|         shared|                            0.1|     INR|     334.0|2015-12-25 07:25:...|   2016-01-24 20:00:...|2015-12-16 08:00:...|2015-12-25 21:25:...|       43.0|                6|                  1|               1|                null|              female|                true|            bullet|     field_partner|a1050000002VkWz|         Underserved|\n",
      "|1000495|Jacklyne's Group|          English|Jacklyne is 40 ye...|  Jacklyne is 40 ye...|        825.0|      825.0|funded|         Agriculture|   Agriculture|to purchase a sol...|          KE|       Kenya|              Chwele|         shared|                            0.1|     KES|     202.0|2015-12-25 15:43:...|   2016-01-25 20:00:...|2016-02-01 08:00:...|2015-12-27 01:11:...|       11.0|               19|                  2|               2|                null|female, male, mal...|true, true, true,...|            bullet|     field_partner|a1050000004EtAY|Subsistence Agric...|\n",
      "|1000503|            null|             null|                null|                  null|        600.0|      600.0|funded|         Agriculture|   Agriculture|                null|          KE|       Kenya|                null|         shared|                            0.1|     KES|     202.0|2015-12-25 15:50:...|   2016-01-25 20:00:...|2016-02-01 08:00:...|2015-12-27 02:01:...|       11.0|                8|                  4|               3|     #Sustainable Ag|                null|                null|            bullet|     field_partner|a1050000004EtAY|Subsistence Agric...|\n",
      "+-------+----------------+-----------------+--------------------+----------------------+-------------+-----------+------+--------------------+--------------+--------------------+------------+------------+--------------------+---------------+-------------------------------+--------+----------+--------------------+-----------------------+--------------------+--------------------+-----------+-----------------+-------------------+----------------+--------------------+--------------------+--------------------+------------------+------------------+---------------+--------------------+\n",
      "only showing top 20 rows\n",
      "\n"
     ]
    }
   ],
   "source": [
    "df_loans.join(df_loan_themes, ['loan_id'] ,'inner').show()"
   ]
  },
  {
   "cell_type": "markdown",
   "metadata": {},
   "source": [
    "### left join - everything from left"
   ]
  },
  {
   "cell_type": "code",
   "execution_count": 105,
   "metadata": {},
   "outputs": [],
   "source": [
    "df_loan_w_theme = df_loans.join(df_loan_themes, 'loan_id', 'left')"
   ]
  },
  {
   "cell_type": "code",
   "execution_count": 106,
   "metadata": {},
   "outputs": [
    {
     "data": {
      "text/plain": [
       "1595823"
      ]
     },
     "execution_count": 106,
     "metadata": {},
     "output_type": "execute_result"
    }
   ],
   "source": [
    "df_loan_w_theme.count()"
   ]
  },
  {
   "cell_type": "code",
   "execution_count": 107,
   "metadata": {},
   "outputs": [
    {
     "data": {
      "text/plain": [
       "891777"
      ]
     },
     "execution_count": 107,
     "metadata": {},
     "output_type": "execute_result"
    }
   ],
   "source": [
    "df_loan_w_theme.where('loan_theme_type is null').count()"
   ]
  },
  {
   "cell_type": "markdown",
   "metadata": {},
   "source": [
    "### right join - everything from right"
   ]
  },
  {
   "cell_type": "code",
   "execution_count": 108,
   "metadata": {},
   "outputs": [],
   "source": [
    "df_loan_w_theme_right = df_loans.join(df_loan_themes, ['loan_id'], 'right')"
   ]
  },
  {
   "cell_type": "code",
   "execution_count": 109,
   "metadata": {
    "scrolled": false
   },
   "outputs": [
    {
     "data": {
      "text/plain": [
       "779092"
      ]
     },
     "execution_count": 109,
     "metadata": {},
     "output_type": "execute_result"
    }
   ],
   "source": [
    "df_loan_w_theme_right.count()"
   ]
  },
  {
   "cell_type": "markdown",
   "metadata": {},
   "source": [
    "### left anti - not in right"
   ]
  },
  {
   "cell_type": "code",
   "execution_count": 110,
   "metadata": {},
   "outputs": [],
   "source": [
    "df_loan_w_theme_left_anti = df_loans.join(df_loan_themes, ['loan_id'], 'leftanti')"
   ]
  },
  {
   "cell_type": "code",
   "execution_count": 111,
   "metadata": {
    "scrolled": true
   },
   "outputs": [
    {
     "data": {
      "text/plain": [
       "891777"
      ]
     },
     "execution_count": 111,
     "metadata": {},
     "output_type": "execute_result"
    }
   ],
   "source": [
    "df_loan_w_theme_left_anti.count()"
   ]
  },
  {
   "cell_type": "markdown",
   "metadata": {},
   "source": [
    "### full - all from both the sides"
   ]
  },
  {
   "cell_type": "code",
   "execution_count": 228,
   "metadata": {},
   "outputs": [],
   "source": [
    "df_loan_w_theme_full = df_loans.join(df_loan_themes, ['loan_id'], 'full')"
   ]
  },
  {
   "cell_type": "code",
   "execution_count": 113,
   "metadata": {
    "scrolled": true
   },
   "outputs": [
    {
     "data": {
      "text/plain": [
       "1670869"
      ]
     },
     "execution_count": 113,
     "metadata": {},
     "output_type": "execute_result"
    }
   ],
   "source": [
    "df_loan_w_theme_full.count()"
   ]
  },
  {
   "cell_type": "markdown",
   "metadata": {},
   "source": [
    "### cross - m X n"
   ]
  },
  {
   "cell_type": "code",
   "execution_count": 229,
   "metadata": {},
   "outputs": [],
   "source": [
    "df_common_cat = spark.createDataFrame([('beauty',), ('healthcare',), ('cosmetics',)], ['product_category'])"
   ]
  },
  {
   "cell_type": "code",
   "execution_count": 230,
   "metadata": {
    "collapsed": true
   },
   "outputs": [
    {
     "name": "stdout",
     "output_type": "stream",
     "text": [
      "+----------------+\n",
      "|product_category|\n",
      "+----------------+\n",
      "|          beauty|\n",
      "|      healthcare|\n",
      "|       cosmetics|\n",
      "+----------------+\n",
      "\n"
     ]
    }
   ],
   "source": [
    "df_common_cat.show()"
   ]
  },
  {
   "cell_type": "code",
   "execution_count": 231,
   "metadata": {},
   "outputs": [],
   "source": [
    "df_products = spark.createDataFrame([(1, 'face_wash'), (2, 'body_wash'), (3, 'cream'),\n",
    "                                     (4, 'body_lotion'), (5, 'hair_oil')], ['id', 'product'])"
   ]
  },
  {
   "cell_type": "code",
   "execution_count": 232,
   "metadata": {
    "collapsed": true
   },
   "outputs": [
    {
     "name": "stdout",
     "output_type": "stream",
     "text": [
      "+---+-----------+\n",
      "| id|    product|\n",
      "+---+-----------+\n",
      "|  1|  face_wash|\n",
      "|  2|  body_wash|\n",
      "|  3|      cream|\n",
      "|  4|body_lotion|\n",
      "|  5|   hair_oil|\n",
      "+---+-----------+\n",
      "\n"
     ]
    }
   ],
   "source": [
    "df_products.show()"
   ]
  },
  {
   "cell_type": "code",
   "execution_count": 233,
   "metadata": {},
   "outputs": [],
   "source": [
    "df_prod_cat = df_products.crossJoin(df_common_cat)"
   ]
  },
  {
   "cell_type": "code",
   "execution_count": 234,
   "metadata": {
    "collapsed": true
   },
   "outputs": [
    {
     "name": "stdout",
     "output_type": "stream",
     "text": [
      "+---+-----------+----------------+\n",
      "| id|    product|product_category|\n",
      "+---+-----------+----------------+\n",
      "|  1|  face_wash|          beauty|\n",
      "|  2|  body_wash|          beauty|\n",
      "|  1|  face_wash|      healthcare|\n",
      "|  1|  face_wash|       cosmetics|\n",
      "|  2|  body_wash|      healthcare|\n",
      "|  2|  body_wash|       cosmetics|\n",
      "|  3|      cream|          beauty|\n",
      "|  4|body_lotion|          beauty|\n",
      "|  5|   hair_oil|          beauty|\n",
      "|  3|      cream|      healthcare|\n",
      "|  3|      cream|       cosmetics|\n",
      "|  4|body_lotion|      healthcare|\n",
      "|  4|body_lotion|       cosmetics|\n",
      "|  5|   hair_oil|      healthcare|\n",
      "|  5|   hair_oil|       cosmetics|\n",
      "+---+-----------+----------------+\n",
      "\n"
     ]
    }
   ],
   "source": [
    "df_prod_cat.show()"
   ]
  },
  {
   "cell_type": "markdown",
   "metadata": {},
   "source": [
    "### different tags"
   ]
  },
  {
   "cell_type": "code",
   "execution_count": 235,
   "metadata": {},
   "outputs": [
    {
     "name": "stdout",
     "output_type": "stream",
     "text": [
      "+--------------------------------------------------------------------------------------------------------------------------------------------------------------------------------------------------------------------+\n",
      "|tags                                                                                                                                                                                                                |\n",
      "+--------------------------------------------------------------------------------------------------------------------------------------------------------------------------------------------------------------------+\n",
      "|#Parent, #Repeat Borrower, #Woman-Owned Business                                                                                                                                                                    |\n",
      "|#Single, #Animals, user_favorite                                                                                                                                                                                    |\n",
      "|#Parent, #Repair Renew Replace                                                                                                                                                                                      |\n",
      "|#Health and Sanitation, #Supporting Family                                                                                                                                                                          |\n",
      "|user_favorite, #Vegan, #Biz Durable Asset, user_favorite, #Parent                                                                                                                                                   |\n",
      "|#Repeat Borrower, #Parent, #Animals, #Woman-Owned Business, #Repeat Borrower, #Animals, #Parent, #Woman-Owned Business                                                                                              |\n",
      "|user_favorite, volunteer_pick                                                                                                                                                                                       |\n",
      "|#Fabrics, #Biz Durable Asset, user_favorite                                                                                                                                                                         |\n",
      "|#Animals, #Parent, user_favorite, #Woman-Owned Business                                                                                                                                                             |\n",
      "|#Repeat Borrower, #Schooling, user_favorite                                                                                                                                                                         |\n",
      "|#Parent, #Woman-Owned Business, #Elderly                                                                                                                                                                            |\n",
      "|#Woman-Owned Business, #Parent, #Schooling                                                                                                                                                                          |\n",
      "|#Parent, #Vegan, #Repeat Borrower, #Woman-Owned Business                                                                                                                                                            |\n",
      "|#Biz Durable Asset, user_favorite, #Repair Renew Replace, #First Loan                                                                                                                                               |\n",
      "|#Elderly, user_favorite, user_favorite                                                                                                                                                                              |\n",
      "|#Biz Durable Asset, #Vegan, #Single                                                                                                                                                                                 |\n",
      "|volunteer_like, user_favorite, volunteer_pick, #Elderly                                                                                                                                                             |\n",
      "|#Vegan, user_favorite                                                                                                                                                                                               |\n",
      "|#Woman-Owned Business, user_favorite, #Fabrics, user_favorite, #Supporting Family, user_favorite, user_favorite, user_favorite, user_favorite, user_favorite, #Repeat Borrower, #Woman-Owned Business, user_favorite|\n",
      "|#Health and Sanitation, user_favorite, #Repair Renew Replace, user_favorite, #Parent                                                                                                                                |\n",
      "+--------------------------------------------------------------------------------------------------------------------------------------------------------------------------------------------------------------------+\n",
      "only showing top 20 rows\n",
      "\n"
     ]
    }
   ],
   "source": [
    "df_loans.select('tags').distinct().show(truncate=False)"
   ]
  },
  {
   "cell_type": "markdown",
   "metadata": {},
   "source": [
    "### convert dataframe to rdd and calculate tag count\n",
    "### some records doesn't have hashtags. Fill those records with ''\n",
    "### get distinct tag counts"
   ]
  },
  {
   "cell_type": "code",
   "execution_count": 236,
   "metadata": {},
   "outputs": [],
   "source": [
    "tags_w_count = df_loans.select('tags').fillna('').rdd\\\n",
    "                       .map(lambda r : r[0].replace('#', '').split(','))\\\n",
    "                       .flatMap(lambda tag : tag).distinct().count()"
   ]
  },
  {
   "cell_type": "code",
   "execution_count": 237,
   "metadata": {},
   "outputs": [
    {
     "data": {
      "text/plain": [
       "85"
      ]
     },
     "execution_count": 237,
     "metadata": {},
     "output_type": "execute_result"
    }
   ],
   "source": [
    "tags_w_count"
   ]
  },
  {
   "cell_type": "markdown",
   "metadata": {},
   "source": [
    "### use rdd map, flatmap, and reduceByKey for calculating the number of tags"
   ]
  },
  {
   "cell_type": "code",
   "execution_count": 126,
   "metadata": {},
   "outputs": [],
   "source": [
    "tags_w_count = df_loans.select('tags').fillna('').rdd.map(lambda r : r[0].replace('#', '').split(','))\\\n",
    ".flatMap(lambda tag : tag).map(lambda tag : tag.strip()).map(lambda tag : (tag, 1)).reduceByKey(lambda x,y : x+y).collect()"
   ]
  },
  {
   "cell_type": "markdown",
   "metadata": {},
   "source": [
    "### print tags with count"
   ]
  },
  {
   "cell_type": "code",
   "execution_count": 127,
   "metadata": {
    "collapsed": true
   },
   "outputs": [
    {
     "name": "stdout",
     "output_type": "stream",
     "text": [
      "('', 598592)\n",
      "('Repair Renew Replace', 33509)\n",
      "('Inspiring Story', 4917)\n",
      "('Orphan', 968)\n",
      "('Post-disbursed', 3397)\n",
      "('Parent', 407990)\n",
      "('Schooling', 122143)\n",
      "('user_favorite', 799424)\n",
      "('Vegan', 99166)\n",
      "('Interesting Photo', 6642)\n",
      "('Refugee', 7372)\n",
      "('cow', 2)\n",
      "('Fabrics', 49821)\n",
      "('Woman-Owned Business', 392456)\n",
      "('Health and Sanitation', 86181)\n",
      "('Repeat Borrower', 227790)\n",
      "('Technology', 65489)\n",
      "('Job Creator', 18938)\n",
      "('Team Guys Holding Fish', 238)\n",
      "('Married', 132)\n",
      "('US immigrant', 13)\n",
      "('reserved_crisis_support_loan', 7)\n",
      "('Biz Durable Asset', 80637)\n",
      "('Supporting Family', 40896)\n",
      "('Unique', 7312)\n",
      "('Widowed', 24249)\n",
      "('Female Education', 12809)\n",
      "('Single', 33934)\n",
      "('Tourism', 258)\n",
      "('Powerful Story', 52)\n",
      "('Elderly', 157643)\n",
      "('US Black-Owned Business', 4)\n",
      "('Sustainable Ag', 32116)\n",
      "('Low-profit FP', 8653)\n",
      "('First Loan', 41385)\n",
      "('Eco-friendly', 116770)\n",
      "('Animals', 126350)\n",
      "('volunteer_pick', 55369)\n",
      "('Hidden Gem', 1773)\n",
      "('beauty', 2)\n",
      "('Single Parent', 42414)\n",
      "('Trees', 15042)\n",
      "('volunteer_like', 32446)\n",
      "('Latinx/Hispanic-Owned Business', 3)\n"
     ]
    }
   ],
   "source": [
    "for tag in tags_w_count:\n",
    "    print(tag)"
   ]
  },
  {
   "cell_type": "markdown",
   "metadata": {},
   "source": [
    "### compute basic statistics for numeric and string column"
   ]
  },
  {
   "cell_type": "code",
   "execution_count": 128,
   "metadata": {
    "collapsed": true
   },
   "outputs": [
    {
     "name": "stdout",
     "output_type": "stream",
     "text": [
      "+-------+------------------+--------------------+-----------------+--------------------+----------------------+------------------+------------------+--------+-------------+-----------+--------------------+------------+------------+--------------------+---------------+-------------------------------+--------+------------------+--------------------+-----------------------+--------------------+--------------------+-----------------+------------------+-------------------+-------------------+--------------------+--------------------+--------------------+------------------+------------------+\n",
      "|summary|           loan_id|           loan_name|original_language|         description|description_translated|     funded_amount|       loan_amount|  status|activity_name|sector_name|            loan_use|country_code|country_name|           town_name|currency_policy|currency_exchange_coverage_rate|currency|        partner_id|         posted_time|planned_expiration_time|       disburse_time|         raised_time|      lender_term| num_lenders_total|num_journal_entries|   num_bulk_entries|                tags|    borrower_genders|   borrower_pictured|repayment_interval|distribution_model|\n",
      "+-------+------------------+--------------------+-----------------+--------------------+----------------------+------------------+------------------+--------+-------------+-----------+--------------------+------------+------------+--------------------+---------------+-------------------------------+--------+------------------+--------------------+-----------------------+--------------------+--------------------+-----------------+------------------+-------------------+-------------------+--------------------+--------------------+--------------------+------------------+------------------+\n",
      "|  count|           1595823|             1558387|          1560908|             1560898|               1317037|           1595823|           1595823| 1595823|      1595823|    1595823|             1560900|     1595823|     1595823|             1474289|        1595823|                        1595823| 1595823|           1595823|             1595823|                1450162|             1595823|             1513481|          1595823|           1595823|            1595823|            1595823|              997235|             1560908|             1560908|           1595823|           1595823|\n",
      "|   mean|1154748.6184708455|                 NaN|             null|                null|                  null| 687.7538079097744| 723.6705731149382|    null|         null|       null|            129963.0|        null|        null|                null|           null|            0.10330274723473062|    null|185.60437968371178|                null|                   null|                null|                null|13.21331250395564|19.313378739371473| 1.5228637511804255| 1.1354968564809507|                null|                null|                null|              null|              null|\n",
      "| stddev| 548788.2701490405|                 NaN|             null|                null|                  null|1061.5414952291262|1156.4981216748442|    null|         null|       null|                null|        null|        null|                null|           null|            0.04180740886156035|    null|112.46246793217996|                null|                   null|                null|                null|7.280831399872033|28.961428515484418| 0.9908612153682953|0.47199670866894644|                null|                null|                null|              null|              null|\n",
      "|    min|           1000000|                 ...|           Arabic|                 ...|                   ...|               0.0|              25.0| expired|   Adult Care|Agriculture|                    |          AF| Afghanistan|# 22 Jose Abad Sa...|         shared|                            0.0|     ALL|               4.0|2009-01-26 03:11:...|   2012-01-31 03:00:...|2009-01-22 08:00:...|2009-01-28 11:00:...|              2.0|                 0|                  1|                  1|            #Animals|           FATOUMATA|           FATOUMATA|            DIAMY |           AMINATA|\n",
      "|    max|            999999|‘Kpangmanga-Bagur...|       Vietnamese|•\\tMohamet Joseph...|  ”Luchadoras de Sa...|          424100.0|          499825.0|refunded|    Wholesale|  Wholesale|“to buy refillabl...|          ZW|    Zimbabwe|               İZMİT|         shared|                            0.2|     ZWD|             622.0|2021-09-08 07:02:...|   2021-10-08 07:30:...|2021-10-20 07:00:...|2021-09-08 07:29:...|            195.0|             11601|                 29|                 16|volunteer_pick, v...|male, male, male,...|true, true, true,...|           monthly|     field_partner|\n",
      "+-------+------------------+--------------------+-----------------+--------------------+----------------------+------------------+------------------+--------+-------------+-----------+--------------------+------------+------------+--------------------+---------------+-------------------------------+--------+------------------+--------------------+-----------------------+--------------------+--------------------+-----------------+------------------+-------------------+-------------------+--------------------+--------------------+--------------------+------------------+------------------+\n",
      "\n"
     ]
    }
   ],
   "source": [
    "df_loans.describe().show()"
   ]
  },
  {
   "cell_type": "code",
   "execution_count": 129,
   "metadata": {
    "collapsed": true
   },
   "outputs": [
    {
     "name": "stdout",
     "output_type": "stream",
     "text": [
      "+-------+------------------+--------------------+-----------------+--------------------+----------------------+------------------+------------------+--------+-------------+-----------+--------------------+------------+------------+--------------------+---------------+-------------------------------+--------+------------------+--------------------+-----------------------+--------------------+--------------------+-----------------+------------------+-------------------+-------------------+--------------------+--------------------+--------------------+------------------+------------------+\n",
      "|summary|           loan_id|           loan_name|original_language|         description|description_translated|     funded_amount|       loan_amount|  status|activity_name|sector_name|            loan_use|country_code|country_name|           town_name|currency_policy|currency_exchange_coverage_rate|currency|        partner_id|         posted_time|planned_expiration_time|       disburse_time|         raised_time|      lender_term| num_lenders_total|num_journal_entries|   num_bulk_entries|                tags|    borrower_genders|   borrower_pictured|repayment_interval|distribution_model|\n",
      "+-------+------------------+--------------------+-----------------+--------------------+----------------------+------------------+------------------+--------+-------------+-----------+--------------------+------------+------------+--------------------+---------------+-------------------------------+--------+------------------+--------------------+-----------------------+--------------------+--------------------+-----------------+------------------+-------------------+-------------------+--------------------+--------------------+--------------------+------------------+------------------+\n",
      "|  count|           1595823|             1558387|          1560908|             1560898|               1317037|           1595823|           1595823| 1595823|      1595823|    1595823|             1560900|     1595823|     1595823|             1474289|        1595823|                        1595823| 1595823|           1595823|             1595823|                1450162|             1595823|             1513481|          1595823|           1595823|            1595823|            1595823|              997235|             1560908|             1560908|           1595823|           1595823|\n",
      "|   mean|1154748.6184708455|                 NaN|             null|                null|                  null| 687.7538079097744| 723.6705731149382|    null|         null|       null|            129963.0|        null|        null|                null|           null|            0.10330274723473062|    null|185.60437968371178|                null|                   null|                null|                null|13.21331250395564|19.313378739371473| 1.5228637511804255| 1.1354968564809507|                null|                null|                null|              null|              null|\n",
      "| stddev| 548788.2701490405|                 NaN|             null|                null|                  null|1061.5414952291262|1156.4981216748442|    null|         null|       null|                null|        null|        null|                null|           null|            0.04180740886156035|    null|112.46246793217996|                null|                   null|                null|                null|7.280831399872033|28.961428515484418| 0.9908612153682953|0.47199670866894644|                null|                null|                null|              null|              null|\n",
      "|    min|           1000000|                 ...|           Arabic|                 ...|                   ...|               0.0|              25.0| expired|   Adult Care|Agriculture|                    |          AF| Afghanistan|# 22 Jose Abad Sa...|         shared|                            0.0|     ALL|               4.0|2009-01-26 03:11:...|   2012-01-31 03:00:...|2009-01-22 08:00:...|2009-01-28 11:00:...|              2.0|                 0|                  1|                  1|            #Animals|           FATOUMATA|           FATOUMATA|            DIAMY |           AMINATA|\n",
      "|    25%|          706819.0|                 NaN|             null|                null|                  null|             250.0|             250.0|    null|         null|       null|            129963.0|        null|        null|                null|           null|                            0.1|    null|             125.0|                null|                   null|                null|                null|              8.0|                 7|                  1|                  1|                null|                null|                null|              null|              null|\n",
      "|    50%|         1159998.0|                 NaN|             null|                null|                  null|             425.0|             450.0|    null|         null|       null|            129963.0|        null|        null|                null|           null|                            0.1|    null|             145.0|                null|                   null|                null|                null|             13.0|                12|                  1|                  1|                null|                null|                null|              null|              null|\n",
      "|    75%|         1602342.0|                 NaN|             null|                null|                  null|             775.0|             850.0|    null|         null|       null|            129963.0|        null|        null|                null|           null|                            0.1|    null|             204.0|                null|                   null|                null|                null|             14.0|                23|                  2|                  1|                null|                null|                null|              null|              null|\n",
      "|    max|            999999|‘Kpangmanga-Bagur...|       Vietnamese|•\\tMohamet Joseph...|  ”Luchadoras de Sa...|          424100.0|          499825.0|refunded|    Wholesale|  Wholesale|“to buy refillabl...|          ZW|    Zimbabwe|               İZMİT|         shared|                            0.2|     ZWD|             622.0|2021-09-08 07:02:...|   2021-10-08 07:30:...|2021-10-20 07:00:...|2021-09-08 07:29:...|            195.0|             11601|                 29|                 16|volunteer_pick, v...|male, male, male,...|true, true, true,...|           monthly|     field_partner|\n",
      "+-------+------------------+--------------------+-----------------+--------------------+----------------------+------------------+------------------+--------+-------------+-----------+--------------------+------------+------------+--------------------+---------------+-------------------------------+--------+------------------+--------------------+-----------------------+--------------------+--------------------+-----------------+------------------+-------------------+-------------------+--------------------+--------------------+--------------------+------------------+------------------+\n",
      "\n"
     ]
    }
   ],
   "source": [
    "df_loans.summary().show()"
   ]
  },
  {
   "cell_type": "markdown",
   "metadata": {},
   "source": [
    "### explode"
   ]
  },
  {
   "cell_type": "code",
   "execution_count": 133,
   "metadata": {},
   "outputs": [],
   "source": [
    "from pyspark.sql import Row"
   ]
  },
  {
   "cell_type": "code",
   "execution_count": 134,
   "metadata": {},
   "outputs": [],
   "source": [
    "eDF = spark.createDataFrame([Row(a=1, intlist=[1,2,3], mapfield={\"a\": \"b\"})])"
   ]
  },
  {
   "cell_type": "code",
   "execution_count": 238,
   "metadata": {
    "collapsed": true
   },
   "outputs": [
    {
     "name": "stdout",
     "output_type": "stream",
     "text": [
      "root\n",
      " |-- a: long (nullable = true)\n",
      " |-- intlist: array (nullable = true)\n",
      " |    |-- element: long (containsNull = true)\n",
      " |-- mapfield: map (nullable = true)\n",
      " |    |-- key: string\n",
      " |    |-- value: string (valueContainsNull = true)\n",
      "\n"
     ]
    }
   ],
   "source": [
    "eDF.printSchema()"
   ]
  },
  {
   "cell_type": "code",
   "execution_count": 137,
   "metadata": {
    "collapsed": true
   },
   "outputs": [
    {
     "name": "stdout",
     "output_type": "stream",
     "text": [
      "+---+---------+--------+\n",
      "|  a|  intlist|mapfield|\n",
      "+---+---------+--------+\n",
      "|  1|[1, 2, 3]|{a -> b}|\n",
      "+---+---------+--------+\n",
      "\n"
     ]
    }
   ],
   "source": [
    "eDF.show()"
   ]
  },
  {
   "cell_type": "code",
   "execution_count": 139,
   "metadata": {
    "collapsed": true
   },
   "outputs": [
    {
     "name": "stdout",
     "output_type": "stream",
     "text": [
      "+---+-----+\n",
      "|  a|anInt|\n",
      "+---+-----+\n",
      "|  1|    1|\n",
      "|  1|    2|\n",
      "|  1|    3|\n",
      "+---+-----+\n",
      "\n"
     ]
    }
   ],
   "source": [
    "eDF.select(f.col('a'), f.explode(eDF.intlist).alias(\"anInt\")).show()"
   ]
  },
  {
   "cell_type": "code",
   "execution_count": 141,
   "metadata": {
    "collapsed": true
   },
   "outputs": [
    {
     "name": "stdout",
     "output_type": "stream",
     "text": [
      "+---+---+-----+\n",
      "|  a|key|value|\n",
      "+---+---+-----+\n",
      "|  1|  a|    b|\n",
      "+---+---+-----+\n",
      "\n"
     ]
    }
   ],
   "source": [
    "eDF.select(f.col('a'), f.explode(eDF.mapfield).alias(\"key\", \"value\")).show()"
   ]
  },
  {
   "cell_type": "markdown",
   "metadata": {},
   "source": [
    "### concat"
   ]
  },
  {
   "cell_type": "code",
   "execution_count": 158,
   "metadata": {},
   "outputs": [
    {
     "name": "stdout",
     "output_type": "stream",
     "text": [
      "+-------+\n",
      "|      s|\n",
      "+-------+\n",
      "|abcd123|\n",
      "+-------+\n",
      "\n"
     ]
    }
   ],
   "source": [
    "df = spark.createDataFrame([('abcd','123')], ['s', 'd'])\n",
    "df.select(f.concat(df.s, df.d).alias('s')).show()"
   ]
  },
  {
   "cell_type": "markdown",
   "metadata": {},
   "source": [
    "### concat_ws"
   ]
  },
  {
   "cell_type": "code",
   "execution_count": 160,
   "metadata": {},
   "outputs": [
    {
     "name": "stdout",
     "output_type": "stream",
     "text": [
      "+--------+\n",
      "|       s|\n",
      "+--------+\n",
      "|abcd-123|\n",
      "+--------+\n",
      "\n"
     ]
    }
   ],
   "source": [
    "df = spark.createDataFrame([('abcd','123')], ['s', 'd'])\n",
    "df.select(f.concat_ws('-', df.s, df.d).alias('s')).show()"
   ]
  },
  {
   "cell_type": "markdown",
   "metadata": {},
   "source": [
    "### date operations"
   ]
  },
  {
   "cell_type": "code",
   "execution_count": 239,
   "metadata": {},
   "outputs": [],
   "source": [
    "df = spark.createDataFrame([('2022-01-16 11:28:11',)], ['ts']).withColumn('ts', f.col('ts').cast('timestamp'))"
   ]
  },
  {
   "cell_type": "code",
   "execution_count": 240,
   "metadata": {},
   "outputs": [
    {
     "name": "stdout",
     "output_type": "stream",
     "text": [
      "root\n",
      " |-- ts: timestamp (nullable = true)\n",
      "\n"
     ]
    }
   ],
   "source": [
    "df.printSchema()"
   ]
  },
  {
   "cell_type": "code",
   "execution_count": 165,
   "metadata": {},
   "outputs": [
    {
     "name": "stdout",
     "output_type": "stream",
     "text": [
      "+-------------------+\n",
      "|                 ts|\n",
      "+-------------------+\n",
      "|2022-01-16 11:28:11|\n",
      "+-------------------+\n",
      "\n"
     ]
    }
   ],
   "source": [
    "df.show()"
   ]
  },
  {
   "cell_type": "code",
   "execution_count": 167,
   "metadata": {},
   "outputs": [
    {
     "name": "stdout",
     "output_type": "stream",
     "text": [
      "+-------------------+----------+\n",
      "|                 ts|        dt|\n",
      "+-------------------+----------+\n",
      "|2022-01-16 11:28:11|2022-01-16|\n",
      "+-------------------+----------+\n",
      "\n"
     ]
    }
   ],
   "source": [
    "df.withColumn('dt', f.to_date('ts')).show()"
   ]
  },
  {
   "cell_type": "code",
   "execution_count": 168,
   "metadata": {},
   "outputs": [
    {
     "name": "stdout",
     "output_type": "stream",
     "text": [
      "+-------------------+-----+\n",
      "|                 ts|month|\n",
      "+-------------------+-----+\n",
      "|2022-01-16 11:28:11|    1|\n",
      "+-------------------+-----+\n",
      "\n"
     ]
    }
   ],
   "source": [
    "df.withColumn('month', f.month('ts')).show()"
   ]
  },
  {
   "cell_type": "code",
   "execution_count": 169,
   "metadata": {},
   "outputs": [
    {
     "name": "stdout",
     "output_type": "stream",
     "text": [
      "+-------------------+-----+\n",
      "|                 ts|month|\n",
      "+-------------------+-----+\n",
      "|2022-01-16 11:28:11| 2022|\n",
      "+-------------------+-----+\n",
      "\n"
     ]
    }
   ],
   "source": [
    "df.withColumn('month', f.year('ts')).show()"
   ]
  },
  {
   "cell_type": "code",
   "execution_count": 171,
   "metadata": {},
   "outputs": [
    {
     "name": "stdout",
     "output_type": "stream",
     "text": [
      "+-------------------+----------+\n",
      "|                 ts|weekofyear|\n",
      "+-------------------+----------+\n",
      "|2022-01-16 11:28:11|         2|\n",
      "+-------------------+----------+\n",
      "\n"
     ]
    }
   ],
   "source": [
    "df.withColumn('weekofyear', f.weekofyear('ts')).show()"
   ]
  },
  {
   "cell_type": "code",
   "execution_count": 173,
   "metadata": {},
   "outputs": [
    {
     "name": "stdout",
     "output_type": "stream",
     "text": [
      "+-------------------+---------+\n",
      "|                 ts|dayofweek|\n",
      "+-------------------+---------+\n",
      "|2022-01-16 11:28:11|        1|\n",
      "+-------------------+---------+\n",
      "\n"
     ]
    }
   ],
   "source": [
    "df.withColumn('dayofweek', f.dayofweek('ts')).show()"
   ]
  },
  {
   "cell_type": "code",
   "execution_count": 174,
   "metadata": {},
   "outputs": [
    {
     "name": "stdout",
     "output_type": "stream",
     "text": [
      "+-------------------+----------+\n",
      "|                 ts|dayofmonth|\n",
      "+-------------------+----------+\n",
      "|2022-01-16 11:28:11|        16|\n",
      "+-------------------+----------+\n",
      "\n"
     ]
    }
   ],
   "source": [
    "df.withColumn('dayofmonth', f.dayofmonth('ts')).show()"
   ]
  },
  {
   "cell_type": "code",
   "execution_count": 176,
   "metadata": {},
   "outputs": [
    {
     "name": "stdout",
     "output_type": "stream",
     "text": [
      "+-------------------+---------+\n",
      "|                 ts|dayofyear|\n",
      "+-------------------+---------+\n",
      "|2022-01-16 11:28:11|       16|\n",
      "+-------------------+---------+\n",
      "\n"
     ]
    }
   ],
   "source": [
    "df.withColumn('dayofyear', f.dayofyear('ts')).show()"
   ]
  },
  {
   "cell_type": "code",
   "execution_count": null,
   "metadata": {},
   "outputs": [],
   "source": []
  }
 ],
 "metadata": {
  "kernelspec": {
   "display_name": "Python 3 (ipykernel)",
   "language": "python",
   "name": "python3"
  },
  "language_info": {
   "codemirror_mode": {
    "name": "ipython",
    "version": 3
   },
   "file_extension": ".py",
   "mimetype": "text/x-python",
   "name": "python",
   "nbconvert_exporter": "python",
   "pygments_lexer": "ipython3",
   "version": "3.9.16"
  }
 },
 "nbformat": 4,
 "nbformat_minor": 4
}
